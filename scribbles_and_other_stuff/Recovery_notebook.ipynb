{
 "cells": [
  {
   "cell_type": "code",
   "execution_count": 1,
   "id": "turkish-regard",
   "metadata": {},
   "outputs": [],
   "source": [
    "from compChem.Hartree_Fock import Molecule # package is available on github\n",
    "from scipy.linalg import eigh, eig\n",
    "import numpy as np\n",
    "import psi4"
   ]
  },
  {
   "cell_type": "code",
   "execution_count": 2,
   "id": "fitted-marketing",
   "metadata": {},
   "outputs": [
    {
     "output_type": "execute_result",
     "data": {
      "text/plain": [
       "500000000"
      ]
     },
     "metadata": {},
     "execution_count": 2
    }
   ],
   "source": [
    "numpy_memory = 4\n",
    "psi4.set_memory(int(5e8))"
   ]
  },
  {
   "cell_type": "code",
   "execution_count": 3,
   "id": "ancient-magnet",
   "metadata": {},
   "outputs": [],
   "source": [
    "class ConstrainedMolecule:\n",
    "    def __init__(self, geom_file, radical=False):\n",
    "        \"\"\"initiation method, will take in a geometry\"\"\"\n",
    "        #this parameter contains all parameters and methods from the Molecule class\n",
    "        self.id = Molecule(geom_file)\n",
    "        self.id.setGuess()\n",
    "        \n",
    "    \n",
    "    def setChargeDensity(self, new_matrix):\n",
    "        \"\"\"sets the pMatrix to a new value\"\"\"\n",
    "        self.pMatrix = new_matrix\n",
    "        \n",
    "    \n",
    "    def basischanger(self):\n",
    "        \"\"\"\n",
    "        changes to NO basis, applies constraint, then changes back\n",
    "        \"\"\"\n",
    "        # transform p to MO basis, where mo basis = the eigenfunctions of the f_a operator\n",
    "        a = self.id.getDensityMatrix(\"alpha\")\n",
    "        b = self.id.getDensityMatrix(\"beta\")\n",
    "        f_a, f_b = self.id.displayFockMatrix(\"alpha\"), self.id.displayFockMatrix(\"beta\")\n",
    "        p = (a+b)/2\n",
    "        c = eigh(f_a, self.id.overlap)[1] # we only need the c matrix, not the eigenvalues themselves,\n",
    "        \n",
    "        delta = (f_b-f_a)/2\n",
    "        f_cs = (f_a+f_b)/2\n",
    "        # pay attention, c matrices are not unitary\n",
    "        c_inv = np.linalg.inv(c) # we need the inverse for later\n",
    "        p_trans = np.einsum(\"pq, qr, rs->ps\", c_inv, p, c_inv.T, optimize=True)\n",
    "        delta_trans = np.einsum(\"pq, qr, rs->ps\", c.T, delta, c, optimize=True)\n",
    "        \n",
    "        \n",
    "         # transform the fock matrices to NO basis\n",
    "        d = eigh(p_trans)[1]\n",
    "        d = d[:, ::-1] #invert all collumns\n",
    "    \n",
    "        d_inv = np.linalg.inv(d)\n",
    "        delta_no = np.einsum(\"pq, qr, rs->ps\", d.T, delta_trans, d, optimize=True)\n",
    "        \n",
    "        alpha = self.id.alpha \n",
    "        beta = self.id.beta\n",
    "        #alter first blocks\n",
    "        \n",
    "        delta_no[alpha:, :beta] = 0\n",
    "        delta_no[:beta, alpha:] = 0\n",
    "        delta_ao = np.einsum(\"pq, qr, rs->ps\",c_inv.T.dot(d_inv.T), delta_no, d_inv.dot(c_inv), optimize=True)\n",
    "        \n",
    "        \n",
    "        return f_cs - delta_ao, f_cs + delta_ao\n",
    "    \n",
    "    \n",
    "    def iteratinator(self):\n",
    "        \"\"\"adapted version of the original iterator function in the compChem.Hartree_Fock Molecule object\"\"\"\n",
    "        # setting up entry parameters for the while loop\n",
    "        E_new = 0  \n",
    "        E_old = 0\n",
    "        convergence = False\n",
    "\n",
    "        # step 2: start iterating\n",
    "        itercount = 0\n",
    "        while not convergence and itercount < 5000:\n",
    "            # calculating block: calculates energies\n",
    "            E_new = self.id.getElectronicEnergy()\n",
    "            E_total = self.id.getTotalEnergy()\n",
    "\n",
    "            # generating block: generates new matrices UHF: account for alpha and beta, first we do the CUHF alteration\n",
    "            f_a_n, f_b_n = self.basischanger()\n",
    "            self.id.setGuess(f_a_n, \"alpha\")\n",
    "            self.id.setGuess(f_b_n, \"beta\")\n",
    "\n",
    "            # comparing block: will answer the \"Are we there yet?\" question\n",
    "            if abs(E_old - E_new) < self.id.converge:\n",
    "                convergence = True\n",
    "\n",
    "\n",
    "            # maintenance block: keeps everything going\n",
    "            #print(f\"iteration: {itercount}, E_tot: {E_total: .8f}, E_elek: {E_new: .8f}, deltaE: {E_new - E_old: .8f}\")\n",
    "            E_old = E_new\n",
    "\n",
    "            itercount += 1\n",
    "        \n",
    "        return E_total\n",
    "    \n",
    "    def setElectrons(self, alpha, beta):\n",
    "        \"\"\"sets the amount electrons of each spin\"\"\"\n",
    "        self.id.alpha = alpha\n",
    "        self.id.beta = beta"
   ]
  },
  {
   "cell_type": "code",
   "execution_count": null,
   "id": "educational-yield",
   "metadata": {},
   "outputs": [],
   "source": []
  },
  {
   "cell_type": "code",
   "execution_count": 81,
   "id": "backed-paragraph",
   "metadata": {},
   "outputs": [
    {
     "data": {
      "text/plain": [
       "-1.5031118631777232"
      ]
     },
     "execution_count": 81,
     "metadata": {},
     "output_type": "execute_result"
    }
   ],
   "source": [
    "psi4.set_options({\"BASIS\": \"cc-pvdz\", 'reference': 'cuhf'})\n",
    "h1 = ConstrainedMolecule(\"\"\"\n",
    "H 0 0 0\n",
    "H 0 0.86602540378 0.5\n",
    "H 0 0 1\n",
    "units angstrom\"\"\")\n",
    "h1.id.setConvergence(1e-20)\n",
    "h1.iteratinator()"
   ]
  },
  {
   "cell_type": "code",
   "execution_count": null,
   "id": "utility-neighborhood",
   "metadata": {},
   "outputs": [],
   "source": [
    "h3 = Molecule"
   ]
  },
  {
   "cell_type": "code",
   "execution_count": 84,
   "id": "looking-technique",
   "metadata": {},
   "outputs": [
    {
     "data": {
      "text/plain": [
       "-115.0106431221825"
      ]
     },
     "execution_count": 84,
     "metadata": {},
     "output_type": "execute_result"
    }
   ],
   "source": [
    "psi4.set_options({\"basis\":\"STO-3G\", 'reference':'cuhf'})\n",
    "allyl = ConstrainedMolecule(\"\"\"\n",
    "0 2\n",
    "H\n",
    "C 1 r2\n",
    "C 2 r3 1 a3\n",
    "C 2 r3 1 a3 3 180.\n",
    "H 3 r5 2 a5 1 0.\n",
    "H 4 r5 2 a5 1 0.\n",
    "H 3 r7 2 a7 1 180.\n",
    "H 4 r7 2 a7 1 180.\n",
    "\n",
    "r2=1.08424658\n",
    "r3=1.40526604\n",
    "r5=1.08095381\n",
    "r7=1.08131649\n",
    "a3=117.99450641\n",
    "a5=121.41544408\n",
    "a7=121.21891262\n",
    "symmetry c1\n",
    "\n",
    "\"\"\")\n",
    "allyl.id.setConvergence(1e-12)\n",
    "a = allyl.id.alpha\n",
    "b = allyl.id.beta\n",
    "tot = a + b -1\n",
    "\n",
    "allyl.setElectrons(a,b) \n",
    "allyl.iteratinator()"
   ]
  },
  {
   "cell_type": "code",
   "execution_count": 12,
   "id": "trained-security",
   "metadata": {},
   "outputs": [
    {
     "data": {
      "text/plain": [
       "-115.00929345804687"
      ]
     },
     "execution_count": 12,
     "metadata": {},
     "output_type": "execute_result"
    }
   ],
   "source": [
    "psi4.energy(\"scf\")"
   ]
  },
  {
   "cell_type": "code",
   "execution_count": 7,
   "id": "sublime-leave",
   "metadata": {},
   "outputs": [
    {
     "data": {
      "text/plain": [
       "-76.02665366188843"
      ]
     },
     "execution_count": 7,
     "metadata": {},
     "output_type": "execute_result"
    }
   ],
   "source": [
    "psi4.set_options({\"basis\":\"cc-pvdz\",'reference':'cuhf'})\n",
    "m2 = ConstrainedMolecule(\"\"\"\n",
    "O\n",
    "H 1 0.96\n",
    "H 1 0.96 2 104.5\n",
    "symmetry c1\n",
    "\"\"\")\n",
    "m2.id.setConvergence(1e-20)\n",
    "m2.iteratinator()"
   ]
  },
  {
   "cell_type": "code",
   "execution_count": 8,
   "id": "breathing-needle",
   "metadata": {},
   "outputs": [
    {
     "data": {
      "text/plain": [
       "-76.02663273455212"
      ]
     },
     "execution_count": 8,
     "metadata": {},
     "output_type": "execute_result"
    }
   ],
   "source": [
    "mol = psi4.geometry(\"\"\"\n",
    "O\n",
    "H 1 0.96\n",
    "H 1 0.96 2 104.5\n",
    "symmetry c1\n",
    "\"\"\")\n",
    "psi4.energy('scf')"
   ]
  },
  {
   "cell_type": "code",
   "execution_count": 14,
   "id": "surgical-batch",
   "metadata": {},
   "outputs": [
    {
     "name": "stdout",
     "output_type": "stream",
     "text": [
      "\tSearching PubChem database for methane (single best match returned)\n",
      "\tFound 1 result(s)\n"
     ]
    },
    {
     "data": {
      "text/plain": [
       "-39.72658174267161"
      ]
     },
     "execution_count": 14,
     "metadata": {},
     "output_type": "execute_result"
    }
   ],
   "source": [
    "m3 = ConstrainedMolecule(\"\"\"pubchem:methane\"\"\")\n",
    "m3.iteratinator()"
   ]
  },
  {
   "cell_type": "code",
   "execution_count": 15,
   "id": "handled-blame",
   "metadata": {},
   "outputs": [
    {
     "data": {
      "text/plain": [
       "-39.7267287296455"
      ]
     },
     "execution_count": 15,
     "metadata": {},
     "output_type": "execute_result"
    }
   ],
   "source": [
    "psi4.energy(\"scf\")"
   ]
  },
  {
   "cell_type": "code",
   "execution_count": 37,
   "id": "sustainable-buffer",
   "metadata": {},
   "outputs": [
    {
     "name": "stderr",
     "output_type": "stream",
     "text": [
      "/user/gent/440/vsc44013/.local/lib/python3.7/site-packages/compChem/Hartree_Fock.py:56: FutureWarning: elementwise comparison failed; returning scalar instead, but in the future will perform elementwise comparison\n",
      "  if self.guessMatrix_a == \"empty\" and self.guessMatrix_b == \"empty\":\n"
     ]
    }
   ],
   "source": [
    "psi4.set_options({'basis': \"cc-pvdz\"})\n",
    "distances = np.arange(0.2, 10, 0.1)\n",
    "atom = ConstrainedMolecule(\"\"\"\n",
    "H\n",
    "\"\"\")\n",
    "E_elek_list = []\n",
    "E_total_list = []\n",
    "loglist = []\n",
    "\n",
    "E_H = atom.iteratinator()\n",
    "for distance in distances:\n",
    "    hydrogen = ConstrainedMolecule(\n",
    "    f\"\"\"\n",
    "    H 0 0 0\n",
    "    H {distance} 0 0\n",
    "    \n",
    "    \"\"\")\n",
    "    \n",
    "    E_total = hydrogen.iteratinator()\n",
    "    E = E_total - 2*E_H\n",
    "    logE = np.log(abs(E))\n",
    "    E_total_list.append(E_total - 2*E_H)\n",
    "    loglist.append(logE)"
   ]
  },
  {
   "cell_type": "code",
   "execution_count": 66,
   "id": "satisfied-watts",
   "metadata": {},
   "outputs": [
    {
     "data": {
      "text/plain": [
       "<matplotlib.collections.LineCollection at 0x7fa0d1c85a10>"
      ]
     },
     "execution_count": 66,
     "metadata": {},
     "output_type": "execute_result"
    },
    {
     "data": {
      "image/png": "[encoded data removed]",
      "text/plain": [
       "<Figure size 432x288 with 1 Axes>"
      ]
     },
     "metadata": {
      "needs_background": "light"
     },
     "output_type": "display_data"
    }
   ],
   "source": [
    "import matplotlib.pyplot as plt\n",
    "plt.plot(distances, E_total_list)\n",
    "plt.hlines(0, 0, 10, color=\"red\")\n",
    "plt.axis([0, 10, -0.5, 1])\n",
    "plt.vlines(1.4925, -0.4, 0.4, color=\"black\")\n",
    "plt.vlines(2.9412, -0.4, 0.4, color=\"black\")"
   ]
  },
  {
   "cell_type": "code",
   "execution_count": 70,
   "id": "sporting-smell",
   "metadata": {},
   "outputs": [
    {
     "data": {
      "text/plain": [
       "<matplotlib.collections.LineCollection at 0x7fa0d0320990>"
      ]
     },
     "execution_count": 70,
     "metadata": {},
     "output_type": "execute_result"
    },
    {
     "data": {
      "image/png": "[encoded data removed]",
      "text/plain": [
       "<Figure size 432x288 with 1 Axes>"
      ]
     },
     "metadata": {
      "needs_background": "light"
     },
     "output_type": "display_data"
    }
   ],
   "source": [
    "plt.plot(np.log(distances), loglist, color='green')\n",
    "plt.vlines(np.log(2.9412), -6, 0.4, color=\"black\")\n",
    "plt.vlines(np.log(1.4925), -6, 0.4, color=\"black\")"
   ]
  },
  {
   "cell_type": "code",
   "execution_count": 65,
   "id": "widespread-canadian",
   "metadata": {},
   "outputs": [
    {
     "data": {
      "text/plain": [
       "<matplotlib.collections.LineCollection at 0x7fa0d04943d0>"
      ]
     },
     "execution_count": 65,
     "metadata": {},
     "output_type": "execute_result"
    },
    {
     "data": {
      "image/png": "[encoded data removed]",
      "text/plain": [
       "<Figure size 432x288 with 1 Axes>"
      ]
     },
     "metadata": {
      "needs_background": "light"
     },
     "output_type": "display_data"
    }
   ],
   "source": [
    "E_array = np.array(E_total_list)\n",
    "plt.plot((distances)**-1, E_array**-1, color='green')\n",
    "plt.axis([-1, 5, -260, 60])\n",
    "plt.vlines(0.34, -250, 69, color=\"red\")"
   ]
  },
  {
   "cell_type": "code",
   "execution_count": 35,
   "id": "ecological-length",
   "metadata": {},
   "outputs": [
    {
     "name": "stderr",
     "output_type": "stream",
     "text": [
      "/user/gent/440/vsc44013/.local/lib/python3.7/site-packages/compChem/Hartree_Fock.py:56: FutureWarning: elementwise comparison failed; returning scalar instead, but in the future will perform elementwise comparison\n",
      "  if self.guessMatrix_a == \"empty\" and self.guessMatrix_b == \"empty\":\n"
     ]
    },
    {
     "data": {
      "text/plain": [
       "-0.4992784034195832"
      ]
     },
     "execution_count": 35,
     "metadata": {},
     "output_type": "execute_result"
    }
   ],
   "source": [
    "atom = ConstrainedMolecule(\"\"\"\n",
    "H\n",
    "\"\"\")\n",
    "atom.iteratinator()"
   ]
  },
  {
   "cell_type": "code",
   "execution_count": 36,
   "id": "british-elite",
   "metadata": {},
   "outputs": [
    {
     "data": {
      "text/plain": [
       "-0.49927840341958285"
      ]
     },
     "execution_count": 36,
     "metadata": {},
     "output_type": "execute_result"
    }
   ],
   "source": [
    "psi4.energy(\"scf\")"
   ]
  },
  {
   "cell_type": "markdown",
   "id": "standard-attribute",
   "metadata": {},
   "source": [
    "This value does not seem correct (UHF gives about -1.506 H for the total energy). This might be the case because the Fock operator depends on the two electron integrals have not been transformed to the correct basis yet. Can this be the case?\n"
   ]
  },
  {
   "cell_type": "code",
   "execution_count": null,
   "id": "objective-windows",
   "metadata": {},
   "outputs": [],
   "source": [
    "psi4.set_options({\"BASIS\": \"cc-pvdz\"})\n",
    "h_test = ConstrainedMolecule(\"\"\"\n",
    "H 0 0 0\n",
    "H 0 0.86602540378 0.5\n",
    "H 0 0 1\n",
    "units angstrom\"\"\")"
   ]
  },
  {
   "cell_type": "code",
   "execution_count": null,
   "id": "upset-european",
   "metadata": {},
   "outputs": [],
   "source": [
    "s = h_test.id.overlap\n",
    "s_eigh = eigh(s)\n",
    "s_diag = np.diag(s_eigh[0]**(-1/2))\n",
    "x = s_eigh[1].dot(s_diag).dot(s_eigh[1].T)\n",
    "x.T.dot(s).dot(x)"
   ]
  },
  {
   "cell_type": "code",
   "execution_count": null,
   "id": "smooth-closer",
   "metadata": {},
   "outputs": [],
   "source": [
    "a = h_test.id.getDensityMatrix('alpha')\n",
    "b = h_test.id.getDensityMatrix('beta')\n",
    "x_i = np.linalg.inv(x)\n",
    "x_i_t = np.linalg.inv(x.T)\n",
    "a_trans = x_i.dot(a).dot(x_i_t)\n",
    "b_trans = x_i.dot(b).dot(x_i_t)\n",
    "p = (a_trans + b_trans)/2\n",
    "c = eigh(p)\n",
    "c"
   ]
  },
  {
   "cell_type": "markdown",
   "id": "olive-bleeding",
   "metadata": {},
   "source": [
    "Up untill here everything should be correct (density matrices are idempotent, p matrix has correct eigenvalues). The area below is still under construction."
   ]
  },
  {
   "cell_type": "code",
   "execution_count": null,
   "id": "public-passage",
   "metadata": {},
   "outputs": [],
   "source": [
    "f_a = h_test.id.displayFockMatrix('alpha')\n",
    "f_b = h_test.id.displayFockMatrix('beta')"
   ]
  },
  {
   "cell_type": "code",
   "execution_count": null,
   "id": "olympic-avenue",
   "metadata": {},
   "outputs": [],
   "source": [
    "f_a_trans = x.dot(f_a).dot(x.T)\n",
    "f_a_no = c[1].T.dot(f_a_trans).dot(c[1])\n",
    "f_b_trans = x.dot(f_b).dot(x.T)\n",
    "f_b_no = c[1].T.dot(f_b_trans).dot(c[1])"
   ]
  },
  {
   "cell_type": "markdown",
   "id": "exterior-visitor",
   "metadata": {},
   "source": [
    "This expression seems a bit too simple. Nevertheless, according to Tsuchimochi & Scuseria it should hold."
   ]
  },
  {
   "cell_type": "code",
   "execution_count": null,
   "id": "magnetic-saudi",
   "metadata": {
    "scrolled": true
   },
   "outputs": [],
   "source": [
    "f_cs = (f_a_no + f_b_no)/2"
   ]
  },
  {
   "cell_type": "code",
   "execution_count": null,
   "id": "suffering-hacker",
   "metadata": {},
   "outputs": [],
   "source": [
    "a = h_test.id.getDensityMatrix(\"alpha\")\n",
    "b = h_test.id.getDensityMatrix(\"beta\")\n",
    "a - b"
   ]
  },
  {
   "cell_type": "code",
   "execution_count": null,
   "id": "ancient-briefing",
   "metadata": {},
   "outputs": [],
   "source": [
    "f_b = h_test.id.displayFockMatrix(\"beta\")\n",
    "f_a = h_test.id.displayFockMatrix(\"alpha\")"
   ]
  },
  {
   "cell_type": "code",
   "execution_count": null,
   "id": "prompt-regression",
   "metadata": {},
   "outputs": [],
   "source": [
    "f_cs = (f_a + f_b)/2"
   ]
  },
  {
   "cell_type": "code",
   "execution_count": null,
   "id": "floppy-hypothesis",
   "metadata": {},
   "outputs": [],
   "source": [
    "a = h_test.id.getDensityMatrix(\"alpha\")\n",
    "b = h_test.id.getDensityMatrix(\"beta\")\n",
    "p = (a + b)/2"
   ]
  },
  {
   "cell_type": "code",
   "execution_count": null,
   "id": "jewish-affiliation",
   "metadata": {},
   "outputs": [],
   "source": [
    "c1, c = eigh(f_a, h_test.id.overlap)\n",
    "c_inv = np.linalg.inv(c)\n",
    "c_inv"
   ]
  },
  {
   "cell_type": "code",
   "execution_count": null,
   "id": "geographic-onion",
   "metadata": {},
   "outputs": [],
   "source": [
    "d = c_inv.T.dot(p).dot(c_inv)\n",
    "o1, o = eigh(d)\n",
    "o = o[:, ::-1]\n",
    "j = o.T.dot(d).dot(o)\n",
    "j[abs(j) < 1e-10] = 0\n",
    "j"
   ]
  },
  {
   "cell_type": "code",
   "execution_count": null,
   "id": "apparent-shame",
   "metadata": {},
   "outputs": [],
   "source": [
    "f_trans = c.T.dot(f_a).dot(c)\n",
    "f_trans[abs(f_trans) < 1e-10] = 0\n",
    "f_trans"
   ]
  },
  {
   "cell_type": "code",
   "execution_count": null,
   "id": "russian-junction",
   "metadata": {},
   "outputs": [],
   "source": [
    "a_trans = c_inv.dot(a).dot(c_inv.T)\n",
    "a_no = o.T.dot(a_trans).dot(o)\n",
    "a_no[abs(a_no) < 1e-10] = 0\n",
    "a_no\n"
   ]
  },
  {
   "cell_type": "code",
   "execution_count": null,
   "id": "taken-thanksgiving",
   "metadata": {},
   "outputs": [],
   "source": [
    "o.dot(a_no).dot(o.T)"
   ]
  },
  {
   "cell_type": "code",
   "execution_count": null,
   "id": "demographic-tiger",
   "metadata": {},
   "outputs": [],
   "source": [
    "a_trans"
   ]
  },
  {
   "cell_type": "code",
   "execution_count": null,
   "id": "monthly-south",
   "metadata": {},
   "outputs": [],
   "source": [
    "y = eigh(p, h_test.id.overlap)"
   ]
  },
  {
   "cell_type": "code",
   "execution_count": null,
   "id": "suburban-surge",
   "metadata": {},
   "outputs": [],
   "source": [
    "n = np.array([[1,2], [2,3]])\n",
    "v = eigh(n)\n",
    "v"
   ]
  },
  {
   "cell_type": "code",
   "execution_count": null,
   "id": "brief-sector",
   "metadata": {},
   "outputs": [],
   "source": [
    "v[1].dot(n).dot(v[1].T)"
   ]
  },
  {
   "cell_type": "code",
   "execution_count": null,
   "id": "arranged-world",
   "metadata": {},
   "outputs": [],
   "source": [
    "o.T.dot(o)"
   ]
  },
  {
   "cell_type": "code",
   "execution_count": 5,
   "id": "standard-hartford",
   "metadata": {
    "tags": [
     "outputPrepend"
    ]
   },
   "outputs": [
    {
     "output_type": "stream",
     "name": "stderr",
     "text": [
      "  0.00000000, rmsD:  0.00000000\n",
      "iteration: 224, E_tot: -1.50311186, E_elek: -3.09064350, deltaE: -0.00000000, rmsD:  0.00000000\n",
      "iteration: 225, E_tot: -1.50311186, E_elek: -3.09064350, deltaE: -0.00000000, rmsD:  0.00000000\n",
      "iteration: 226, E_tot: -1.50311186, E_elek: -3.09064350, deltaE:  0.00000000, rmsD:  0.00000000\n",
      "iteration: 227, E_tot: -1.50311186, E_elek: -3.09064350, deltaE:  0.00000000, rmsD:  0.00000000\n",
      "iteration: 228, E_tot: -1.50311186, E_elek: -3.09064350, deltaE: -0.00000000, rmsD:  0.00000000\n",
      "iteration: 229, E_tot: -1.50311186, E_elek: -3.09064350, deltaE: -0.00000000, rmsD:  0.00000000\n",
      "iteration: 230, E_tot: -1.50311186, E_elek: -3.09064350, deltaE:  0.00000000, rmsD:  0.00000000\n",
      "iteration: 231, E_tot: -1.50311186, E_elek: -3.09064350, deltaE: -0.00000000, rmsD:  0.00000000\n",
      "iteration: 232, E_tot: -1.50311186, E_elek: -3.09064350, deltaE:  0.00000000, rmsD:  0.00000000\n",
      "iteration: 233, E_tot: -1.50311186, E_elek: -3.09064350, deltaE: -0.00000000, rmsD:  0.00000000\n",
      "iteration: 234, E_tot: -1.50311186, E_elek: -3.09064350, deltaE: -0.00000000, rmsD:  0.00000000\n",
      "iteration: 235, E_tot: -1.50311186, E_elek: -3.09064350, deltaE: -0.00000000, rmsD:  0.00000000\n",
      "iteration: 236, E_tot: -1.50311186, E_elek: -3.09064350, deltaE:  0.00000000, rmsD:  0.00000000\n",
      "iteration: 237, E_tot: -1.50311186, E_elek: -3.09064350, deltaE: -0.00000000, rmsD:  0.00000000\n",
      "iteration: 238, E_tot: -1.50311186, E_elek: -3.09064350, deltaE:  0.00000000, rmsD:  0.00000000\n",
      "iteration: 239, E_tot: -1.50311186, E_elek: -3.09064350, deltaE:  0.00000000, rmsD:  0.00000000\n",
      "iteration: 240, E_tot: -1.50311186, E_elek: -3.09064350, deltaE: -0.00000000, rmsD:  0.00000000\n",
      "iteration: 241, E_tot: -1.50311186, E_elek: -3.09064350, deltaE:  0.00000000, rmsD:  0.00000000\n",
      "iteration: 242, E_tot: -1.50311186, E_elek: -3.09064350, deltaE: -0.00000000, rmsD:  0.00000000\n",
      "iteration: 243, E_tot: -1.50311186, E_elek: -3.09064350, deltaE:  0.00000000, rmsD:  0.00000000\n",
      "iteration: 244, E_tot: -1.50311186, E_elek: -3.09064350, deltaE: -0.00000000, rmsD:  0.00000000\n",
      "iteration: 245, E_tot: -1.50311186, E_elek: -3.09064350, deltaE: -0.00000000, rmsD:  0.00000000\n",
      "iteration: 246, E_tot: -1.50311186, E_elek: -3.09064350, deltaE:  0.00000000, rmsD:  0.00000000\n",
      "iteration: 247, E_tot: -1.50311186, E_elek: -3.09064350, deltaE:  0.00000000, rmsD:  0.00000000\n",
      "iteration: 248, E_tot: -1.50311186, E_elek: -3.09064350, deltaE: -0.00000000, rmsD:  0.00000000\n",
      "iteration: 249, E_tot: -1.50311186, E_elek: -3.09064350, deltaE:  0.00000000, rmsD:  0.00000000\n",
      "iteration: 250, E_tot: -1.50311186, E_elek: -3.09064350, deltaE:  0.00000000, rmsD:  0.00000000\n",
      "iteration: 251, E_tot: -1.50311186, E_elek: -3.09064350, deltaE: -0.00000000, rmsD:  0.00000000\n",
      "iteration: 252, E_tot: -1.50311186, E_elek: -3.09064350, deltaE:  0.00000000, rmsD:  0.00000000\n",
      "iteration: 253, E_tot: -1.50311186, E_elek: -3.09064350, deltaE:  0.00000000, rmsD:  0.00000000\n",
      "iteration: 254, E_tot: -1.50311186, E_elek: -3.09064350, deltaE:  0.00000000, rmsD:  0.00000000\n",
      "iteration: 255, E_tot: -1.50311186, E_elek: -3.09064350, deltaE:  0.00000000, rmsD:  0.00000000\n",
      "iteration: 256, E_tot: -1.50311186, E_elek: -3.09064350, deltaE: -0.00000000, rmsD:  0.00000000\n",
      "iteration: 257, E_tot: -1.50311186, E_elek: -3.09064350, deltaE:  0.00000000, rmsD:  0.00000000\n",
      "iteration: 258, E_tot: -1.50311186, E_elek: -3.09064350, deltaE:  0.00000000, rmsD:  0.00000000\n",
      "iteration: 259, E_tot: -1.50311186, E_elek: -3.09064350, deltaE: -0.00000000, rmsD:  0.00000000\n",
      "iteration: 260, E_tot: -1.50311186, E_elek: -3.09064350, deltaE: -0.00000000, rmsD:  0.00000000\n",
      "iteration: 261, E_tot: -1.50311186, E_elek: -3.09064350, deltaE:  0.00000000, rmsD:  0.00000000\n",
      "iteration: 262, E_tot: -1.50311186, E_elek: -3.09064350, deltaE:  0.00000000, rmsD:  0.00000000\n",
      "iteration: 263, E_tot: -1.50311186, E_elek: -3.09064350, deltaE: -0.00000000, rmsD:  0.00000000\n",
      "iteration: 264, E_tot: -1.50311186, E_elek: -3.09064350, deltaE:  0.00000000, rmsD:  0.00000000\n",
      "iteration: 265, E_tot: -1.50311186, E_elek: -3.09064350, deltaE: -0.00000000, rmsD:  0.00000000\n",
      "iteration: 266, E_tot: -1.50311186, E_elek: -3.09064350, deltaE: -0.00000000, rmsD:  0.00000000\n",
      "iteration: 267, E_tot: -1.50311186, E_elek: -3.09064350, deltaE: -0.00000000, rmsD:  0.00000000\n",
      "iteration: 268, E_tot: -1.50311186, E_elek: -3.09064350, deltaE:  0.00000000, rmsD:  0.00000000\n",
      "iteration: 269, E_tot: -1.50311186, E_elek: -3.09064350, deltaE:  0.00000000, rmsD:  0.00000000\n",
      "iteration: 270, E_tot: -1.50311186, E_elek: -3.09064350, deltaE:  0.00000000, rmsD:  0.00000000\n",
      "iteration: 271, E_tot: -1.50311186, E_elek: -3.09064350, deltaE: -0.00000000, rmsD:  0.00000000\n",
      "iteration: 272, E_tot: -1.50311186, E_elek: -3.09064350, deltaE:  0.00000000, rmsD:  0.00000000\n",
      "iteration: 273, E_tot: -1.50311186, E_elek: -3.09064350, deltaE: -0.00000000, rmsD:  0.00000000\n",
      "iteration: 274, E_tot: -1.50311186, E_elek: -3.09064350, deltaE:  0.00000000, rmsD:  0.00000000\n",
      "iteration: 275, E_tot: -1.50311186, E_elek: -3.09064350, deltaE:  0.00000000, rmsD:  0.00000000\n",
      "iteration: 276, E_tot: -1.50311186, E_elek: -3.09064350, deltaE:  0.00000000, rmsD:  0.00000000\n",
      "iteration: 277, E_tot: -1.50311186, E_elek: -3.09064350, deltaE:  0.00000000, rmsD:  0.00000000\n",
      "iteration: 278, E_tot: -1.50311186, E_elek: -3.09064350, deltaE: -0.00000000, rmsD:  0.00000000\n",
      "iteration: 279, E_tot: -1.50311186, E_elek: -3.09064350, deltaE:  0.00000000, rmsD:  0.00000000\n",
      "iteration: 280, E_tot: -1.50311186, E_elek: -3.09064350, deltaE: -0.00000000, rmsD:  0.00000000\n",
      "iteration: 281, E_tot: -1.50311186, E_elek: -3.09064350, deltaE:  0.00000000, rmsD:  0.00000000\n",
      "iteration: 282, E_tot: -1.50311186, E_elek: -3.09064350, deltaE:  0.00000000, rmsD:  0.00000000\n",
      "iteration: 283, E_tot: -1.50311186, E_elek: -3.09064350, deltaE: -0.00000000, rmsD:  0.00000000\n",
      "iteration: 284, E_tot: -1.50311186, E_elek: -3.09064350, deltaE:  0.00000000, rmsD:  0.00000000\n",
      "iteration: 285, E_tot: -1.50311186, E_elek: -3.09064350, deltaE: -0.00000000, rmsD:  0.00000000\n",
      "iteration: 286, E_tot: -1.50311186, E_elek: -3.09064350, deltaE:  0.00000000, rmsD:  0.00000000\n",
      "iteration: 287, E_tot: -1.50311186, E_elek: -3.09064350, deltaE:  0.00000000, rmsD:  0.00000000\n",
      "iteration: 288, E_tot: -1.50311186, E_elek: -3.09064350, deltaE: -0.00000000, rmsD:  0.00000000\n",
      "iteration: 289, E_tot: -1.50311186, E_elek: -3.09064350, deltaE:  0.00000000, rmsD:  0.00000000\n",
      "iteration: 290, E_tot: -1.50311186, E_elek: -3.09064350, deltaE: -0.00000000, rmsD:  0.00000000\n",
      "iteration: 291, E_tot: -1.50311186, E_elek: -3.09064350, deltaE: -0.00000000, rmsD:  0.00000000\n",
      "iteration: 292, E_tot: -1.50311186, E_elek: -3.09064350, deltaE:  0.00000000, rmsD:  0.00000000\n",
      "iteration: 293, E_tot: -1.50311186, E_elek: -3.09064350, deltaE:  0.00000000, rmsD:  0.00000000\n",
      "iteration: 294, E_tot: -1.50311186, E_elek: -3.09064350, deltaE: -0.00000000, rmsD:  0.00000000\n",
      "iteration: 295, E_tot: -1.50311186, E_elek: -3.09064350, deltaE: -0.00000000, rmsD:  0.00000000\n",
      "iteration: 296, E_tot: -1.50311186, E_elek: -3.09064350, deltaE:  0.00000000, rmsD:  0.00000000\n",
      "iteration: 297, E_tot: -1.50311186, E_elek: -3.09064350, deltaE: -0.00000000, rmsD:  0.00000000\n",
      "iteration: 298, E_tot: -1.50311186, E_elek: -3.09064350, deltaE:  0.00000000, rmsD:  0.00000000\n",
      "iteration: 299, E_tot: -1.50311186, E_elek: -3.09064350, deltaE: -0.00000000, rmsD:  0.00000000\n",
      "iteration: 300, E_tot: -1.50311186, E_elek: -3.09064350, deltaE:  0.00000000, rmsD:  0.00000000\n",
      "iteration: 301, E_tot: -1.50311186, E_elek: -3.09064350, deltaE:  0.00000000, rmsD:  0.00000000\n",
      "iteration: 302, E_tot: -1.50311186, E_elek: -3.09064350, deltaE: -0.00000000, rmsD:  0.00000000\n",
      "iteration: 303, E_tot: -1.50311186, E_elek: -3.09064350, deltaE: -0.00000000, rmsD:  0.00000000\n",
      "iteration: 304, E_tot: -1.50311186, E_elek: -3.09064350, deltaE:  0.00000000, rmsD:  0.00000000\n",
      "iteration: 305, E_tot: -1.50311186, E_elek: -3.09064350, deltaE: -0.00000000, rmsD:  0.00000000\n",
      "iteration: 306, E_tot: -1.50311186, E_elek: -3.09064350, deltaE:  0.00000000, rmsD:  0.00000000\n",
      "iteration: 307, E_tot: -1.50311186, E_elek: -3.09064350, deltaE: -0.00000000, rmsD:  0.00000000\n",
      "iteration: 308, E_tot: -1.50311186, E_elek: -3.09064350, deltaE:  0.00000000, rmsD:  0.00000000\n",
      "iteration: 309, E_tot: -1.50311186, E_elek: -3.09064350, deltaE: -0.00000000, rmsD:  0.00000000\n",
      "iteration: 310, E_tot: -1.50311186, E_elek: -3.09064350, deltaE:  0.00000000, rmsD:  0.00000000\n",
      "iteration: 311, E_tot: -1.50311186, E_elek: -3.09064350, deltaE: -0.00000000, rmsD:  0.00000000\n",
      "iteration: 312, E_tot: -1.50311186, E_elek: -3.09064350, deltaE: -0.00000000, rmsD:  0.00000000\n",
      "iteration: 313, E_tot: -1.50311186, E_elek: -3.09064350, deltaE:  0.00000000, rmsD:  0.00000000\n",
      "iteration: 314, E_tot: -1.50311186, E_elek: -3.09064350, deltaE: -0.00000000, rmsD:  0.00000000\n",
      "iteration: 315, E_tot: -1.50311186, E_elek: -3.09064350, deltaE:  0.00000000, rmsD:  0.00000000\n",
      "iteration: 316, E_tot: -1.50311186, E_elek: -3.09064350, deltaE: -0.00000000, rmsD:  0.00000000\n",
      "iteration: 317, E_tot: -1.50311186, E_elek: -3.09064350, deltaE:  0.00000000, rmsD:  0.00000000\n",
      "iteration: 318, E_tot: -1.50311186, E_elek: -3.09064350, deltaE:  0.00000000, rmsD:  0.00000000\n",
      "iteration: 319, E_tot: -1.50311186, E_elek: -3.09064350, deltaE:  0.00000000, rmsD:  0.00000000\n",
      "iteration: 320, E_tot: -1.50311186, E_elek: -3.09064350, deltaE: -0.00000000, rmsD:  0.00000000\n",
      "iteration: 321, E_tot: -1.50311186, E_elek: -3.09064350, deltaE: -0.00000000, rmsD:  0.00000000\n",
      "iteration: 322, E_tot: -1.50311186, E_elek: -3.09064350, deltaE:  0.00000000, rmsD:  0.00000000\n",
      "iteration: 323, E_tot: -1.50311186, E_elek: -3.09064350, deltaE:  0.00000000, rmsD:  0.00000000\n",
      "iteration: 324, E_tot: -1.50311186, E_elek: -3.09064350, deltaE: -0.00000000, rmsD:  0.00000000\n",
      "iteration: 325, E_tot: -1.50311186, E_elek: -3.09064350, deltaE:  0.00000000, rmsD:  0.00000000\n",
      "iteration: 326, E_tot: -1.50311186, E_elek: -3.09064350, deltaE: -0.00000000, rmsD:  0.00000000\n",
      "iteration: 327, E_tot: -1.50311186, E_elek: -3.09064350, deltaE: -0.00000000, rmsD:  0.00000000\n",
      "iteration: 328, E_tot: -1.50311186, E_elek: -3.09064350, deltaE:  0.00000000, rmsD:  0.00000000\n",
      "iteration: 329, E_tot: -1.50311186, E_elek: -3.09064350, deltaE:  0.00000000, rmsD:  0.00000000\n",
      "iteration: 330, E_tot: -1.50311186, E_elek: -3.09064350, deltaE:  0.00000000, rmsD:  0.00000000\n",
      "iteration: 331, E_tot: -1.50311186, E_elek: -3.09064350, deltaE: -0.00000000, rmsD:  0.00000000\n",
      "iteration: 332, E_tot: -1.50311186, E_elek: -3.09064350, deltaE:  0.00000000, rmsD:  0.00000000\n",
      "iteration: 333, E_tot: -1.50311186, E_elek: -3.09064350, deltaE:  0.00000000, rmsD:  0.00000000\n",
      "iteration: 334, E_tot: -1.50311186, E_elek: -3.09064350, deltaE: -0.00000000, rmsD:  0.00000000\n",
      "iteration: 335, E_tot: -1.50311186, E_elek: -3.09064350, deltaE: -0.00000000, rmsD:  0.00000000\n",
      "iteration: 336, E_tot: -1.50311186, E_elek: -3.09064350, deltaE:  0.00000000, rmsD:  0.00000000\n",
      "iteration: 337, E_tot: -1.50311186, E_elek: -3.09064350, deltaE:  0.00000000, rmsD:  0.00000000\n",
      "iteration: 338, E_tot: -1.50311186, E_elek: -3.09064350, deltaE:  0.00000000, rmsD:  0.00000000\n",
      "iteration: 339, E_tot: -1.50311186, E_elek: -3.09064350, deltaE: -0.00000000, rmsD:  0.00000000\n",
      "iteration: 340, E_tot: -1.50311186, E_elek: -3.09064350, deltaE:  0.00000000, rmsD:  0.00000000\n",
      "iteration: 341, E_tot: -1.50311186, E_elek: -3.09064350, deltaE: -0.00000000, rmsD:  0.00000000\n",
      "iteration: 342, E_tot: -1.50311186, E_elek: -3.09064350, deltaE: -0.00000000, rmsD:  0.00000000\n",
      "iteration: 343, E_tot: -1.50311186, E_elek: -3.09064350, deltaE: -0.00000000, rmsD:  0.00000000\n",
      "iteration: 344, E_tot: -1.50311186, E_elek: -3.09064350, deltaE:  0.00000000, rmsD:  0.00000000\n",
      "iteration: 345, E_tot: -1.50311186, E_elek: -3.09064350, deltaE:  0.00000000, rmsD:  0.00000000\n",
      "iteration: 346, E_tot: -1.50311186, E_elek: -3.09064350, deltaE: -0.00000000, rmsD:  0.00000000\n",
      "iteration: 347, E_tot: -1.50311186, E_elek: -3.09064350, deltaE:  0.00000000, rmsD:  0.00000000\n",
      "iteration: 348, E_tot: -1.50311186, E_elek: -3.09064350, deltaE: -0.00000000, rmsD:  0.00000000\n",
      "iteration: 349, E_tot: -1.50311186, E_elek: -3.09064350, deltaE:  0.00000000, rmsD:  0.00000000\n",
      "iteration: 350, E_tot: -1.50311186, E_elek: -3.09064350, deltaE: -0.00000000, rmsD:  0.00000000\n",
      "iteration: 351, E_tot: -1.50311186, E_elek: -3.09064350, deltaE:  0.00000000, rmsD:  0.00000000\n",
      "iteration: 352, E_tot: -1.50311186, E_elek: -3.09064350, deltaE: -0.00000000, rmsD:  0.00000000\n",
      "iteration: 353, E_tot: -1.50311186, E_elek: -3.09064350, deltaE:  0.00000000, rmsD:  0.00000000\n",
      "iteration: 354, E_tot: -1.50311186, E_elek: -3.09064350, deltaE:  0.00000000, rmsD:  0.00000000\n",
      "iteration: 355, E_tot: -1.50311186, E_elek: -3.09064350, deltaE: -0.00000000, rmsD:  0.00000000\n",
      "iteration: 356, E_tot: -1.50311186, E_elek: -3.09064350, deltaE:  0.00000000, rmsD:  0.00000000\n",
      "iteration: 357, E_tot: -1.50311186, E_elek: -3.09064350, deltaE:  0.00000000, rmsD:  0.00000000\n",
      "iteration: 358, E_tot: -1.50311186, E_elek: -3.09064350, deltaE: -0.00000000, rmsD:  0.00000000\n",
      "iteration: 359, E_tot: -1.50311186, E_elek: -3.09064350, deltaE: -0.00000000, rmsD:  0.00000000\n",
      "iteration: 360, E_tot: -1.50311186, E_elek: -3.09064350, deltaE:  0.00000000, rmsD:  0.00000000\n",
      "iteration: 361, E_tot: -1.50311186, E_elek: -3.09064350, deltaE: -0.00000000, rmsD:  0.00000000\n",
      "iteration: 362, E_tot: -1.50311186, E_elek: -3.09064350, deltaE: -0.00000000, rmsD:  0.00000000\n",
      "iteration: 363, E_tot: -1.50311186, E_elek: -3.09064350, deltaE:  0.00000000, rmsD:  0.00000000\n",
      "iteration: 364, E_tot: -1.50311186, E_elek: -3.09064350, deltaE:  0.00000000, rmsD:  0.00000000\n",
      "iteration: 365, E_tot: -1.50311186, E_elek: -3.09064350, deltaE: -0.00000000, rmsD:  0.00000000\n",
      "iteration: 366, E_tot: -1.50311186, E_elek: -3.09064350, deltaE:  0.00000000, rmsD:  0.00000000\n",
      "iteration: 367, E_tot: -1.50311186, E_elek: -3.09064350, deltaE: -0.00000000, rmsD:  0.00000000\n",
      "iteration: 368, E_tot: -1.50311186, E_elek: -3.09064350, deltaE:  0.00000000, rmsD:  0.00000000\n",
      "iteration: 369, E_tot: -1.50311186, E_elek: -3.09064350, deltaE:  0.00000000, rmsD:  0.00000000\n",
      "iteration: 370, E_tot: -1.50311186, E_elek: -3.09064350, deltaE: -0.00000000, rmsD:  0.00000000\n",
      "iteration: 371, E_tot: -1.50311186, E_elek: -3.09064350, deltaE: -0.00000000, rmsD:  0.00000000\n",
      "iteration: 372, E_tot: -1.50311186, E_elek: -3.09064350, deltaE:  0.00000000, rmsD:  0.00000000\n",
      "iteration: 373, E_tot: -1.50311186, E_elek: -3.09064350, deltaE:  0.00000000, rmsD:  0.00000000\n",
      "iteration: 374, E_tot: -1.50311186, E_elek: -3.09064350, deltaE: -0.00000000, rmsD:  0.00000000\n",
      "iteration: 375, E_tot: -1.50311186, E_elek: -3.09064350, deltaE: -0.00000000, rmsD:  0.00000000\n",
      "iteration: 376, E_tot: -1.50311186, E_elek: -3.09064350, deltaE:  0.00000000, rmsD:  0.00000000\n",
      "iteration: 377, E_tot: -1.50311186, E_elek: -3.09064350, deltaE: -0.00000000, rmsD:  0.00000000\n",
      "iteration: 378, E_tot: -1.50311186, E_elek: -3.09064350, deltaE:  0.00000000, rmsD:  0.00000000\n",
      "iteration: 379, E_tot: -1.50311186, E_elek: -3.09064350, deltaE: -0.00000000, rmsD:  0.00000000\n",
      "iteration: 380, E_tot: -1.50311186, E_elek: -3.09064350, deltaE:  0.00000000, rmsD:  0.00000000\n",
      "iteration: 381, E_tot: -1.50311186, E_elek: -3.09064350, deltaE: -0.00000000, rmsD:  0.00000000\n",
      "iteration: 382, E_tot: -1.50311186, E_elek: -3.09064350, deltaE:  0.00000000, rmsD:  0.00000000\n",
      "iteration: 383, E_tot: -1.50311186, E_elek: -3.09064350, deltaE: -0.00000000, rmsD:  0.00000000\n",
      "iteration: 384, E_tot: -1.50311186, E_elek: -3.09064350, deltaE:  0.00000000, rmsD:  0.00000000\n",
      "iteration: 385, E_tot: -1.50311186, E_elek: -3.09064350, deltaE: -0.00000000, rmsD:  0.00000000\n",
      "iteration: 386, E_tot: -1.50311186, E_elek: -3.09064350, deltaE:  0.00000000, rmsD:  0.00000000\n",
      "iteration: 387, E_tot: -1.50311186, E_elek: -3.09064350, deltaE: -0.00000000, rmsD:  0.00000000\n",
      "iteration: 388, E_tot: -1.50311186, E_elek: -3.09064350, deltaE: -0.00000000, rmsD:  0.00000000\n",
      "iteration: 389, E_tot: -1.50311186, E_elek: -3.09064350, deltaE:  0.00000000, rmsD:  0.00000000\n",
      "iteration: 390, E_tot: -1.50311186, E_elek: -3.09064350, deltaE: -0.00000000, rmsD:  0.00000000\n",
      "iteration: 391, E_tot: -1.50311186, E_elek: -3.09064350, deltaE:  0.00000000, rmsD:  0.00000000\n",
      "iteration: 392, E_tot: -1.50311186, E_elek: -3.09064350, deltaE:  0.00000000, rmsD:  0.00000000\n",
      "iteration: 393, E_tot: -1.50311186, E_elek: -3.09064350, deltaE:  0.00000000, rmsD:  0.00000000\n",
      "iteration: 394, E_tot: -1.50311186, E_elek: -3.09064350, deltaE: -0.00000000, rmsD:  0.00000000\n",
      "iteration: 395, E_tot: -1.50311186, E_elek: -3.09064350, deltaE:  0.00000000, rmsD:  0.00000000\n",
      "iteration: 396, E_tot: -1.50311186, E_elek: -3.09064350, deltaE: -0.00000000, rmsD:  0.00000000\n",
      "iteration: 397, E_tot: -1.50311186, E_elek: -3.09064350, deltaE: -0.00000000, rmsD:  0.00000000\n",
      "iteration: 398, E_tot: -1.50311186, E_elek: -3.09064350, deltaE:  0.00000000, rmsD:  0.00000000\n",
      "iteration: 399, E_tot: -1.50311186, E_elek: -3.09064350, deltaE: -0.00000000, rmsD:  0.00000000\n",
      "iteration: 400, E_tot: -1.50311186, E_elek: -3.09064350, deltaE:  0.00000000, rmsD:  0.00000000\n",
      "iteration: 401, E_tot: -1.50311186, E_elek: -3.09064350, deltaE:  0.00000000, rmsD:  0.00000000\n",
      "iteration: 402, E_tot: -1.50311186, E_elek: -3.09064350, deltaE: -0.00000000, rmsD:  0.00000000\n",
      "iteration: 403, E_tot: -1.50311186, E_elek: -3.09064350, deltaE:  0.00000000, rmsD:  0.00000000\n",
      "iteration: 404, E_tot: -1.50311186, E_elek: -3.09064350, deltaE: -0.00000000, rmsD:  0.00000000\n",
      "iteration: 405, E_tot: -1.50311186, E_elek: -3.09064350, deltaE:  0.00000000, rmsD:  0.00000000\n",
      "iteration: 406, E_tot: -1.50311186, E_elek: -3.09064350, deltaE:  0.00000000, rmsD:  0.00000000\n",
      "iteration: 407, E_tot: -1.50311186, E_elek: -3.09064350, deltaE: -0.00000000, rmsD:  0.00000000\n",
      "iteration: 408, E_tot: -1.50311186, E_elek: -3.09064350, deltaE: -0.00000000, rmsD:  0.00000000\n",
      "iteration: 409, E_tot: -1.50311186, E_elek: -3.09064350, deltaE:  0.00000000, rmsD:  0.00000000\n",
      "iteration: 410, E_tot: -1.50311186, E_elek: -3.09064350, deltaE: -0.00000000, rmsD:  0.00000000\n",
      "iteration: 411, E_tot: -1.50311186, E_elek: -3.09064350, deltaE:  0.00000000, rmsD:  0.00000000\n",
      "iteration: 412, E_tot: -1.50311186, E_elek: -3.09064350, deltaE: -0.00000000, rmsD:  0.00000000\n",
      "iteration: 413, E_tot: -1.50311186, E_elek: -3.09064350, deltaE:  0.00000000, rmsD:  0.00000000\n",
      "iteration: 414, E_tot: -1.50311186, E_elek: -3.09064350, deltaE:  0.00000000, rmsD:  0.00000000\n",
      "iteration: 415, E_tot: -1.50311186, E_elek: -3.09064350, deltaE: -0.00000000, rmsD:  0.00000000\n",
      "iteration: 416, E_tot: -1.50311186, E_elek: -3.09064350, deltaE:  0.00000000, rmsD:  0.00000000\n",
      "iteration: 417, E_tot: -1.50311186, E_elek: -3.09064350, deltaE: -0.00000000, rmsD:  0.00000000\n",
      "iteration: 418, E_tot: -1.50311186, E_elek: -3.09064350, deltaE: -0.00000000, rmsD:  0.00000000\n",
      "iteration: 419, E_tot: -1.50311186, E_elek: -3.09064350, deltaE:  0.00000000, rmsD:  0.00000000\n",
      "iteration: 420, E_tot: -1.50311186, E_elek: -3.09064350, deltaE:  0.00000000, rmsD:  0.00000000\n",
      "iteration: 421, E_tot: -1.50311186, E_elek: -3.09064350, deltaE:  0.00000000, rmsD:  0.00000000\n",
      "iteration: 422, E_tot: -1.50311186, E_elek: -3.09064350, deltaE: -0.00000000, rmsD:  0.00000000\n",
      "iteration: 423, E_tot: -1.50311186, E_elek: -3.09064350, deltaE:  0.00000000, rmsD:  0.00000000\n",
      "iteration: 424, E_tot: -1.50311186, E_elek: -3.09064350, deltaE:  0.00000000, rmsD:  0.00000000\n",
      "iteration: 425, E_tot: -1.50311186, E_elek: -3.09064350, deltaE: -0.00000000, rmsD:  0.00000000\n",
      "iteration: 426, E_tot: -1.50311186, E_elek: -3.09064350, deltaE:  0.00000000, rmsD:  0.00000000\n",
      "iteration: 427, E_tot: -1.50311186, E_elek: -3.09064350, deltaE:  0.00000000, rmsD:  0.00000000\n",
      "iteration: 428, E_tot: -1.50311186, E_elek: -3.09064350, deltaE: -0.00000000, rmsD:  0.00000000\n",
      "iteration: 429, E_tot: -1.50311186, E_elek: -3.09064350, deltaE:  0.00000000, rmsD:  0.00000000\n",
      "iteration: 430, E_tot: -1.50311186, E_elek: -3.09064350, deltaE: -0.00000000, rmsD:  0.00000000\n",
      "iteration: 431, E_tot: -1.50311186, E_elek: -3.09064350, deltaE:  0.00000000, rmsD:  0.00000000\n"
     ]
    },
    {
     "output_type": "execute_result",
     "data": {
      "text/plain": [
       "-1.5031118631777391"
      ]
     },
     "metadata": {},
     "execution_count": 5
    }
   ],
   "source": [
    "psi4.set_options({\"BASIS\": \"cc-pvdz\", 'reference': 'cuhf'})\n",
    "h1 = Molecule(\"\"\"\n",
    "H 0 0 0\n",
    "H 0 0.86602540378 0.5\n",
    "H 0 0 1\n",
    "units angstrom\"\"\")\n",
    "h1.setConvergence(1e-12)\n",
    "h1.iterator(constraint=True)"
   ]
  },
  {
   "cell_type": "code",
   "execution_count": null,
   "metadata": {},
   "outputs": [],
   "source": []
  }
 ],
 "metadata": {
  "kernelspec": {
   "display_name": "Python 3",
   "language": "python",
   "name": "python3"
  }
 },
 "nbformat": 4,
 "nbformat_minor": 5
}