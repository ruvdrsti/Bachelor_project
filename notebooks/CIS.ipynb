{
 "metadata": {
  "orig_nbformat": 2,
  "kernelspec": {
   "name": "python3",
   "display_name": "Python 3",
   "language": "python"
  }
 },
 "nbformat": 4,
 "nbformat_minor": 2,
 "cells": [
  {
   "source": [
    "# CIS results\n",
    "In this notebook, we will discuss the findings from CIS. We are especially interested in the effect on cuhf."
   ],
   "cell_type": "markdown",
   "metadata": {}
  },
  {
   "source": [
    "### molecule n° 1: physicists water\n",
    "This molecule is treated in the psi4 tutorial on CIS. We will take a look at the effect of CIS on all the different classes from ```Hartee_Fock_modes```\n"
   ],
   "cell_type": "markdown",
   "metadata": {}
  },
  {
   "cell_type": "code",
   "execution_count": 1,
   "metadata": {},
   "outputs": [],
   "source": [
    "# RHF\n",
    "import psi4\n",
    "\n",
    "from compChem.Hartree_Fock_modes.rhf import RHFMolecule\n",
    "from compChem.Hartree_Fock_modes.extensions.CIS import CISMolecule"
   ]
  },
  {
   "cell_type": "code",
   "execution_count": 2,
   "metadata": {},
   "outputs": [
    {
     "output_type": "stream",
     "name": "stderr",
     "text": [
      "/user/gent/440/vsc44013/.local/lib/python3.7/site-packages/compChem/Hartree_Fock_modes/hf_backbone.py:65: FutureWarning: elementwise comparison failed; returning scalar instead, but in the future will perform elementwise comparison\n  if self.guessMatrix_a == \"empty\" and self.guessMatrix_b == \"empty\":\n"
     ]
    }
   ],
   "source": [
    "psi4.set_options({\"basis\":\"sto-3g\", \"scf_type\":\"pk\", \"reference\":\"rhf\", \"e_convergence\":\"1e-12\"})\n",
    "h2o = RHFMolecule(\"\"\"\n",
    "0 1\n",
    "O\n",
    "H 1 1.1\n",
    "H 1 1.1 2 104\n",
    "symmetry c1\n",
    "\"\"\")\n",
    "h2o.setConvergence(1e-12)\n",
    "end_data = h2o.iterator(mute=True, criterion=\"energy\")\n",
    "cis = CISMolecule(h2o)\n",
    "cis.GetExitations(\"Bachelor_project/Bachelor_project/definitive_versions/notebooks/data_cis/h2o_rhf_1\")"
   ]
  },
  {
   "source": [
    "Some things we can note\n",
    "- We do not have the exact same sollution as in the psi4 example. However, we make the assumption that the wave functions we have can be obtained by taking linear combinations of the ones in the example.\n",
    "- We notice multiplet energies, singlets, triplets and quintuplets.\n",
    "- We notice that for the singlets the sollutions always match the example. This reinforces the assumption we made earlier.\n",
    "\n",
    "During testing we also notice the following interesting phenomenon."
   ],
   "cell_type": "markdown",
   "metadata": {}
  },
  {
   "cell_type": "code",
   "execution_count": 5,
   "metadata": {},
   "outputs": [
    {
     "output_type": "stream",
     "name": "stdout",
     "text": [
      "(-74.94207989868113, 2)\n",
      "(-74.94207989868093, 2)\n",
      "/user/gent/440/vsc44013/.local/lib/python3.7/site-packages/compChem/Hartree_Fock_modes/uhf.py:110: FutureWarning: elementwise comparison failed; returning scalar instead, but in the future will perform elementwise comparison\n",
      "  assert self.guessMatrix_a != \"empty\" and self.guessMatrix_b != \"empty\", \"make a guess first\"\n",
      "/user/gent/440/vsc44013/.local/lib/python3.7/site-packages/compChem/Hartree_Fock_modes/hf_backbone.py:65: FutureWarning: elementwise comparison failed; returning scalar instead, but in the future will perform elementwise comparison\n",
      "  if self.guessMatrix_a == \"empty\" and self.guessMatrix_b == \"empty\":\n"
     ]
    }
   ],
   "source": [
    "end_data = h2o.iterator(mute=True, criterion=\"energy\")\n",
    "print(end_data)\n",
    "cis = CISMolecule(h2o)\n",
    "cis.GetExitations(\"Bachelor_project/Bachelor_project/definitive_versions/notebooks/data_cis/h2o_rhf_2\")\n",
    "end_data = h2o.iterator(mute=True, criterion=\"energy\")\n",
    "print(end_data)\n",
    "cis = CISMolecule(h2o)\n",
    "cis.GetExitations(\"Bachelor_project/Bachelor_project/definitive_versions/notebooks/data_cis/h2o_rhf_3\")"
   ]
  },
  {
   "source": [
    "After doing this we notice the multiplets have different states in them, while the singlets have not changed at all. The cause wase found as being minute changes in the coefficient matrices, but only in elements that are very close to zero. This seems odd, but another difference was not yet observed."
   ],
   "cell_type": "markdown",
   "metadata": {}
  },
  {
   "cell_type": "code",
   "execution_count": 4,
   "metadata": {},
   "outputs": [
    {
     "output_type": "stream",
     "name": "stderr",
     "text": [
      "/user/gent/440/vsc44013/.local/lib/python3.7/site-packages/compChem/Hartree_Fock_modes/uhf.py:110: FutureWarning: elementwise comparison failed; returning scalar instead, but in the future will perform elementwise comparison\n  assert self.guessMatrix_a != \"empty\" and self.guessMatrix_b != \"empty\", \"make a guess first\"\n"
     ]
    }
   ],
   "source": [
    "# UHF\n",
    "from compChem.Hartree_Fock_modes.uhf import UHFMolecule\n",
    "psi4.set_options({\"basis\":\"sto-3g\", \"scf_type\":\"pk\", \"reference\":\"uhf\", \"e_convergence\":\"1e-12\"})\n",
    "h2o = UHFMolecule(\"\"\"\n",
    "0 1\n",
    "O\n",
    "H 1 1.1\n",
    "H 1 1.1 2 104\n",
    "symmetry c1\n",
    "\"\"\")\n",
    "h2o.setConvergence(1e-12)\n",
    "end_data = h2o.iterator(mute=True, criterion=\"energy\", mixedGuess=False)\n",
    "cis = CISMolecule(h2o)\n",
    "cis.GetExitations(\"Bachelor_project/Bachelor_project/definitive_versions/notebooks/data_cis/h2o_uhf_1\")"
   ]
  },
  {
   "source": [
    "While the differences are not that large, we do notice the dissapearance of multiplets. All the energies are different. Now we will do a similar trick on this as we did for RHF."
   ],
   "cell_type": "markdown",
   "metadata": {}
  },
  {
   "cell_type": "code",
   "execution_count": 6,
   "metadata": {},
   "outputs": [
    {
     "output_type": "stream",
     "name": "stdout",
     "text": [
      "(-74.94207989868093, 2)\n",
      "(-74.94207989868099, 2)\n",
      "/user/gent/440/vsc44013/.local/lib/python3.7/site-packages/compChem/Hartree_Fock_modes/uhf.py:110: FutureWarning: elementwise comparison failed; returning scalar instead, but in the future will perform elementwise comparison\n",
      "  assert self.guessMatrix_a != \"empty\" and self.guessMatrix_b != \"empty\", \"make a guess first\"\n",
      "/user/gent/440/vsc44013/.local/lib/python3.7/site-packages/compChem/Hartree_Fock_modes/hf_backbone.py:65: FutureWarning: elementwise comparison failed; returning scalar instead, but in the future will perform elementwise comparison\n",
      "  if self.guessMatrix_a == \"empty\" and self.guessMatrix_b == \"empty\":\n"
     ]
    }
   ],
   "source": [
    "end_data = h2o.iterator(mute=True, criterion=\"energy\")\n",
    "cis = CISMolecule(h2o)\n",
    "cis.GetExitations(\"Bachelor_project/Bachelor_project/definitive_versions/notebooks/data_cis/h2o_uhf_2\")\n",
    "end_data = h2o.iterator(mute=True, criterion=\"energy\")\n",
    "cis = CISMolecule(h2o)\n",
    "cis.GetExitations(\"Bachelor_project/Bachelor_project/definitive_versions/notebooks/data_cis/h2o_uhf_3\")"
   ]
  },
  {
   "source": [
    "Notice that the states do not vary here, nor do the contributions. However we do notice that the excitation energies vary a lot more than in RHF. We are not sure what this means yet."
   ],
   "cell_type": "markdown",
   "metadata": {}
  },
  {
   "cell_type": "code",
   "execution_count": 7,
   "metadata": {},
   "outputs": [
    {
     "output_type": "stream",
     "name": "stderr",
     "text": [
      "/user/gent/440/vsc44013/.local/lib/python3.7/site-packages/compChem/Hartree_Fock_modes/cuhf.py:109: FutureWarning: elementwise comparison failed; returning scalar instead, but in the future will perform elementwise comparison\n  assert self.guessMatrix_a != \"empty\" and self.guessMatrix_b != \"empty\", \"make a guess first\"\n/user/gent/440/vsc44013/.local/lib/python3.7/site-packages/compChem/Hartree_Fock_modes/hf_backbone.py:65: FutureWarning: elementwise comparison failed; returning scalar instead, but in the future will perform elementwise comparison\n  if self.guessMatrix_a == \"empty\" and self.guessMatrix_b == \"empty\":\n"
     ]
    }
   ],
   "source": [
    "# CUHF\n",
    "from compChem.Hartree_Fock_modes.cuhf import CUHFMolecule\n",
    "psi4.set_options({\"basis\":\"sto-3g\", \"scf_type\":\"pk\", \"reference\":\"uhf\", \"e_convergence\":\"1e-12\"})\n",
    "h2o = CUHFMolecule(\"\"\"\n",
    "0 1\n",
    "O\n",
    "H 1 1.1\n",
    "H 1 1.1 2 104\n",
    "symmetry c1\n",
    "\"\"\")\n",
    "h2o.setConvergence(1e-12)\n",
    "end_data = h2o.iterator(mute=True, criterion=\"energy\")\n",
    "cis = CISMolecule(h2o)\n",
    "cis.GetExitations(\"Bachelor_project/Bachelor_project/definitive_versions/notebooks/data_cis/h2o_cuhf_1\")"
   ]
  },
  {
   "source": [
    "Notice that in CUHF the multiplets are back, and that the energies are much closer to the RHF ones than the UHF ones were. And when we apply this code again we will take a look at the effect of this."
   ],
   "cell_type": "markdown",
   "metadata": {}
  },
  {
   "cell_type": "code",
   "execution_count": 8,
   "metadata": {},
   "outputs": [],
   "source": [
    "end_data = h2o.iterator(mute=True, criterion=\"energy\")\n",
    "cis = CISMolecule(h2o)\n",
    "cis.GetExitations(\"Bachelor_project/Bachelor_project/definitive_versions/notebooks/data_cis/h2o_cuhf_2\")\n",
    "end_data = h2o.iterator(mute=True, criterion=\"energy\")\n",
    "cis = CISMolecule(h2o)\n",
    "cis.GetExitations(\"Bachelor_project/Bachelor_project/definitive_versions/notebooks/data_cis/h2o_cuhf_3\")"
   ]
  },
  {
   "source": [
    "We notice there is variance in the multiplets again, off course this was to be expected. However we can ask ourselves if we have not implemented RHF code here. One argument against this is the fact that UHF used the same code as CUHF and RHF for CIS, only with certain input parameters changed. When we go trough the code we can establish that we take into account the differnces in alpha and beta MO's and orbital energies. Another experiment can off course be done to verify this. Let us turn to the molecule trihydrogen, RHF should not be able to deal with this at all, while CUHF should have no issues."
   ],
   "cell_type": "markdown",
   "metadata": {}
  },
  {
   "cell_type": "code",
   "execution_count": 11,
   "metadata": {},
   "outputs": [
    {
     "output_type": "stream",
     "name": "stderr",
     "text": [
      "/user/gent/440/vsc44013/.local/lib/python3.7/site-packages/compChem/Hartree_Fock_modes/hf_backbone.py:65: FutureWarning: elementwise comparison failed; returning scalar instead, but in the future will perform elementwise comparison\n  if self.guessMatrix_a == \"empty\" and self.guessMatrix_b == \"empty\":\n"
     ]
    }
   ],
   "source": [
    "# RHF\n",
    "psi4.set_options({\"basis\":\"cc-pvdz\"})\n",
    "h3_rhf = RHFMolecule(\"\"\"\n",
    "H 0 0 0\n",
    "H 0 0.86602540378 0.5\n",
    "H 0 0 1\n",
    "units angstrom\"\"\")\n",
    "h3_rhf.setConvergence(1e-12)\n",
    "end_data = h3_rhf.iterator(mute=True, criterion=\"energy\")\n",
    "cis = CISMolecule(h3_rhf)\n",
    "cis.GetExitations(\"Bachelor_project/Bachelor_project/definitive_versions/notebooks/data_cis/h3_rhf\")"
   ]
  },
  {
   "source": [
    "We already notice that this energy is different from what cuhf would give us. "
   ],
   "cell_type": "markdown",
   "metadata": {}
  },
  {
   "cell_type": "code",
   "execution_count": 13,
   "metadata": {},
   "outputs": [
    {
     "output_type": "stream",
     "name": "stderr",
     "text": [
      "/user/gent/440/vsc44013/.local/lib/python3.7/site-packages/compChem/Hartree_Fock_modes/cuhf.py:109: FutureWarning: elementwise comparison failed; returning scalar instead, but in the future will perform elementwise comparison\n  assert self.guessMatrix_a != \"empty\" and self.guessMatrix_b != \"empty\", \"make a guess first\"\n/user/gent/440/vsc44013/.local/lib/python3.7/site-packages/compChem/Hartree_Fock_modes/hf_backbone.py:65: FutureWarning: elementwise comparison failed; returning scalar instead, but in the future will perform elementwise comparison\n  if self.guessMatrix_a == \"empty\" and self.guessMatrix_b == \"empty\":\n"
     ]
    }
   ],
   "source": [
    "# CUHF\n",
    "psi4.set_options({\"basis\":\"cc-pvdz\"})\n",
    "h3_cuhf = CUHFMolecule(\"\"\"\n",
    "H 0 0 0\n",
    "H 0 0.86602540378 0.5\n",
    "H 0 0 1\n",
    "units angstrom\"\"\")\n",
    "h3_cuhf.setConvergence(1e-12)\n",
    "end_data = h3_cuhf.iterator(mute=True, criterion=\"energy\")\n",
    "cis = CISMolecule(h3_cuhf)\n",
    "cis.GetExitations(\"Bachelor_project/Bachelor_project/definitive_versions/notebooks/data_cis/h3_cuhf\")"
   ]
  },
  {
   "source": [
    "We can clearly state that RHF and UHF behave differently, so it is pretty remarkable that they give the same result for water. However, we still need to verify what it means to have a negative excitation energy. For completeness we will add an analysis using UHF as well.\n"
   ],
   "cell_type": "markdown",
   "metadata": {}
  },
  {
   "cell_type": "code",
   "execution_count": 16,
   "metadata": {},
   "outputs": [],
   "source": [
    "# UHF\n",
    "psi4.set_options({\"basis\":\"cc-pvdz\"})\n",
    "h3_uhf = UHFMolecule(\"\"\"\n",
    "H 0 0 0\n",
    "H 0 0.86602540378 0.5\n",
    "H 0 0 1\n",
    "units angstrom\"\"\")\n",
    "h3_uhf.setConvergence(1e-6)\n",
    "end_data = h3_uhf.iterator(mute=True, criterion=\"energy\")\n",
    "cis = CISMolecule(h3_uhf)\n",
    "cis.GetExitations(\"Bachelor_project/Bachelor_project/definitive_versions/notebooks/data_cis/h3_uhf\")"
   ]
  },
  {
   "source": [
    "Finally, let us do an analysis of the allyl radical. It might tell us something more about the treatment of open shell species. We will not use RHF here."
   ],
   "cell_type": "markdown",
   "metadata": {}
  },
  {
   "cell_type": "code",
   "execution_count": 17,
   "metadata": {},
   "outputs": [
    {
     "output_type": "stream",
     "name": "stderr",
     "text": [
      "/user/gent/440/vsc44013/.local/lib/python3.7/site-packages/compChem/Hartree_Fock_modes/uhf.py:109: FutureWarning: elementwise comparison failed; returning scalar instead, but in the future will perform elementwise comparison\n  assert self.guessMatrix_a != \"empty\" and self.guessMatrix_b != \"empty\", \"make a guess first\"\n/user/gent/440/vsc44013/.local/lib/python3.7/site-packages/compChem/Hartree_Fock_modes/hf_backbone.py:65: FutureWarning: elementwise comparison failed; returning scalar instead, but in the future will perform elementwise comparison\n  if self.guessMatrix_a == \"empty\" and self.guessMatrix_b == \"empty\":\n"
     ]
    }
   ],
   "source": [
    "# UHF\n",
    "psi4.set_options({\"basis\":\"sto-3g\", \"scf_type\":\"pk\", \"reference\":\"cuhf\", \"e_convergence\":\"1e-12\"})\n",
    "allyl_uhf = UHFMolecule(\"\"\"\n",
    "0 2\n",
    "H\n",
    "C 1 r2\n",
    "C 2 r3 1 a3\n",
    "C 2 r3 1 a3 3 180.\n",
    "H 3 r5 2 a5 1 0.\n",
    "H 4 r5 2 a5 1 0.\n",
    "H 3 r7 2 a7 1 180.\n",
    "H 4 r7 2 a7 1 180.\n",
    "\n",
    "r2=1.08424658\n",
    "r3=1.40526604\n",
    "r5=1.08095381\n",
    "r7=1.08131649\n",
    "a3=117.99450641\n",
    "a5=121.41544408\n",
    "a7=121.21891262\n",
    "symmetry c1\n",
    "\n",
    "\"\"\")\n",
    "allyl_uhf.setConvergence(1e-12)\n",
    "end_data = allyl_uhf.iterator(mute=True, criterion=\"energy\")\n",
    "cis = CISMolecule(allyl_uhf)\n",
    "cis.GetExitations(\"Bachelor_project/Bachelor_project/definitive_versions/notebooks/data_cis/allyl_uhf\")\n"
   ]
  },
  {
   "cell_type": "code",
   "execution_count": 19,
   "metadata": {},
   "outputs": [
    {
     "output_type": "stream",
     "name": "stderr",
     "text": [
      "/user/gent/440/vsc44013/.local/lib/python3.7/site-packages/compChem/Hartree_Fock_modes/cuhf.py:109: FutureWarning: elementwise comparison failed; returning scalar instead, but in the future will perform elementwise comparison\n  assert self.guessMatrix_a != \"empty\" and self.guessMatrix_b != \"empty\", \"make a guess first\"\n"
     ]
    }
   ],
   "source": [
    "# CUHF\n",
    "psi4.set_options({\"basis\":\"sto-3g\", \"scf_type\":\"pk\", \"reference\":\"cuhf\", \"e_convergence\":\"1e-12\"})\n",
    "allyl_cuhf = CUHFMolecule(\"\"\"\n",
    "0 2\n",
    "H\n",
    "C 1 r2\n",
    "C 2 r3 1 a3\n",
    "C 2 r3 1 a3 3 180.\n",
    "H 3 r5 2 a5 1 0.\n",
    "H 4 r5 2 a5 1 0.\n",
    "H 3 r7 2 a7 1 180.\n",
    "H 4 r7 2 a7 1 180.\n",
    "\n",
    "r2=1.08424658\n",
    "r3=1.40526604\n",
    "r5=1.08095381\n",
    "r7=1.08131649\n",
    "a3=117.99450641\n",
    "a5=121.41544408\n",
    "a7=121.21891262\n",
    "symmetry c1\n",
    "\n",
    "\"\"\")\n",
    "allyl_cuhf.setConvergence(1e-12)\n",
    "end_data = allyl_cuhf.iterator(mute=True, criterion=\"energy\")\n",
    "cis = CISMolecule(allyl_cuhf)\n",
    "cis.GetExitations(\"Bachelor_project/Bachelor_project/definitive_versions/notebooks/data_cis/allyl_cuhf\")"
   ]
  },
  {
   "source": [
    "Once again we notice a negative excitation energy. There is certainly something going on here, but at this point we are not yet sure what."
   ],
   "cell_type": "markdown",
   "metadata": {}
  },
  {
   "cell_type": "code",
   "execution_count": null,
   "metadata": {},
   "outputs": [],
   "source": []
  }
 ]
}