{
 "metadata": {
  "orig_nbformat": 2,
  "kernelspec": {
   "name": "python3",
   "display_name": "Python 3",
   "language": "python"
  }
 },
 "nbformat": 4,
 "nbformat_minor": 2,
 "cells": [
  {
   "source": [
    "# Story data \n",
    "In this notebook, we will sketch out a tale worth telling. It will be told in the ```story.ipynb``` notebook"
   ],
   "cell_type": "markdown",
   "metadata": {}
  },
  {
   "source": [
    "The first order of buisiness is to get all the alpha-alpha and beta-beta excitations of ROHF. We will attempt to compare them to the ones in CUHF.\n"
   ],
   "cell_type": "markdown",
   "metadata": {}
  },
  {
   "cell_type": "code",
   "execution_count": 1,
   "metadata": {},
   "outputs": [],
   "source": [
    "import psi4\n",
    "import numpy as np\n",
    "from scipy.linalg import eigh"
   ]
  },
  {
   "cell_type": "code",
   "execution_count": 19,
   "metadata": {},
   "outputs": [
    {
     "output_type": "execute_result",
     "data": {
      "text/plain": [
       "-74.9420798986689"
      ]
     },
     "metadata": {},
     "execution_count": 19
    }
   ],
   "source": [
    "psi4.set_options({\"basis\":\"sto-3g\", \"reference\": \"rhf\", \"scf_type\":\"pk\", \"guess_mix\":\"True\"})\n",
    "allyl = psi4.geometry(\"\"\"\n",
    "0 1\n",
    "O\n",
    "H 1 1.1\n",
    "H 1 1.1 2 104\n",
    "symmetry c1\n",
    "\n",
    "\"\"\")\n",
    "E, wfn = psi4.energy(\"scf\", return_wfn = True)\n",
    "E"
   ]
  },
  {
   "cell_type": "code",
   "execution_count": 40,
   "metadata": {},
   "outputs": [],
   "source": [
    "def displayCISHamiltonian(wfn, geom):\n",
    "    \"\"\"displays the CIS hamiltonian in MO basis\"\"\"\n",
    "    # getting the orbital energies\n",
    "    \n",
    "    epsilon_a, C_a = wfn.epsilon_a().np, wfn.Ca().np\n",
    "    epsilon_b, C_b = wfn.epsilon_b().np, wfn.Cb().np\n",
    "    epsilon = np.append(epsilon_a, epsilon_b) # accounts for the fact that the energies might be different\n",
    "    sortedorder = np.argsort(epsilon)\n",
    "    epsilon = np.sort(epsilon)\n",
    "    \n",
    "    # make the C matrix => it contains all the orbitals, both alpha and beta\n",
    "    C = np.block([[C_a, np.zeros(C_a.shape)], [np.zeros(C_b.shape), C_b]]) # accounts for the fact that the orbitals might be different (uhf, cuhf)\n",
    "    C = C[:, sortedorder] # sort the eigenfunctions\n",
    "    \n",
    "    basis = wfn.basisset()\n",
    "    mints = psi4.core.MintsHelper(basis)\n",
    "\n",
    "    # getting the two electron integrals in correct basis => we need it in MO basis\n",
    "    tei = mints.ao_eri().np # given in chemists notation\n",
    "\n",
    "    #change the basis of the tei\n",
    "    tei_int = np.kron(np.eye(2), tei)\n",
    "    tei_big = np.kron(np.eye(2), tei_int.T)\n",
    "\n",
    "    tei_ao = tei_big.transpose(0, 2, 1, 3) - tei_big.transpose(0, 2, 3, 1) # accounts for both coulomb and exchange, switch to physisists notation\n",
    "    tei_mo = np.einsum(\"pQRS,pP->PQRS\", np.einsum(\"pqRS,qQ->pQRS\", np.einsum(\"pqrS,rR->pqRS\", np.einsum(\"pqrs,sS->pqrS\", tei_ao, C, optimize=True), C, optimize=True), C, optimize=True), C, optimize=True)\n",
    "    \n",
    "    occupied_a = wfn.nalpha()\n",
    "    occupied_b = wfn.nbeta()\n",
    "    available = mints.nbf()\n",
    "    virtual_a = available - occupied_a\n",
    "    virtual_b = available - occupied_b\n",
    "    #getting the excitations\n",
    "    excitations_a, excitations_b = [], []\n",
    "    for orbital in range(occupied_a): \n",
    "        for another_orbital in range(occupied_a, available):\n",
    "            excitations_a.append((orbital, another_orbital))\n",
    "    \n",
    "    for orbital in range(occupied_b): \n",
    "        for another_orbital in range(occupied_b, available):\n",
    "            excitations_b.append((orbital, another_orbital))\n",
    "    \n",
    "    # getting the hamiltonian, we will do it in two parts here\n",
    "    dim_a = occupied_a*virtual_a\n",
    "    dim_b = occupied_b*virtual_b\n",
    "    H_cis_a = np.zeros((dim_a + dim_b, dim_a + dim_b))\n",
    "    for row, excitation in enumerate(excitations_a):\n",
    "        i, a = excitation\n",
    "        i *= 2\n",
    "        a *= 2\n",
    "        for collumn, another_excitation in enumerate(excitations_a):\n",
    "            j, b = another_excitation\n",
    "            j *= 2\n",
    "            b *= 2   \n",
    "            H_cis_a[row, collumn] = (epsilon[a] - epsilon[i])*(i == j)*(a == b) + tei_mo[a, j, i, b]\n",
    "    \n",
    "    for row, excitation in enumerate(excitations_b):\n",
    "        i, a = excitation\n",
    "        i *= 2 + 1\n",
    "        a *= 2 + 1\n",
    "        for collumn, another_excitation in enumerate(excitations_b):\n",
    "            j, b = another_excitation\n",
    "            j *= 2 + 1\n",
    "            b *= 2 + 1\n",
    "            H_cis_a[dima_a + row, dim_a + collumn] = (epsilon[a] - epsilon[i])*(i == j)*(a == b) + tei_mo[a, j, i, b]\n",
    "\n",
    "    # get the E_0 value in the hamiltonian\n",
    "    extra_row = np.zeros((H_cis_a.shape[1],))\n",
    "    H_cis_a = np.vstack((extra_row, H_cis_a))\n",
    "    extra_collumn = np.zeros((H_cis_a.shape[0], 1))\n",
    "    H_cis_a = np.hstack((extra_collumn, H_cis_a))\n",
    "    H_cis_a[0,0] = E\n",
    "    return H_cis_a, excitations_a, excitations_b\n",
    "ham, excitations_a, excitations_b = displayCISHamiltonian(wfn, allyl)"
   ]
  },
  {
   "cell_type": "code",
   "execution_count": 41,
   "metadata": {},
   "outputs": [],
   "source": [
    "from scipy.linalg import eigh\n",
    "exits, coefs = eigh(ham)"
   ]
  },
  {
   "cell_type": "code",
   "execution_count": 43,
   "metadata": {},
   "outputs": [],
   "source": [
    "def GetExitations(exits, coefs, excitations, filepath=\"NoNameGiven\"):\n",
    "        \"\"\"Get the excitation energies and the contributions\"\"\"\n",
    "        if filepath == \"NoNameGiven\":\n",
    "            raise ValueError(\"no path specified\")\n",
    "        from pathlib import Path\n",
    "        Path(f\"{filepath}\").touch()\n",
    "        datafile = open(f\"{filepath}\", \"w\")\n",
    "        contrib = coefs[1:, 1:]**2\n",
    "        energies = exits[1:]\n",
    "        counterdict = {} # added to check how many times a certain excitation occurs\n",
    "        datafile.writelines(f\"scf energy for molecule: {E}\\n\")\n",
    "        for state, energy in enumerate(energies):\n",
    "            datafile.writelines(f\" {state + 1} : {energy}\\n\")\n",
    "            for excitation, contribution in enumerate(contrib[:, state]):\n",
    "                if contribution*100 > 1:\n",
    "                    datafile.writelines(f\"\\t{contribution:.3f} : {excitations[excitation]}\\n\")\n",
    "                    if excitations[excitation] not in counterdict:\n",
    "                        counterdict[excitations[excitation]] = 0\n",
    "                    counterdict[excitations[excitation]] += 1   \n",
    "        datafile.close()\n",
    "GetExitations(exits, coefs, excitations_a, \"/user/gent/440/vsc44013/Bachelor_project/Bachelor_project/definitive_versions/theory/outline_BachelorProject/code/testdata_a.txt\")"
   ]
  },
  {
   "cell_type": "code",
   "execution_count": 44,
   "metadata": {},
   "outputs": [],
   "source": [
    "def GetExitations(exits, coefs, excitations, filepath=\"NoNameGiven\"):\n",
    "        \"\"\"Get the excitation energies and the contributions\"\"\"\n",
    "        if filepath == \"NoNameGiven\":\n",
    "            raise ValueError(\"no path specified\")\n",
    "        from pathlib import Path\n",
    "        Path(f\"{filepath}\").touch()\n",
    "        datafile = open(f\"{filepath}\", \"w\")\n",
    "        contrib = coefs[1:, 1:]**2\n",
    "        energies = exits[1:]\n",
    "        counterdict = {} # added to check how many times a certain excitation occurs\n",
    "        datafile.writelines(f\"scf energy for molecule: {E}\\n\")\n",
    "        for state, energy in enumerate(energies):\n",
    "            datafile.writelines(f\" {state + 1} : {energy}\\n\")\n",
    "            for excitation, contribution in enumerate(contrib[:, state]):\n",
    "                if contribution*100 > 1:\n",
    "                    datafile.writelines(f\"\\t{contribution:.3f} : {excitations[excitation]}\\n\")\n",
    "                    if excitations[excitation] not in counterdict:\n",
    "                        counterdict[excitations[excitation]] = 0\n",
    "                    counterdict[excitations[excitation]] += 1   \n",
    "        datafile.close()\n",
    "GetExitations(exits, coefs, excitations_b, \"/user/gent/440/vsc44013/Bachelor_project/Bachelor_project/definitive_versions/theory/outline_BachelorProject/code/testdata_b.txt\")"
   ]
  },
  {
   "cell_type": "code",
   "execution_count": null,
   "metadata": {},
   "outputs": [],
   "source": []
  }
 ]
}