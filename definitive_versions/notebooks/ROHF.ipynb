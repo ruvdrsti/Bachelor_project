{
 "metadata": {
  "orig_nbformat": 2,
  "kernelspec": {
   "name": "python3",
   "display_name": "Python 3",
   "language": "python"
  }
 },
 "nbformat": 4,
 "nbformat_minor": 2,
 "cells": [
  {
   "source": [
    "#  ROHF comparison\n",
    "In this notebook, we will use psi4 to generate some data. Then we will attempt to use an equivalent method to the ```CIS.py``` file in order to generate data for ROHF references. This will serve as a way to verify the code already written and as a catalyst for outline inspiration."
   ],
   "cell_type": "markdown",
   "metadata": {}
  },
  {
   "cell_type": "code",
   "execution_count": 1,
   "metadata": {},
   "outputs": [],
   "source": [
    "import psi4\n",
    "import numpy as np"
   ]
  },
  {
   "cell_type": "code",
   "execution_count": 43,
   "metadata": {},
   "outputs": [
    {
     "output_type": "execute_result",
     "data": {
      "text/plain": [
       "-115.00893006028255"
      ]
     },
     "metadata": {},
     "execution_count": 43
    }
   ],
   "source": [
    "psi4.set_options({\"basis\":\"sto-3g\", \"reference\": \"cuhf\", \"scf_type\":\"pk\"})\n",
    "allyl = psi4.geometry(\"\"\"\n",
    "0 2\n",
    "H\n",
    "C 1 r2\n",
    "C 2 r3 1 a3\n",
    "C 2 r3 1 a3 3 180.\n",
    "H 3 r5 2 a5 1 0.\n",
    "H 4 r5 2 a5 1 0.\n",
    "H 3 r7 2 a7 1 180.\n",
    "H 4 r7 2 a7 1 180.\n",
    "\n",
    "r2=1.08424658\n",
    "r3=1.40526604\n",
    "r5=1.08095381\n",
    "r7=1.08131649\n",
    "a3=117.99450641\n",
    "a5=121.41544408\n",
    "a7=121.21891262\n",
    "symmetry c1\n",
    "\n",
    "\"\"\")\n",
    "E, wfn = psi4.energy(\"scf\", return_wfn = True)\n",
    "E"
   ]
  },
  {
   "source": [
    "We will now copy the code from the ```CIS.py``` file and generate a datafile for ROHF. It can then be compared to the data in the CUHF files that are already generated."
   ],
   "cell_type": "markdown",
   "metadata": {}
  },
  {
   "cell_type": "code",
   "execution_count": 44,
   "metadata": {},
   "outputs": [],
   "source": [
    "def displayCISHamiltonian(wfn, geom):\n",
    "    \"\"\"displays the CIS hamiltonian in MO basis\"\"\"\n",
    "    # getting the orbital energies\n",
    "    \n",
    "    epsilon_a, C_a = wfn.epsilon_a().np, wfn.Ca().np\n",
    "    epsilon_b, C_b = wfn.epsilon_b().np, wfn.Cb().np\n",
    "    epsilon = np.append(epsilon_a, epsilon_b) # accounts for the fact that the energies might be different\n",
    "    sortedorder = np.argsort(epsilon)\n",
    "    epsilon = np.sort(epsilon)\n",
    "    \n",
    "    # make the C matrix => it contains all the orbitals, both alpha and beta\n",
    "    C = np.block([[C_a, np.zeros(C_a.shape)], [np.zeros(C_b.shape), C_b]]) # accounts for the fact that the orbitals might be different (uhf, cuhf)\n",
    "    C = C[:, sortedorder] # sort the eigenfunctions\n",
    "    \n",
    "    basis = wfn.basisset()\n",
    "    mints = psi4.core.MintsHelper(basis)\n",
    "\n",
    "    # getting the two electron integrals in correct basis => we need it in MO basis\n",
    "    tei = mints.ao_eri().np # given in chemists notation\n",
    "\n",
    "    #change the basis of the tei\n",
    "    tei_int = np.kron(np.eye(2), tei)\n",
    "    tei_big = np.kron(np.eye(2), tei_int.T)\n",
    "\n",
    "    tei_ao = tei_big.transpose(0, 2, 1, 3) - tei_big.transpose(0, 2, 3, 1) # accounts for both coulomb and exchange, switch to physisists notation\n",
    "    tei_mo = np.einsum(\"pQRS,pP->PQRS\", np.einsum(\"pqRS,qQ->pQRS\", np.einsum(\"pqrS,rR->pqRS\", np.einsum(\"pqrs,sS->pqrS\", tei_ao, C, optimize=True), C, optimize=True), C, optimize=True), C, optimize=True)\n",
    "    \n",
    "    occupied = wfn.nalpha() + wfn.nbeta()\n",
    "    available = mints.nbf()*2\n",
    "    virtual = available - occupied\n",
    "    #getting the excitations\n",
    "    excitations = []\n",
    "    for orbital in range(occupied): # for every occupied orbital\n",
    "        for another_orbital in range(occupied, available): # we can make an excitation to every virtual orbital\n",
    "            excitations.append((orbital, another_orbital))\n",
    "    # getting the hamiltonian\n",
    "    dim = occupied*virtual\n",
    "    H_cis = np.zeros((dim, dim))\n",
    "    for row, excitation in enumerate(excitations):\n",
    "        i, a = excitation\n",
    "        for collumn, another_excitation in enumerate(excitations):\n",
    "            j, b = another_excitation   \n",
    "            H_cis[row, collumn] = (epsilon[a] - epsilon[i])*(i == j)*(a == b) + tei_mo[a, j, i, b]\n",
    "    \n",
    "\n",
    "    # get the E_0 value in the hamiltonian\n",
    "    extra_row = np.zeros((H_cis.shape[1],))\n",
    "    H_cis = np.vstack((extra_row, H_cis))\n",
    "    extra_collumn = np.zeros((H_cis.shape[0], 1))\n",
    "    H_cis = np.hstack((extra_collumn, H_cis))\n",
    "    H_cis[0,0] = E\n",
    "    return H_cis, excitations\n",
    "ham, excitations = displayCISHamiltonian(wfn, allyl)"
   ]
  },
  {
   "cell_type": "code",
   "execution_count": 45,
   "metadata": {},
   "outputs": [],
   "source": [
    "from scipy.linalg import eigh\n",
    "exits, coefs = eigh(ham)"
   ]
  },
  {
   "cell_type": "code",
   "execution_count": 46,
   "metadata": {},
   "outputs": [],
   "source": [
    "def GetExitations(exits, coefs, excitations, filepath=\"NoNameGiven\"):\n",
    "        \"\"\"Get the excitation energies and the contributions\"\"\"\n",
    "        if filepath == \"NoNameGiven\":\n",
    "            raise ValueError(\"no path specified\")\n",
    "        from pathlib import Path\n",
    "        Path(f\"{filepath}\").touch()\n",
    "        datafile = open(f\"{filepath}\", \"w\")\n",
    "        contrib = coefs[1:, 1:]**2\n",
    "        energies = exits[1:]\n",
    "        counterdict = {} # added to check how many times a certain excitation occurs\n",
    "        datafile.writelines(f\"scf energy for ROHF: {E}\\n\")\n",
    "        for state, energy in enumerate(energies):\n",
    "            datafile.writelines(f\" {state + 1} : {energy}\\n\")\n",
    "            for excitation, contribution in enumerate(contrib[:, state]):\n",
    "                if contribution*100 > 1:\n",
    "                    datafile.writelines(f\"\\t{contribution:.3f} : {excitations[excitation]}\\n\")\n",
    "                    if excitations[excitation] not in counterdict:\n",
    "                        counterdict[excitations[excitation]] = 0\n",
    "                    counterdict[excitations[excitation]] += 1   \n",
    "        datafile.close()\n",
    "GetExitations(exits, coefs, excitations, \"/user/gent/440/vsc44013/Bachelor_project/Bachelor_project/definitive_versions/notebooks/ROHF_CUHF/CUHF_cis.txt\")"
   ]
  },
  {
   "cell_type": "code",
   "execution_count": null,
   "metadata": {},
   "outputs": [],
   "source": []
  }
 ]
}