{
 "cells": [
  {
   "cell_type": "code",
   "execution_count": null,
   "id": "meaningful-efficiency",
   "metadata": {},
   "outputs": [],
   "source": [
    "def basischanger(c, f):\n",
    "        \"\"\"\n",
    "        allows a change in basis\n",
    "        \n",
    "        input:\n",
    "        c: transformation matrix\n",
    "        f: operator to be transformed\n",
    "        \"\"\"\n",
    "        return np.einsum(\"ij,jm,mn->in\", c.T, f, c, optimize=True)"
   ]
  },
  {
   "cell_type": "code",
   "execution_count": 1,
   "id": "dress-intervention",
   "metadata": {},
   "outputs": [],
   "source": [
    "class ConstrainedMolecule:\n",
    "    def __init__(self, geom_file):\n",
    "        \"\"\"initiation method, will take in a geometry\"\"\"\n",
    "        #this parameter contains all parameters and methods from the Molecule class\n",
    "        self.id = Molecule(geom_file)\n",
    "        self.id.setGuess()\n",
    "        \n",
    "        #getting some old and some new matrices\n",
    "        self.gamma_alpha = self.id.getDensityMatrix(\"alpha\")\n",
    "        self.gamma_beta = self.id.getDensityMatrix(\"beta\")\n",
    "        self.pMatrix = (self.gamma_alpha + self.gamma_beta)/2\n",
    "        self.transform = eigh(self.pMatrix, self.id.overlap)[1]\n",
    "        \n",
    "    \n",
    "    def fock_Alternator(self, spin):\n",
    "        \"alters a fock operator to follow CUHF\"\n",
    "        assert spin == \"alpha\" or spin == \"beta\", f\"{spin}: no valid spin\"\n",
    "        f = self.id.displayFockMatrix(spin)\n",
    "        f_trans = basischanger(self.transform, f)\n",
    "        coulomb_a = np.einsum(\"nopq,pq->no\", self.id.displayElectronRepulsion(), self.pMatrix, optimize=True)\n",
    "        exchange = np.einsum(\"npoq,pq->no\", self.id.displayElectronRepulsion(), self.pMatrix, optimize=True)\n",
    "        closed_shell_type = 0.5*(self.id.displayHamiltonian() + 2*coulomb_a - exchange)\n",
    "        closed_shell_trans = basischanger(self.transform, closed_shell_type)\n",
    "        \n",
    "        # amount of paired electrons\n",
    "        cc = self.id.beta\n",
    "        \n",
    "        # amount of unpaored electrons\n",
    "        oo = self.id.alpha - self.id.beta\n",
    "        \n",
    "        # amount of unoccupied orbitals\n",
    "        \n",
    "        # alter first block\n",
    "        f_trans[:cc + oo, cc + oo:] = closed_shell_type[:cc + oo, cc + oo:]\n",
    "        \n",
    "        # alter block in transposed position\n",
    "        f_trans[cc + oo:, :cc + oo] = closed_shell_type[cc + oo:, :cc + oo]\n",
    "        \n",
    "        \n",
    "        return f_trans\n",
    "        \n",
    "    def iteratinator(self):\n",
    "        self.id.setGuess(self.fock_Alternator(\"alpha\"), \"alpha\")\n",
    "        self.id.setGuess(self.fock_Alternator(\"beta\"), \"beta\")\n",
    "        return self.id.iterator(iteration=1000)\n",
    "    \n",
    "    \n",
    "    def updatePMatrix(self):\n",
    "        \"\"\"updates pMatrix to current self.id densitymatrices\"\"\"\n",
    "        self.pMatrix = (self.id.getDensityMatrix(\"alpha\") + self.id.getDensityMatrix(\"beta\"))"
   ]
  },
  {
   "cell_type": "code",
   "execution_count": null,
   "id": "photographic-tower",
   "metadata": {},
   "outputs": [],
   "source": []
  },
  {
   "cell_type": "code",
   "execution_count": null,
   "id": "varied-twins",
   "metadata": {},
   "outputs": [],
   "source": []
  },
  {
   "cell_type": "code",
   "execution_count": null,
   "id": "tutorial-google",
   "metadata": {},
   "outputs": [],
   "source": []
  }
 ],
 "metadata": {
  "kernelspec": {
   "display_name": "Python 3",
   "language": "python",
   "name": "python3"
  },
  "language_info": {
   "codemirror_mode": {
    "name": "ipython",
    "version": 3
   },
   "file_extension": ".py",
   "mimetype": "text/x-python",
   "name": "python",
   "nbconvert_exporter": "python",
   "pygments_lexer": "ipython3",
   "version": "3.7.9"
  }
 },
 "nbformat": 4,
 "nbformat_minor": 5
}
