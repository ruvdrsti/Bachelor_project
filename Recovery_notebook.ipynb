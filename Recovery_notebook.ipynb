{
 "cells": [
  {
   "cell_type": "code",
   "execution_count": 1,
   "id": "turkish-regard",
   "metadata": {},
   "outputs": [],
   "source": [
    "from compChem.Hartree_Fock import Molecule # package is available on github\n",
    "from scipy.linalg import eigh, eig\n",
    "import numpy as np\n",
    "import psi4"
   ]
  },
  {
   "cell_type": "code",
   "execution_count": 2,
   "id": "fitted-marketing",
   "metadata": {},
   "outputs": [
    {
     "data": {
      "text/plain": [
       "500000000"
      ]
     },
     "execution_count": 2,
     "metadata": {},
     "output_type": "execute_result"
    }
   ],
   "source": [
    "numpy_memory = 4\n",
    "psi4.set_memory(int(5e8))"
   ]
  },
  {
   "cell_type": "code",
   "execution_count": 3,
   "id": "ancient-magnet",
   "metadata": {},
   "outputs": [],
   "source": [
    "class ConstrainedMolecule:\n",
    "    def __init__(self, geom_file, radical=False):\n",
    "        \"\"\"initiation method, will take in a geometry\"\"\"\n",
    "        #this parameter contains all parameters and methods from the Molecule class\n",
    "        self.id = Molecule(geom_file)\n",
    "        self.id.setGuess()\n",
    "        \n",
    "    \n",
    "    def setChargeDensity(self, new_matrix):\n",
    "        \"\"\"sets the pMatrix to a new value\"\"\"\n",
    "        self.pMatrix = new_matrix\n",
    "        \n",
    "    \n",
    "    def basischanger(self):\n",
    "        \"\"\"\n",
    "        changes to NO basis, applies constraint, then changes back\n",
    "        \"\"\"\n",
    "        # transform p to MO basis, where mo basis = the eigenfunctions of the f_a operator\n",
    "        a = self.id.getDensityMatrix(\"alpha\")\n",
    "        b = self.id.getDensityMatrix(\"beta\")\n",
    "        f_a, f_b = self.id.displayFockMatrix(\"alpha\"), self.id.displayFockMatrix(\"beta\")\n",
    "        p = (a+b)/2\n",
    "        c = eigh(f_a, self.id.overlap)[1] # we only need the c matrix, not the eigenvalues themselves,\n",
    "        \n",
    "        delta = (f_b-f_a)/2\n",
    "        f_cs = (f_a+f_b)/2\n",
    "        # pay attention, c matrices are not unitary\n",
    "        c_inv = np.linalg.inv(c) # we need the inverse for later\n",
    "        p_trans = np.einsum(\"pq, qr, rs->ps\", c_inv, p, c_inv.T, optimize=True)\n",
    "        delta_trans = np.einsum(\"pq, qr, rs->ps\", c.T, delta, c, optimize=True)\n",
    "        \n",
    "        \n",
    "         # transform the fock matrices to NO basis\n",
    "        d = eigh(p_trans)[1]\n",
    "        d = d[:, ::-1] #invert all collumns\n",
    "    \n",
    "        d_inv = np.linalg.inv(d)\n",
    "        delta_no = np.einsum(\"pq, qr, rs->ps\", d.T, delta_trans, d, optimize=True)\n",
    "        \n",
    "        alpha = self.id.alpha \n",
    "        beta = self.id.beta\n",
    "        #alter first blocks\n",
    "        \n",
    "        delta_no[alpha:, :beta] = 0\n",
    "        delta_no[:beta, alpha:] = 0\n",
    "        delta_ao = np.einsum(\"pq, qr, rs->ps\",c_inv.T.dot(d_inv.T), delta_no, d_inv.dot(c_inv), optimize=True)\n",
    "        \n",
    "        \n",
    "        return f_cs - delta_ao, f_cs + delta_ao\n",
    "    \n",
    "    \n",
    "    def iteratinator(self):\n",
    "        \"\"\"adapted version of the original iterator function in the compChem.Hartree_Fock Molecule object\"\"\"\n",
    "        # setting up entry parameters for the while loop\n",
    "        E_new = 0  \n",
    "        E_old = 0\n",
    "        convergence = False\n",
    "\n",
    "        # step 2: start iterating\n",
    "        itercount = 0\n",
    "        while not convergence and itercount < 5000:\n",
    "            # calculating block: calculates energies\n",
    "            E_new = self.id.getElectronicEnergy()\n",
    "            E_total = self.id.getTotalEnergy()\n",
    "\n",
    "            # generating block: generates new matrices UHF: account for alpha and beta, first we do the CUHF alteration\n",
    "            f_a_n, f_b_n = self.basischanger()\n",
    "            self.id.setGuess(f_a_n, \"alpha\")\n",
    "            self.id.setGuess(f_b_n, \"beta\")\n",
    "\n",
    "            # comparing block: will answer the \"Are we there yet?\" question\n",
    "            if abs(E_old - E_new) < self.id.converge:\n",
    "                convergence = True\n",
    "\n",
    "\n",
    "            # maintenance block: keeps everything going\n",
    "            print(f\"iteration: {itercount}, E_tot: {E_total: .8f}, E_elek: {E_new: .8f}, deltaE: {E_new - E_old: .8f}\")\n",
    "            E_old = E_new\n",
    "\n",
    "            itercount += 1\n",
    "        \n",
    "        return E_total\n",
    "    \n",
    "    def setElectrons(self, alpha, beta):\n",
    "        \"\"\"sets the amount electrons of each spin\"\"\"\n",
    "        self.id.alpha = alpha\n",
    "        self.id.beta = beta"
   ]
  },
  {
   "cell_type": "code",
   "execution_count": null,
   "id": "educational-yield",
   "metadata": {},
   "outputs": [],
   "source": []
  },
  {
   "cell_type": "code",
   "execution_count": 14,
   "id": "backed-paragraph",
   "metadata": {},
   "outputs": [
    {
     "name": "stdout",
     "output_type": "stream",
     "text": [
      "iteration: 0, E_tot: -3.07773556, E_elek: -4.66526719, deltaE: -4.66526719\n",
      "iteration: 1, E_tot: -1.34539207, E_elek: -2.93292370, deltaE:  1.73234349\n",
      "iteration: 2, E_tot: -1.48343662, E_elek: -3.07096825, deltaE: -0.13804455\n",
      "iteration: 3, E_tot: -1.49962176, E_elek: -3.08715339, deltaE: -0.01618514\n",
      "iteration: 4, E_tot: -1.50223131, E_elek: -3.08976295, deltaE: -0.00260956\n",
      "iteration: 5, E_tot: -1.50281605, E_elek: -3.09034768, deltaE: -0.00058474\n",
      "iteration: 6, E_tot: -1.50299525, E_elek: -3.09052688, deltaE: -0.00017920\n",
      "iteration: 7, E_tot: -1.50306196, E_elek: -3.09059359, deltaE: -0.00006671\n",
      "iteration: 8, E_tot: -1.50308948, E_elek: -3.09062112, deltaE: -0.00002752\n",
      "iteration: 9, E_tot: -1.50310151, E_elek: -3.09063314, deltaE: -0.00001203\n",
      "iteration: 10, E_tot: -1.50310696, E_elek: -3.09063859, deltaE: -0.00000545\n",
      "iteration: 11, E_tot: -1.50310950, E_elek: -3.09064113, deltaE: -0.00000254\n",
      "iteration: 12, E_tot: -1.50311071, E_elek: -3.09064234, deltaE: -0.00000121\n",
      "iteration: 13, E_tot: -1.50311129, E_elek: -3.09064293, deltaE: -0.00000058\n",
      "iteration: 14, E_tot: -1.50311158, E_elek: -3.09064321, deltaE: -0.00000029\n",
      "iteration: 15, E_tot: -1.50311172, E_elek: -3.09064335, deltaE: -0.00000014\n",
      "iteration: 16, E_tot: -1.50311179, E_elek: -3.09064342, deltaE: -0.00000007\n",
      "iteration: 17, E_tot: -1.50311183, E_elek: -3.09064346, deltaE: -0.00000004\n",
      "iteration: 18, E_tot: -1.50311184, E_elek: -3.09064348, deltaE: -0.00000002\n",
      "iteration: 19, E_tot: -1.50311185, E_elek: -3.09064349, deltaE: -0.00000001\n",
      "iteration: 20, E_tot: -1.50311186, E_elek: -3.09064349, deltaE: -0.00000000\n",
      "iteration: 21, E_tot: -1.50311186, E_elek: -3.09064349, deltaE: -0.00000000\n",
      "iteration: 22, E_tot: -1.50311186, E_elek: -3.09064349, deltaE: -0.00000000\n",
      "iteration: 23, E_tot: -1.50311186, E_elek: -3.09064349, deltaE: -0.00000000\n",
      "iteration: 24, E_tot: -1.50311186, E_elek: -3.09064349, deltaE: -0.00000000\n",
      "iteration: 25, E_tot: -1.50311186, E_elek: -3.09064350, deltaE: -0.00000000\n",
      "iteration: 26, E_tot: -1.50311186, E_elek: -3.09064350, deltaE: -0.00000000\n",
      "iteration: 27, E_tot: -1.50311186, E_elek: -3.09064350, deltaE: -0.00000000\n",
      "iteration: 28, E_tot: -1.50311186, E_elek: -3.09064350, deltaE: -0.00000000\n",
      "iteration: 29, E_tot: -1.50311186, E_elek: -3.09064350, deltaE: -0.00000000\n",
      "iteration: 30, E_tot: -1.50311186, E_elek: -3.09064350, deltaE: -0.00000000\n",
      "iteration: 31, E_tot: -1.50311186, E_elek: -3.09064350, deltaE: -0.00000000\n",
      "iteration: 32, E_tot: -1.50311186, E_elek: -3.09064350, deltaE: -0.00000000\n",
      "iteration: 33, E_tot: -1.50311186, E_elek: -3.09064350, deltaE: -0.00000000\n",
      "iteration: 34, E_tot: -1.50311186, E_elek: -3.09064350, deltaE: -0.00000000\n",
      "iteration: 35, E_tot: -1.50311186, E_elek: -3.09064350, deltaE: -0.00000000\n",
      "iteration: 36, E_tot: -1.50311186, E_elek: -3.09064350, deltaE: -0.00000000\n",
      "iteration: 37, E_tot: -1.50311186, E_elek: -3.09064350, deltaE: -0.00000000\n",
      "iteration: 38, E_tot: -1.50311186, E_elek: -3.09064350, deltaE: -0.00000000\n",
      "iteration: 39, E_tot: -1.50311186, E_elek: -3.09064350, deltaE: -0.00000000\n",
      "iteration: 40, E_tot: -1.50311186, E_elek: -3.09064350, deltaE: -0.00000000\n",
      "iteration: 41, E_tot: -1.50311186, E_elek: -3.09064350, deltaE: -0.00000000\n",
      "iteration: 42, E_tot: -1.50311186, E_elek: -3.09064350, deltaE: -0.00000000\n",
      "iteration: 43, E_tot: -1.50311186, E_elek: -3.09064350, deltaE: -0.00000000\n",
      "iteration: 44, E_tot: -1.50311186, E_elek: -3.09064350, deltaE: -0.00000000\n",
      "iteration: 45, E_tot: -1.50311186, E_elek: -3.09064350, deltaE: -0.00000000\n",
      "iteration: 46, E_tot: -1.50311186, E_elek: -3.09064350, deltaE: -0.00000000\n",
      "iteration: 47, E_tot: -1.50311186, E_elek: -3.09064350, deltaE: -0.00000000\n",
      "iteration: 48, E_tot: -1.50311186, E_elek: -3.09064350, deltaE: -0.00000000\n",
      "iteration: 49, E_tot: -1.50311186, E_elek: -3.09064350, deltaE: -0.00000000\n",
      "iteration: 50, E_tot: -1.50311186, E_elek: -3.09064350, deltaE: -0.00000000\n",
      "iteration: 51, E_tot: -1.50311186, E_elek: -3.09064350, deltaE: -0.00000000\n",
      "iteration: 52, E_tot: -1.50311186, E_elek: -3.09064350, deltaE: -0.00000000\n",
      "iteration: 53, E_tot: -1.50311186, E_elek: -3.09064350, deltaE: -0.00000000\n",
      "iteration: 54, E_tot: -1.50311186, E_elek: -3.09064350, deltaE: -0.00000000\n",
      "iteration: 55, E_tot: -1.50311186, E_elek: -3.09064350, deltaE: -0.00000000\n",
      "iteration: 56, E_tot: -1.50311186, E_elek: -3.09064350, deltaE: -0.00000000\n",
      "iteration: 57, E_tot: -1.50311186, E_elek: -3.09064350, deltaE: -0.00000000\n",
      "iteration: 58, E_tot: -1.50311186, E_elek: -3.09064350, deltaE: -0.00000000\n",
      "iteration: 59, E_tot: -1.50311186, E_elek: -3.09064350, deltaE: -0.00000000\n",
      "iteration: 60, E_tot: -1.50311186, E_elek: -3.09064350, deltaE: -0.00000000\n",
      "iteration: 61, E_tot: -1.50311186, E_elek: -3.09064350, deltaE: -0.00000000\n",
      "iteration: 62, E_tot: -1.50311186, E_elek: -3.09064350, deltaE: -0.00000000\n",
      "iteration: 63, E_tot: -1.50311186, E_elek: -3.09064350, deltaE: -0.00000000\n",
      "iteration: 64, E_tot: -1.50311186, E_elek: -3.09064350, deltaE: -0.00000000\n",
      "iteration: 65, E_tot: -1.50311186, E_elek: -3.09064350, deltaE: -0.00000000\n",
      "iteration: 66, E_tot: -1.50311186, E_elek: -3.09064350, deltaE: -0.00000000\n",
      "iteration: 67, E_tot: -1.50311186, E_elek: -3.09064350, deltaE: -0.00000000\n",
      "iteration: 68, E_tot: -1.50311186, E_elek: -3.09064350, deltaE: -0.00000000\n",
      "iteration: 69, E_tot: -1.50311186, E_elek: -3.09064350, deltaE: -0.00000000\n",
      "iteration: 70, E_tot: -1.50311186, E_elek: -3.09064350, deltaE: -0.00000000\n",
      "iteration: 71, E_tot: -1.50311186, E_elek: -3.09064350, deltaE: -0.00000000\n",
      "iteration: 72, E_tot: -1.50311186, E_elek: -3.09064350, deltaE: -0.00000000\n",
      "iteration: 73, E_tot: -1.50311186, E_elek: -3.09064350, deltaE: -0.00000000\n",
      "iteration: 74, E_tot: -1.50311186, E_elek: -3.09064350, deltaE: -0.00000000\n",
      "iteration: 75, E_tot: -1.50311186, E_elek: -3.09064350, deltaE: -0.00000000\n",
      "iteration: 76, E_tot: -1.50311186, E_elek: -3.09064350, deltaE: -0.00000000\n",
      "iteration: 77, E_tot: -1.50311186, E_elek: -3.09064350, deltaE: -0.00000000\n",
      "iteration: 78, E_tot: -1.50311186, E_elek: -3.09064350, deltaE: -0.00000000\n",
      "iteration: 79, E_tot: -1.50311186, E_elek: -3.09064350, deltaE: -0.00000000\n",
      "iteration: 80, E_tot: -1.50311186, E_elek: -3.09064350, deltaE: -0.00000000\n",
      "iteration: 81, E_tot: -1.50311186, E_elek: -3.09064350, deltaE: -0.00000000\n",
      "iteration: 82, E_tot: -1.50311186, E_elek: -3.09064350, deltaE: -0.00000000\n",
      "iteration: 83, E_tot: -1.50311186, E_elek: -3.09064350, deltaE: -0.00000000\n",
      "iteration: 84, E_tot: -1.50311186, E_elek: -3.09064350, deltaE: -0.00000000\n",
      "iteration: 85, E_tot: -1.50311186, E_elek: -3.09064350, deltaE: -0.00000000\n",
      "iteration: 86, E_tot: -1.50311186, E_elek: -3.09064350, deltaE: -0.00000000\n",
      "iteration: 87, E_tot: -1.50311186, E_elek: -3.09064350, deltaE: -0.00000000\n",
      "iteration: 88, E_tot: -1.50311186, E_elek: -3.09064350, deltaE: -0.00000000\n",
      "iteration: 89, E_tot: -1.50311186, E_elek: -3.09064350, deltaE: -0.00000000\n",
      "iteration: 90, E_tot: -1.50311186, E_elek: -3.09064350, deltaE: -0.00000000\n",
      "iteration: 91, E_tot: -1.50311186, E_elek: -3.09064350, deltaE: -0.00000000\n",
      "iteration: 92, E_tot: -1.50311186, E_elek: -3.09064350, deltaE: -0.00000000\n",
      "iteration: 93, E_tot: -1.50311186, E_elek: -3.09064350, deltaE: -0.00000000\n",
      "iteration: 94, E_tot: -1.50311186, E_elek: -3.09064350, deltaE: -0.00000000\n",
      "iteration: 95, E_tot: -1.50311186, E_elek: -3.09064350, deltaE: -0.00000000\n",
      "iteration: 96, E_tot: -1.50311186, E_elek: -3.09064350, deltaE: -0.00000000\n",
      "iteration: 97, E_tot: -1.50311186, E_elek: -3.09064350, deltaE: -0.00000000\n",
      "iteration: 98, E_tot: -1.50311186, E_elek: -3.09064350, deltaE: -0.00000000\n",
      "iteration: 99, E_tot: -1.50311186, E_elek: -3.09064350, deltaE: -0.00000000\n",
      "iteration: 100, E_tot: -1.50311186, E_elek: -3.09064350, deltaE: -0.00000000\n",
      "iteration: 101, E_tot: -1.50311186, E_elek: -3.09064350, deltaE: -0.00000000\n",
      "iteration: 102, E_tot: -1.50311186, E_elek: -3.09064350, deltaE: -0.00000000\n",
      "iteration: 103, E_tot: -1.50311186, E_elek: -3.09064350, deltaE: -0.00000000\n",
      "iteration: 104, E_tot: -1.50311186, E_elek: -3.09064350, deltaE: -0.00000000\n",
      "iteration: 105, E_tot: -1.50311186, E_elek: -3.09064350, deltaE: -0.00000000\n",
      "iteration: 106, E_tot: -1.50311186, E_elek: -3.09064350, deltaE: -0.00000000\n",
      "iteration: 107, E_tot: -1.50311186, E_elek: -3.09064350, deltaE:  0.00000000\n",
      "iteration: 108, E_tot: -1.50311186, E_elek: -3.09064350, deltaE: -0.00000000\n",
      "iteration: 109, E_tot: -1.50311186, E_elek: -3.09064350, deltaE:  0.00000000\n",
      "iteration: 110, E_tot: -1.50311186, E_elek: -3.09064350, deltaE: -0.00000000\n",
      "iteration: 111, E_tot: -1.50311186, E_elek: -3.09064350, deltaE: -0.00000000\n",
      "iteration: 112, E_tot: -1.50311186, E_elek: -3.09064350, deltaE:  0.00000000\n"
     ]
    },
    {
     "name": "stdout",
     "output_type": "stream",
     "text": [
      "iteration: 113, E_tot: -1.50311186, E_elek: -3.09064350, deltaE: -0.00000000\n",
      "iteration: 114, E_tot: -1.50311186, E_elek: -3.09064350, deltaE: -0.00000000\n",
      "iteration: 115, E_tot: -1.50311186, E_elek: -3.09064350, deltaE:  0.00000000\n",
      "iteration: 116, E_tot: -1.50311186, E_elek: -3.09064350, deltaE: -0.00000000\n",
      "iteration: 117, E_tot: -1.50311186, E_elek: -3.09064350, deltaE:  0.00000000\n"
     ]
    },
    {
     "data": {
      "text/plain": [
       "-1.5031118631777187"
      ]
     },
     "execution_count": 14,
     "metadata": {},
     "output_type": "execute_result"
    }
   ],
   "source": [
    "psi4.set_options({\"BASIS\": \"cc-pvdz\", 'reference': 'cuhf'})\n",
    "h1 = ConstrainedMolecule(\"\"\"\n",
    "H 0 0 0\n",
    "H 0 0.86602540378 0.5\n",
    "H 0 0 1\n",
    "units angstrom\"\"\")\n",
    "h1.id.setConvergence(1e-20)\n",
    "h1.iteratinator()"
   ]
  },
  {
   "cell_type": "code",
   "execution_count": null,
   "id": "utility-neighborhood",
   "metadata": {},
   "outputs": [],
   "source": []
  },
  {
   "cell_type": "code",
   "execution_count": 8,
   "id": "looking-technique",
   "metadata": {},
   "outputs": [
    {
     "name": "stdout",
     "output_type": "stream",
     "text": [
      "iteration: 0, E_tot: -220.74589426, E_elek: -285.09922572, deltaE: -285.09922572\n",
      "iteration: 1, E_tot: -101.28247061, E_elek: -165.63580207, deltaE:  119.46342365\n",
      "iteration: 2, E_tot: -119.19963780, E_elek: -183.55296926, deltaE: -17.91716719\n",
      "iteration: 3, E_tot: -112.76779541, E_elek: -177.12112687, deltaE:  6.43184239\n",
      "iteration: 4, E_tot: -114.24306055, E_elek: -178.59639201, deltaE: -1.47526514\n",
      "iteration: 5, E_tot: -114.33545897, E_elek: -178.68879043, deltaE: -0.09239842\n",
      "iteration: 6, E_tot: -115.17074866, E_elek: -179.52408012, deltaE: -0.83528969\n",
      "iteration: 7, E_tot: -114.60853473, E_elek: -178.96186619, deltaE:  0.56221393\n",
      "iteration: 8, E_tot: -114.88318365, E_elek: -179.23651511, deltaE: -0.27464892\n",
      "iteration: 9, E_tot: -114.77474352, E_elek: -179.12807498, deltaE:  0.10844013\n",
      "iteration: 10, E_tot: -114.81838531, E_elek: -179.17171677, deltaE: -0.04364179\n",
      "iteration: 11, E_tot: -114.80072186, E_elek: -179.15405332, deltaE:  0.01766346\n",
      "iteration: 12, E_tot: -114.80771748, E_elek: -179.16104894, deltaE: -0.00699562\n",
      "iteration: 13, E_tot: -114.80485389, E_elek: -179.15818535, deltaE:  0.00286359\n",
      "iteration: 14, E_tot: -114.80597683, E_elek: -179.15930829, deltaE: -0.00112294\n",
      "iteration: 15, E_tot: -114.80551218, E_elek: -179.15884364, deltaE:  0.00046465\n",
      "iteration: 16, E_tot: -114.80569209, E_elek: -179.15902355, deltaE: -0.00017991\n",
      "iteration: 17, E_tot: -114.80561650, E_elek: -179.15894796, deltaE:  0.00007559\n",
      "iteration: 18, E_tot: -114.80564523, E_elek: -179.15897669, deltaE: -0.00002872\n",
      "iteration: 19, E_tot: -114.80563288, E_elek: -179.15896434, deltaE:  0.00001235\n",
      "iteration: 20, E_tot: -114.80563744, E_elek: -179.15896890, deltaE: -0.00000456\n",
      "iteration: 21, E_tot: -114.80563541, E_elek: -179.15896687, deltaE:  0.00000203\n",
      "iteration: 22, E_tot: -114.80563613, E_elek: -179.15896759, deltaE: -0.00000072\n",
      "iteration: 23, E_tot: -114.80563579, E_elek: -179.15896725, deltaE:  0.00000034\n",
      "iteration: 24, E_tot: -114.80563590, E_elek: -179.15896736, deltaE: -0.00000011\n",
      "iteration: 25, E_tot: -114.80563585, E_elek: -179.15896731, deltaE:  0.00000006\n",
      "iteration: 26, E_tot: -114.80563587, E_elek: -179.15896732, deltaE: -0.00000002\n",
      "iteration: 27, E_tot: -114.80563586, E_elek: -179.15896731, deltaE:  0.00000001\n",
      "iteration: 28, E_tot: -114.80563586, E_elek: -179.15896732, deltaE: -0.00000000\n",
      "iteration: 29, E_tot: -114.80563586, E_elek: -179.15896732, deltaE:  0.00000000\n",
      "iteration: 30, E_tot: -114.80563586, E_elek: -179.15896732, deltaE: -0.00000000\n",
      "iteration: 31, E_tot: -114.80563586, E_elek: -179.15896732, deltaE:  0.00000000\n",
      "iteration: 32, E_tot: -114.80563586, E_elek: -179.15896732, deltaE: -0.00000000\n",
      "iteration: 33, E_tot: -114.80563586, E_elek: -179.15896732, deltaE:  0.00000000\n",
      "iteration: 34, E_tot: -114.80563586, E_elek: -179.15896732, deltaE: -0.00000000\n",
      "iteration: 35, E_tot: -114.80563586, E_elek: -179.15896732, deltaE:  0.00000000\n",
      "iteration: 36, E_tot: -114.80563586, E_elek: -179.15896732, deltaE:  0.00000000\n"
     ]
    },
    {
     "data": {
      "text/plain": [
       "-114.80563585642133"
      ]
     },
     "execution_count": 8,
     "metadata": {},
     "output_type": "execute_result"
    }
   ],
   "source": [
    "psi4.set_options({\"basis\":\"STO-3G\", 'reference':'cuhf'})\n",
    "allyl = ConstrainedMolecule(\"\"\"\n",
    "0 2\n",
    "H\n",
    "C 1 r2\n",
    "C 2 r3 1 a3\n",
    "C 2 r3 1 a3 3 180.\n",
    "H 3 r5 2 a5 1 0.\n",
    "H 4 r5 2 a5 1 0.\n",
    "H 3 r7 2 a7 1 180.\n",
    "H 4 r7 2 a7 1 180.\n",
    "\n",
    "r2=1.08424658\n",
    "r3=1.40526604\n",
    "r5=1.08095381\n",
    "r7=1.08131649\n",
    "a3=117.99450641\n",
    "a5=121.41544408\n",
    "a7=121.21891262\n",
    "symmetry c1\n",
    "\n",
    "\"\"\")\n",
    "allyl.id.setConvergence(1e-12)\n",
    "a = allyl.id.alpha\n",
    "b = allyl.id.beta\n",
    "tot = a + b -1\n",
    "\n",
    "allyl.setElectrons(tot//2 + tot%2, tot//2)\n",
    "allyl.iteratinator()"
   ]
  },
  {
   "cell_type": "code",
   "execution_count": 9,
   "id": "trained-security",
   "metadata": {},
   "outputs": [
    {
     "data": {
      "text/plain": [
       "-115.00929345796257"
      ]
     },
     "execution_count": 9,
     "metadata": {},
     "output_type": "execute_result"
    }
   ],
   "source": [
    "psi4.energy(\"scf\")"
   ]
  },
  {
   "cell_type": "code",
   "execution_count": 4,
   "id": "sublime-leave",
   "metadata": {},
   "outputs": [
    {
     "name": "stderr",
     "output_type": "stream",
     "text": [
      "/user/gent/440/vsc44013/.local/lib/python3.7/site-packages/compChem/Hartree_Fock.py:56: FutureWarning: elementwise comparison failed; returning scalar instead, but in the future will perform elementwise comparison\n",
      "  if self.guessMatrix_a == \"empty\" and self.guessMatrix_b == \"empty\":\n"
     ]
    },
    {
     "name": "stdout",
     "output_type": "stream",
     "text": [
      "iteration: 0, E_tot: -130.39723662, E_elek: -139.56542991, deltaE: -139.56542991\n",
      "iteration: 1, E_tot: -59.41525394, E_elek: -68.58344724, deltaE:  70.98198267\n",
      "iteration: 2, E_tot: -89.51296185, E_elek: -98.68115514, deltaE: -30.09770790\n",
      "iteration: 3, E_tot: -66.79324033, E_elek: -75.96143363, deltaE:  22.71972151\n",
      "iteration: 4, E_tot: -82.14507691, E_elek: -91.31327020, deltaE: -15.35183657\n",
      "iteration: 5, E_tot: -72.25642005, E_elek: -81.42461335, deltaE:  9.88865685\n",
      "iteration: 6, E_tot: -78.28128946, E_elek: -87.44948275, deltaE: -6.02486941\n",
      "iteration: 7, E_tot: -74.71561601, E_elek: -83.88380931, deltaE:  3.56567344\n",
      "iteration: 8, E_tot: -76.79184817, E_elek: -85.96004147, deltaE: -2.07623216\n",
      "iteration: 9, E_tot: -75.58519007, E_elek: -84.75338336, deltaE:  1.20665811\n",
      "iteration: 10, E_tot: -76.28267501, E_elek: -85.45086830, deltaE: -0.69748494\n",
      "iteration: 11, E_tot: -75.87889284, E_elek: -85.04708613, deltaE:  0.40378217\n",
      "iteration: 12, E_tot: -76.11217617, E_elek: -85.28036946, deltaE: -0.23328333\n",
      "iteration: 13, E_tot: -75.97726101, E_elek: -85.14545431, deltaE:  0.13491516\n",
      "iteration: 14, E_tot: -76.05522114, E_elek: -85.22341444, deltaE: -0.07796013\n",
      "iteration: 15, E_tot: -76.01014863, E_elek: -85.17834192, deltaE:  0.04507251\n",
      "iteration: 16, E_tot: -76.03619692, E_elek: -85.20439022, deltaE: -0.02604829\n",
      "iteration: 17, E_tot: -76.02113895, E_elek: -85.18933225, deltaE:  0.01505797\n",
      "iteration: 18, E_tot: -76.02984183, E_elek: -85.19803513, deltaE: -0.00870288\n",
      "iteration: 19, E_tot: -76.02481115, E_elek: -85.19300445, deltaE:  0.00503068\n",
      "iteration: 20, E_tot: -76.02771878, E_elek: -85.19591207, deltaE: -0.00290763\n",
      "iteration: 21, E_tot: -76.02603807, E_elek: -85.19423137, deltaE:  0.00168070\n",
      "iteration: 22, E_tot: -76.02700950, E_elek: -85.19520280, deltaE: -0.00097143\n",
      "iteration: 23, E_tot: -76.02644799, E_elek: -85.19464129, deltaE:  0.00056151\n",
      "iteration: 24, E_tot: -76.02677255, E_elek: -85.19496584, deltaE: -0.00032455\n",
      "iteration: 25, E_tot: -76.02658495, E_elek: -85.19477825, deltaE:  0.00018760\n",
      "iteration: 26, E_tot: -76.02669338, E_elek: -85.19488668, deltaE: -0.00010843\n",
      "iteration: 27, E_tot: -76.02663071, E_elek: -85.19482400, deltaE:  0.00006267\n",
      "iteration: 28, E_tot: -76.02666693, E_elek: -85.19486023, deltaE: -0.00003623\n",
      "iteration: 29, E_tot: -76.02664599, E_elek: -85.19483929, deltaE:  0.00002094\n",
      "iteration: 30, E_tot: -76.02665810, E_elek: -85.19485139, deltaE: -0.00001210\n",
      "iteration: 31, E_tot: -76.02665110, E_elek: -85.19484440, deltaE:  0.00000700\n",
      "iteration: 32, E_tot: -76.02665514, E_elek: -85.19484844, deltaE: -0.00000404\n",
      "iteration: 33, E_tot: -76.02665281, E_elek: -85.19484610, deltaE:  0.00000234\n",
      "iteration: 34, E_tot: -76.02665416, E_elek: -85.19484745, deltaE: -0.00000135\n",
      "iteration: 35, E_tot: -76.02665338, E_elek: -85.19484667, deltaE:  0.00000078\n",
      "iteration: 36, E_tot: -76.02665383, E_elek: -85.19484712, deltaE: -0.00000045\n",
      "iteration: 37, E_tot: -76.02665357, E_elek: -85.19484686, deltaE:  0.00000026\n",
      "iteration: 38, E_tot: -76.02665372, E_elek: -85.19484701, deltaE: -0.00000015\n",
      "iteration: 39, E_tot: -76.02665363, E_elek: -85.19484693, deltaE:  0.00000009\n",
      "iteration: 40, E_tot: -76.02665368, E_elek: -85.19484698, deltaE: -0.00000005\n",
      "iteration: 41, E_tot: -76.02665365, E_elek: -85.19484695, deltaE:  0.00000003\n",
      "iteration: 42, E_tot: -76.02665367, E_elek: -85.19484696, deltaE: -0.00000002\n",
      "iteration: 43, E_tot: -76.02665366, E_elek: -85.19484695, deltaE:  0.00000001\n",
      "iteration: 44, E_tot: -76.02665366, E_elek: -85.19484696, deltaE: -0.00000001\n",
      "iteration: 45, E_tot: -76.02665366, E_elek: -85.19484696, deltaE:  0.00000000\n",
      "iteration: 46, E_tot: -76.02665366, E_elek: -85.19484696, deltaE: -0.00000000\n",
      "iteration: 47, E_tot: -76.02665366, E_elek: -85.19484696, deltaE:  0.00000000\n",
      "iteration: 48, E_tot: -76.02665366, E_elek: -85.19484696, deltaE: -0.00000000\n",
      "iteration: 49, E_tot: -76.02665366, E_elek: -85.19484696, deltaE:  0.00000000\n",
      "iteration: 50, E_tot: -76.02665366, E_elek: -85.19484696, deltaE: -0.00000000\n",
      "iteration: 51, E_tot: -76.02665366, E_elek: -85.19484696, deltaE:  0.00000000\n",
      "iteration: 52, E_tot: -76.02665366, E_elek: -85.19484696, deltaE: -0.00000000\n",
      "iteration: 53, E_tot: -76.02665366, E_elek: -85.19484696, deltaE:  0.00000000\n",
      "iteration: 54, E_tot: -76.02665366, E_elek: -85.19484696, deltaE: -0.00000000\n",
      "iteration: 55, E_tot: -76.02665366, E_elek: -85.19484696, deltaE:  0.00000000\n",
      "iteration: 56, E_tot: -76.02665366, E_elek: -85.19484696, deltaE: -0.00000000\n",
      "iteration: 57, E_tot: -76.02665366, E_elek: -85.19484696, deltaE:  0.00000000\n",
      "iteration: 58, E_tot: -76.02665366, E_elek: -85.19484696, deltaE: -0.00000000\n",
      "iteration: 59, E_tot: -76.02665366, E_elek: -85.19484696, deltaE:  0.00000000\n",
      "iteration: 60, E_tot: -76.02665366, E_elek: -85.19484696, deltaE: -0.00000000\n",
      "iteration: 61, E_tot: -76.02665366, E_elek: -85.19484696, deltaE:  0.00000000\n",
      "iteration: 62, E_tot: -76.02665366, E_elek: -85.19484696, deltaE: -0.00000000\n",
      "iteration: 63, E_tot: -76.02665366, E_elek: -85.19484696, deltaE:  0.00000000\n",
      "iteration: 64, E_tot: -76.02665366, E_elek: -85.19484696, deltaE: -0.00000000\n",
      "iteration: 65, E_tot: -76.02665366, E_elek: -85.19484696, deltaE:  0.00000000\n",
      "iteration: 66, E_tot: -76.02665366, E_elek: -85.19484696, deltaE: -0.00000000\n",
      "iteration: 67, E_tot: -76.02665366, E_elek: -85.19484696, deltaE:  0.00000000\n",
      "iteration: 68, E_tot: -76.02665366, E_elek: -85.19484696, deltaE: -0.00000000\n",
      "iteration: 69, E_tot: -76.02665366, E_elek: -85.19484696, deltaE: -0.00000000\n",
      "iteration: 70, E_tot: -76.02665366, E_elek: -85.19484696, deltaE:  0.00000000\n",
      "iteration: 71, E_tot: -76.02665366, E_elek: -85.19484696, deltaE: -0.00000000\n",
      "iteration: 72, E_tot: -76.02665366, E_elek: -85.19484696, deltaE:  0.00000000\n",
      "iteration: 73, E_tot: -76.02665366, E_elek: -85.19484696, deltaE:  0.00000000\n",
      "iteration: 74, E_tot: -76.02665366, E_elek: -85.19484696, deltaE: -0.00000000\n",
      "iteration: 75, E_tot: -76.02665366, E_elek: -85.19484696, deltaE:  0.00000000\n",
      "iteration: 76, E_tot: -76.02665366, E_elek: -85.19484696, deltaE:  0.00000000\n",
      "iteration: 77, E_tot: -76.02665366, E_elek: -85.19484696, deltaE: -0.00000000\n",
      "iteration: 78, E_tot: -76.02665366, E_elek: -85.19484696, deltaE: -0.00000000\n",
      "iteration: 79, E_tot: -76.02665366, E_elek: -85.19484696, deltaE:  0.00000000\n",
      "iteration: 80, E_tot: -76.02665366, E_elek: -85.19484696, deltaE:  0.00000000\n",
      "iteration: 81, E_tot: -76.02665366, E_elek: -85.19484696, deltaE: -0.00000000\n",
      "iteration: 82, E_tot: -76.02665366, E_elek: -85.19484696, deltaE:  0.00000000\n",
      "iteration: 83, E_tot: -76.02665366, E_elek: -85.19484696, deltaE: -0.00000000\n",
      "iteration: 84, E_tot: -76.02665366, E_elek: -85.19484696, deltaE:  0.00000000\n",
      "iteration: 85, E_tot: -76.02665366, E_elek: -85.19484696, deltaE: -0.00000000\n",
      "iteration: 86, E_tot: -76.02665366, E_elek: -85.19484696, deltaE:  0.00000000\n",
      "iteration: 87, E_tot: -76.02665366, E_elek: -85.19484696, deltaE: -0.00000000\n",
      "iteration: 88, E_tot: -76.02665366, E_elek: -85.19484696, deltaE:  0.00000000\n",
      "iteration: 89, E_tot: -76.02665366, E_elek: -85.19484696, deltaE: -0.00000000\n",
      "iteration: 90, E_tot: -76.02665366, E_elek: -85.19484696, deltaE: -0.00000000\n",
      "iteration: 91, E_tot: -76.02665366, E_elek: -85.19484696, deltaE:  0.00000000\n",
      "iteration: 92, E_tot: -76.02665366, E_elek: -85.19484696, deltaE:  0.00000000\n",
      "iteration: 93, E_tot: -76.02665366, E_elek: -85.19484696, deltaE:  0.00000000\n",
      "iteration: 94, E_tot: -76.02665366, E_elek: -85.19484696, deltaE: -0.00000000\n",
      "iteration: 95, E_tot: -76.02665366, E_elek: -85.19484696, deltaE:  0.00000000\n",
      "iteration: 96, E_tot: -76.02665366, E_elek: -85.19484696, deltaE:  0.00000000\n",
      "iteration: 97, E_tot: -76.02665366, E_elek: -85.19484696, deltaE:  0.00000000\n",
      "iteration: 98, E_tot: -76.02665366, E_elek: -85.19484696, deltaE: -0.00000000\n",
      "iteration: 99, E_tot: -76.02665366, E_elek: -85.19484696, deltaE:  0.00000000\n",
      "iteration: 100, E_tot: -76.02665366, E_elek: -85.19484696, deltaE: -0.00000000\n",
      "iteration: 101, E_tot: -76.02665366, E_elek: -85.19484696, deltaE: -0.00000000\n",
      "iteration: 102, E_tot: -76.02665366, E_elek: -85.19484696, deltaE:  0.00000000\n",
      "iteration: 103, E_tot: -76.02665366, E_elek: -85.19484696, deltaE: -0.00000000\n",
      "iteration: 104, E_tot: -76.02665366, E_elek: -85.19484696, deltaE: -0.00000000\n",
      "iteration: 105, E_tot: -76.02665366, E_elek: -85.19484696, deltaE:  0.00000000\n",
      "iteration: 106, E_tot: -76.02665366, E_elek: -85.19484696, deltaE:  0.00000000\n",
      "iteration: 107, E_tot: -76.02665366, E_elek: -85.19484696, deltaE: -0.00000000\n",
      "iteration: 108, E_tot: -76.02665366, E_elek: -85.19484696, deltaE:  0.00000000\n",
      "iteration: 109, E_tot: -76.02665366, E_elek: -85.19484696, deltaE:  0.00000000\n"
     ]
    },
    {
     "name": "stdout",
     "output_type": "stream",
     "text": [
      "iteration: 110, E_tot: -76.02665366, E_elek: -85.19484696, deltaE: -0.00000000\n",
      "iteration: 111, E_tot: -76.02665366, E_elek: -85.19484696, deltaE:  0.00000000\n",
      "iteration: 112, E_tot: -76.02665366, E_elek: -85.19484696, deltaE: -0.00000000\n",
      "iteration: 113, E_tot: -76.02665366, E_elek: -85.19484696, deltaE:  0.00000000\n",
      "iteration: 114, E_tot: -76.02665366, E_elek: -85.19484696, deltaE:  0.00000000\n"
     ]
    },
    {
     "data": {
      "text/plain": [
       "-76.02665366188843"
      ]
     },
     "execution_count": 4,
     "metadata": {},
     "output_type": "execute_result"
    }
   ],
   "source": [
    "psi4.set_options({\"basis\":\"cc-pvdz\",'reference':'cuhf'})\n",
    "m2 = ConstrainedMolecule(\"\"\"\n",
    "O\n",
    "H 1 0.96\n",
    "H 1 0.96 2 104.5\n",
    "symmetry c1\n",
    "\"\"\")\n",
    "m2.id.setConvergence(1e-20)\n",
    "m2.iteratinator()"
   ]
  },
  {
   "cell_type": "code",
   "execution_count": 5,
   "id": "breathing-needle",
   "metadata": {},
   "outputs": [
    {
     "data": {
      "text/plain": [
       "-76.0266327345505"
      ]
     },
     "execution_count": 5,
     "metadata": {},
     "output_type": "execute_result"
    }
   ],
   "source": [
    "mol = psi4.geometry(\"\"\"\n",
    "O\n",
    "H 1 0.96\n",
    "H 1 0.96 2 104.5\n",
    "symmetry c1\n",
    "\"\"\")\n",
    "psi4.energy('scf')"
   ]
  },
  {
   "cell_type": "code",
   "execution_count": 10,
   "id": "surgical-batch",
   "metadata": {},
   "outputs": [
    {
     "name": "stdout",
     "output_type": "stream",
     "text": [
      "\tSearching PubChem database for methane (single best match returned)\n",
      "\tFound 1 result(s)\n",
      "iteration: 0, E_tot: -68.89875604, E_elek: -82.30706146, deltaE: -82.30706146\n",
      "iteration: 1, E_tot: -35.78344979, E_elek: -49.19175521, deltaE:  33.11530625\n",
      "iteration: 2, E_tot: -40.47161031, E_elek: -53.87991573, deltaE: -4.68816053\n",
      "iteration: 3, E_tot: -39.58781908, E_elek: -52.99612450, deltaE:  0.88379123\n",
      "iteration: 4, E_tot: -39.75174659, E_elek: -53.16005201, deltaE: -0.16392750\n",
      "iteration: 5, E_tot: -39.72203067, E_elek: -53.13033609, deltaE:  0.02971592\n",
      "iteration: 6, E_tot: -39.72741518, E_elek: -53.13572059, deltaE: -0.00538451\n",
      "iteration: 7, E_tot: -39.72643194, E_elek: -53.13473736, deltaE:  0.00098323\n",
      "iteration: 8, E_tot: -39.72660936, E_elek: -53.13491478, deltaE: -0.00017741\n",
      "iteration: 9, E_tot: -39.72657680, E_elek: -53.13488221, deltaE:  0.00003256\n",
      "iteration: 10, E_tot: -39.72658263, E_elek: -53.13488805, deltaE: -0.00000584\n",
      "iteration: 11, E_tot: -39.72658155, E_elek: -53.13488697, deltaE:  0.00000108\n",
      "iteration: 12, E_tot: -39.72658174, E_elek: -53.13488716, deltaE: -0.00000019\n"
     ]
    },
    {
     "data": {
      "text/plain": [
       "-39.726581742671634"
      ]
     },
     "execution_count": 10,
     "metadata": {},
     "output_type": "execute_result"
    }
   ],
   "source": [
    "m3 = ConstrainedMolecule(\"\"\"pubchem:methane\"\"\")\n",
    "m3.iteratinator()"
   ]
  },
  {
   "cell_type": "code",
   "execution_count": 11,
   "id": "handled-blame",
   "metadata": {},
   "outputs": [
    {
     "data": {
      "text/plain": [
       "-39.7267287296376"
      ]
     },
     "execution_count": 11,
     "metadata": {},
     "output_type": "execute_result"
    }
   ],
   "source": [
    "psi4.energy(\"scf\")"
   ]
  },
  {
   "cell_type": "code",
   "execution_count": null,
   "id": "satisfied-watts",
   "metadata": {},
   "outputs": [],
   "source": [
    "f_a = h1.id.displayFockMatrix('alpha')\n",
    "c = eigh(f_a, h1.id.overlap)[1]\n",
    "a = h1.id.getDensityMatrix(\"alpha\")\n",
    "b = h1.id.getDensityMatrix(\"beta\")\n",
    "p = (a + b)/2\n",
    "e = c.T.dot(p).dot(c)\n",
    "f1, f = eigh(e)\n",
    "f = f[:, ::-1]\n",
    "f_trans = c.T.dot(f_a).dot(c)\n",
    "f_no = f.T.dot(f_trans).dot(f)\n",
    "q = f.T.dot(e).dot(f)\n",
    "q[abs(q) < 1e-10] = 0\n",
    "q"
   ]
  },
  {
   "cell_type": "markdown",
   "id": "standard-attribute",
   "metadata": {},
   "source": [
    "This value does not seem correct (UHF gives about -1.506 H for the total energy). This might be the case because the Fock operator depends on the two electron integrals have not been transformed to the correct basis yet. Can this be the case?\n"
   ]
  },
  {
   "cell_type": "code",
   "execution_count": null,
   "id": "objective-windows",
   "metadata": {},
   "outputs": [],
   "source": [
    "psi4.set_options({\"BASIS\": \"cc-pvdz\"})\n",
    "h_test = ConstrainedMolecule(\"\"\"\n",
    "H 0 0 0\n",
    "H 0 0.86602540378 0.5\n",
    "H 0 0 1\n",
    "units angstrom\"\"\")"
   ]
  },
  {
   "cell_type": "code",
   "execution_count": null,
   "id": "upset-european",
   "metadata": {},
   "outputs": [],
   "source": [
    "s = h_test.id.overlap\n",
    "s_eigh = eigh(s)\n",
    "s_diag = np.diag(s_eigh[0]**(-1/2))\n",
    "x = s_eigh[1].dot(s_diag).dot(s_eigh[1].T)\n",
    "x.T.dot(s).dot(x)"
   ]
  },
  {
   "cell_type": "code",
   "execution_count": null,
   "id": "smooth-closer",
   "metadata": {},
   "outputs": [],
   "source": [
    "a = h_test.id.getDensityMatrix('alpha')\n",
    "b = h_test.id.getDensityMatrix('beta')\n",
    "x_i = np.linalg.inv(x)\n",
    "x_i_t = np.linalg.inv(x.T)\n",
    "a_trans = x_i.dot(a).dot(x_i_t)\n",
    "b_trans = x_i.dot(b).dot(x_i_t)\n",
    "p = (a_trans + b_trans)/2\n",
    "c = eigh(p)\n",
    "c"
   ]
  },
  {
   "cell_type": "markdown",
   "id": "olive-bleeding",
   "metadata": {},
   "source": [
    "Up untill here everything should be correct (density matrices are idempotent, p matrix has correct eigenvalues). The area below is still under construction."
   ]
  },
  {
   "cell_type": "code",
   "execution_count": null,
   "id": "public-passage",
   "metadata": {},
   "outputs": [],
   "source": [
    "f_a = h_test.id.displayFockMatrix('alpha')\n",
    "f_b = h_test.id.displayFockMatrix('beta')"
   ]
  },
  {
   "cell_type": "code",
   "execution_count": null,
   "id": "olympic-avenue",
   "metadata": {},
   "outputs": [],
   "source": [
    "f_a_trans = x.dot(f_a).dot(x.T)\n",
    "f_a_no = c[1].T.dot(f_a_trans).dot(c[1])\n",
    "f_b_trans = x.dot(f_b).dot(x.T)\n",
    "f_b_no = c[1].T.dot(f_b_trans).dot(c[1])"
   ]
  },
  {
   "cell_type": "markdown",
   "id": "exterior-visitor",
   "metadata": {},
   "source": [
    "This expression seems a bit too simple. Nevertheless, according to Tsuchimochi & Scuseria it should hold."
   ]
  },
  {
   "cell_type": "code",
   "execution_count": null,
   "id": "magnetic-saudi",
   "metadata": {
    "scrolled": true
   },
   "outputs": [],
   "source": [
    "f_cs = (f_a_no + f_b_no)/2"
   ]
  },
  {
   "cell_type": "code",
   "execution_count": null,
   "id": "suffering-hacker",
   "metadata": {},
   "outputs": [],
   "source": [
    "a = h_test.id.getDensityMatrix(\"alpha\")\n",
    "b = h_test.id.getDensityMatrix(\"beta\")\n",
    "a - b"
   ]
  },
  {
   "cell_type": "code",
   "execution_count": null,
   "id": "ancient-briefing",
   "metadata": {},
   "outputs": [],
   "source": [
    "f_b = h_test.id.displayFockMatrix(\"beta\")\n",
    "f_a = h_test.id.displayFockMatrix(\"alpha\")"
   ]
  },
  {
   "cell_type": "code",
   "execution_count": null,
   "id": "prompt-regression",
   "metadata": {},
   "outputs": [],
   "source": [
    "f_cs = (f_a + f_b)/2"
   ]
  },
  {
   "cell_type": "code",
   "execution_count": null,
   "id": "floppy-hypothesis",
   "metadata": {},
   "outputs": [],
   "source": [
    "a = h_test.id.getDensityMatrix(\"alpha\")\n",
    "b = h_test.id.getDensityMatrix(\"beta\")\n",
    "p = (a + b)/2"
   ]
  },
  {
   "cell_type": "code",
   "execution_count": null,
   "id": "jewish-affiliation",
   "metadata": {},
   "outputs": [],
   "source": [
    "c1, c = eigh(f_a, h_test.id.overlap)\n",
    "c_inv = np.linalg.inv(c)\n",
    "c_inv"
   ]
  },
  {
   "cell_type": "code",
   "execution_count": null,
   "id": "geographic-onion",
   "metadata": {},
   "outputs": [],
   "source": [
    "d = c_inv.T.dot(p).dot(c_inv)\n",
    "o1, o = eigh(d)\n",
    "o = o[:, ::-1]\n",
    "j = o.T.dot(d).dot(o)\n",
    "j[abs(j) < 1e-10] = 0\n",
    "j"
   ]
  },
  {
   "cell_type": "code",
   "execution_count": null,
   "id": "apparent-shame",
   "metadata": {},
   "outputs": [],
   "source": [
    "f_trans = c.T.dot(f_a).dot(c)\n",
    "f_trans[abs(f_trans) < 1e-10] = 0\n",
    "f_trans"
   ]
  },
  {
   "cell_type": "code",
   "execution_count": null,
   "id": "russian-junction",
   "metadata": {},
   "outputs": [],
   "source": [
    "a_trans = c_inv.dot(a).dot(c_inv.T)\n",
    "a_no = o.T.dot(a_trans).dot(o)\n",
    "a_no[abs(a_no) < 1e-10] = 0\n",
    "a_no\n"
   ]
  },
  {
   "cell_type": "code",
   "execution_count": null,
   "id": "taken-thanksgiving",
   "metadata": {},
   "outputs": [],
   "source": [
    "o.dot(a_no).dot(o.T)"
   ]
  },
  {
   "cell_type": "code",
   "execution_count": null,
   "id": "demographic-tiger",
   "metadata": {},
   "outputs": [],
   "source": [
    "a_trans"
   ]
  },
  {
   "cell_type": "code",
   "execution_count": null,
   "id": "monthly-south",
   "metadata": {},
   "outputs": [],
   "source": [
    "y = eigh(p, h_test.id.overlap)"
   ]
  },
  {
   "cell_type": "code",
   "execution_count": null,
   "id": "suburban-surge",
   "metadata": {},
   "outputs": [],
   "source": [
    "n = np.array([[1,2], [2,3]])\n",
    "v = eigh(n)\n",
    "v"
   ]
  },
  {
   "cell_type": "code",
   "execution_count": null,
   "id": "brief-sector",
   "metadata": {},
   "outputs": [],
   "source": [
    "v[1].dot(n).dot(v[1].T)"
   ]
  },
  {
   "cell_type": "code",
   "execution_count": null,
   "id": "arranged-world",
   "metadata": {},
   "outputs": [],
   "source": [
    "o.T.dot(o)"
   ]
  },
  {
   "cell_type": "code",
   "execution_count": null,
   "id": "standard-hartford",
   "metadata": {},
   "outputs": [],
   "source": []
  }
 ],
 "metadata": {
  "kernelspec": {
   "display_name": "Python 3",
   "language": "python",
   "name": "python3"
  },
  "language_info": {
   "codemirror_mode": {
    "name": "ipython",
    "version": 3
   },
   "file_extension": ".py",
   "mimetype": "text/x-python",
   "name": "python",
   "nbconvert_exporter": "python",
   "pygments_lexer": "ipython3",
   "version": "3.7.9"
  }
 },
 "nbformat": 4,
 "nbformat_minor": 5
}
