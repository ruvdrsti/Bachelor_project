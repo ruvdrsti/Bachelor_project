{
 "metadata": {
  "orig_nbformat": 2,
  "kernelspec": {
   "name": "python3",
   "display_name": "Python 3",
   "language": "python"
  }
 },
 "nbformat": 4,
 "nbformat_minor": 2,
 "cells": [
  {
   "source": [
    "# Single Excitation Configuration Interaction"
   ],
   "cell_type": "markdown",
   "metadata": {}
  },
  {
   "source": [
    "In this notebook, we will be studying the effect of single excitation configuration interaction on the resuls obtained from constrained unrestricted hartree-fock. We will use the package psi4 for reference data and some basic methods. The UHF and CUHF code will come from the compChem package. We will begin this discussion with a theoretical approach to CIS and on the implementation in a normal UHF system. We will then proceed to extrapolate these findings to CUHF. The theory will be developed for RHF and then implemented for UHF, with the nessecary adjustments."
   ],
   "cell_type": "markdown",
   "metadata": {}
  },
  {
   "source": [
    "### Theoretical approach, findings and questions\n"
   ],
   "cell_type": "markdown",
   "metadata": {}
  },
  {
   "source": [
    "When trying to make sanes of the theory, we need to make some findings. The sources here are \n",
    "- Szabo & Ostlund, _Modern Quantum Chemistry_\n",
    "- Sherrill, _Derivation of the Configuration Interaction Singles (CIS) Method for Various Single Determinant References and Extensions to Include Selected Double Substitutions (XCIS)_\n",
    "- the psi4  numpy tutorials, chapter 9\n"
   ],
   "cell_type": "markdown",
   "metadata": {}
  },
  {
   "source": [
    "At first, let us take a look at the hamiltonian matrix in CIS. We know that we can express the wave function as Equation (1).\n",
    "\\begin{equation*} \\tag{1} \n",
    "\\Phi = c_0\\Psi_0 + \\sum_{ia} c^a_i\\Phi^a_i\n",
    "\\end{equation*}\n",
    "$\\Psi_0$ is the normal HF wavefuntion. This function will be a better approximation for the exact wavefunction. However we will need to solve the schrödinger equation again, now using this new function. We will need to make a new hamiltonian, including all excited states as well as the ground state. There are a lot of possible combinations and one can imagine that it will be difficult to express let alone solve this matrix. However, we could also change our basis. When we use the ground state and the excited states as a basis, we find the following matrix (2).\n",
    "\\begin{equation*}\\tag{2}\n",
    "\\langle\\hat{H}\\rangle = \\begin{bmatrix}\\langle \\Psi_0 |\\hat{H}|\\Psi_0 \\rangle & 0 & 0 & \\dots \\\\  \n",
    "0 & \\langle \\Phi_i^a |\\hat{H}|\\Phi_i^a \\rangle & \\langle \\Phi_i^b |\\hat{H}|\\Phi_i^a \\rangle & \\dots\\\\\n",
    "0 & \\langle \\Phi_i^a |\\hat{H}|\\Phi_i^b \\rangle & \\langle \\Phi_i^b |\\hat{H}|\\Phi_i^b \\rangle & \\dots\\\\\n",
    "\\end{bmatrix}\n",
    "\\end{equation*}\n",
    "Overall the dimensions of this matrix will be the amount of occupied orbitals ($o$) times the amount of unoccupied orbitals ($u$), since for every occupied orbital $o$ there will be $u$ possible ways to create an excited state. However, note that in the represention that is being used here, $\\Psi_0$ is also an eigenfunction of the hamiltonian, so we added an extra row and an extra collumn. The elements in the added rows and collums are all zero in accordance to Brillouin's theorem, which states that if $\\Psi_0$ is a self consistent Hartree-Fock wave function, the overlap elements of the hamiltonian are zero for any single excited state. This means that the hamiltonian is block diagonal, with one very large block. Nevertheless, this is a step forward from it not being block diagonal. We can also pretty easily express these matrix elements. This can be seen in Equation (3).\n",
    "\\begin{equation*}\\tag{3}\n",
    "\\langle \\Phi_i^a |\\hat{H}| \\Phi_j^b \\rangle = E_0\\delta_{ij}\\delta{ab} + F_{ab}\\delta_{ij} - F_{ij}\\delta_{ab} + \\langle aj|| ib \\rangle\n",
    "\\end{equation*}\n",
    "Now that we have an expression for our hamiltonian, we can solve the eigenequations for it. The only thing left to figure out is what basis this hamiltonian is given in. Since it is made up out of the ground state and the excited states, these should all be eigenfunctions of the hamiltonian itself, wo the basis used is MO basis. We could start using the eigenfunctions of the fock operator at scf conditions (which is off course needed for Brillouin's theorem to hold) and start iterating from there. So we would calculate the eigenfunctions and the energy, use these to create a new operator and repeat. Alternatively we could substract $E_0$ from it, so that we get the change in energy with respect to the orginal HF energy. An additional note we can make is that $F_{ij} = \\delta_{ij}\\epsilon_i$ at scf conditions in MO basis, since the fock matrix should be diagonal there. This will simplify Equation (3) to Equation (4), in which we also substracted $E_0$.\n",
    "\\begin{equation*}\\tag{4}\n",
    "\\langle \\Phi_i^a |\\hat{H} - E_0| \\Phi_j^b \\rangle =  (\\epsilon_a - \\epsilon_i)\\delta_{ab}\\delta_{ij} + \\langle aj|| ib \\rangle\n",
    "\\end{equation*}\n",
    "Something we need to note is that the two electron integrals should be given in MO basis. These will need to be transformed. However we must note another aspect of importance. It seems illogical that electrons in an alpha spin orbital will only be excited to alpha orbitals. We will need to have all the orbitals open for excitation. Given that in the past we used the basisfunctions as a basis for both the alpha orbitals and the beta orbitals the total amount of orbitals needed will be twice the amount of basis functions. This means that we will need to \"transform\" all matrices that is double the size of normal basis. How can we do this? We could say that we just create a new Fock matrix that looks like Equation (5).\n",
    "\\begin{equation*}\\tag{5}\n",
    "\\hat{F}_{new} = \\begin{bmatrix} F_{\\alpha} & 0 \\\\\n",
    "0 & F_{\\beta} \\\\\n",
    "\\end{bmatrix}\n",
    "\\end{equation*}\n",
    "Now why is this a good idea? This fock matrix will have as eigenfunctions the eigenfunctions of both the $F_{\\alpha}$ and the $F_{\\beta}$ matrices. We also expect the C matrix to be block diagonal. This is off course logical, since the alpha orbitals will have no contributions to the beta orbitals, meaning that this block will be zero. However we are not out of the woods yet. We also need do convert the two-electron integrals into this basis. It also needs to double in size, but in four dimensions instead of just two. This can actually be done by using something called the kronecker product. This miltiplies the elements of a matrix with the elements of another matrix. If we would take the kronecker product of two $2x2$ matrices, we would end up with a $4x4$ matrix. In order to do this with a 4D matrix, we will need to use two kronecker products, as demonstrated in Equation(6).\n",
    "\\begin{equation*}\\tag{6}\n",
    "R_{int} = I_{2} \\otimes R \\\\\n",
    "R' = I_{2} \\otimes R_{int}^T\n",
    "\\end{equation*}\n",
    "In this equation $I_{2}$ is the unity matrix in two dimensions, $R$ is the two electron repulsion matrix and $R'$ is the repulsion matrix in the form we want it in, so containing both alpha and beta orbitals."
   ],
   "cell_type": "markdown",
   "metadata": {}
  },
  {
   "source": [
    "Questions at this point:\n",
    "- Sherrill, equation (7): where does the - sign come from? :second quantisation\n",
    "- Sherrill, equation (12): should this be $\\epsilon_a - \\epsilon_i$? :mistake on the webpage"
   ],
   "cell_type": "markdown",
   "metadata": {}
  },
  {
   "source": [
    "### Codeblock 1: expressing the expectation values of the CIS Hamiltonian"
   ],
   "cell_type": "markdown",
   "metadata": {}
  },
  {
   "cell_type": "code",
   "execution_count": 1,
   "metadata": {},
   "outputs": [
    {
     "output_type": "execute_result",
     "data": {
      "text/plain": [
       "500000000"
      ]
     },
     "metadata": {},
     "execution_count": 1
    }
   ],
   "source": [
    "# we need to import the packages and set some parameters\n",
    "import psi4\n",
    "import numpy as np\n",
    "from scipy.linalg import eigh\n",
    "from compChem.Hartree_Fock import Molecule\n",
    "numpy_memory = 4\n",
    "psi4.set_memory(int(5e8))\n",
    "\n"
   ]
  },
  {
   "cell_type": "code",
   "execution_count": 2,
   "metadata": {},
   "outputs": [],
   "source": [
    "class CISMolecule():\n",
    "    def __init__(self, molecule):\n",
    "        \"\"\"\n",
    "        Will set up some variables we will need from the Molecule object\n",
    "\n",
    "        input\n",
    "        molecule: a Molecule object from the compChem package\n",
    "        \"\"\"\n",
    "        self.id = molecule\n",
    "        self.occupied = self.id.alpha + self.id.beta\n",
    "        self.available = self.id.integrals.nbf()*2\n",
    "        self.virtual = self.available - self.occupied\n",
    "        self.E_0 = molecule.iterator(mute=True)\n",
    "    \n",
    "\n",
    "    def getTwoElectronIntegrals(self):\n",
    "        \"\"\"returns two electron integrals in MO basis\"\"\"\n",
    "        # getting the two electron integrals in correct basis => we need it in MO basis\n",
    "        tei = self.id.elrep # given in chemists notation\n",
    "\n",
    "        #change the basis of the tei\n",
    "        tei_int = np.kron(np.eye(2), tei)\n",
    "        tei_big = np.kron(np.eye(2), tei_int.T)\n",
    "\n",
    "        C = self.C\n",
    "        tie_ao = tei_big.transpose(0, 2, 1, 3) - tei_big.transpose(0, 2, 3, 1) # accounts for both coulomb and exchange, switch to physisists notation\n",
    "        tei_mo = np.einsum(\"pQRS,pP->PQRS\", np.einsum(\"pqRS,qQ->pQRS\", np.einsum(\"pqrS,rR->pqRS\", np.einsum(\"pqrs,sS->pqrS\", tie_ao, C, optimize=True), C, optimize=True), C, optimize=True), C, optimize=True)\n",
    "        return tei_mo\n",
    "    \n",
    "\n",
    "    def displayCISHamiltonian(self):\n",
    "        \"\"\"displays the CIS hamiltonian in MO basis\"\"\"\n",
    "        # getting the orbital energies\n",
    "        \n",
    "        epsilon_a, C_a = eigh(self.id.displayFockMatrix(\"alpha\"), self.id.overlap)\n",
    "        epsilon_b, C_b = eigh(self.id.displayFockMatrix(\"beta\"), self.id.overlap)\n",
    "        epsilon = np.append(epsilon_a, epsilon_b)\n",
    "        sortedorder = np.argsort(epsilon)\n",
    "        epsilon.sort()\n",
    "        self.epsilon = epsilon\n",
    "        \n",
    "        # make the C matrix => it contains all the orbitals, both alpha and beta\n",
    "        C = np.block([[C_a, np.zeros(C_a.shape)], [np.zeros(C_b.shape), C_b]])\n",
    "        C = C[:, sortedorder] # sort the eigenfunctions\n",
    "        self.C = C\n",
    "\n",
    "        tei_mo = self.getTwoElectronIntegrals()\n",
    "        \n",
    "        #getting the exitations\n",
    "        exitations = []\n",
    "        for orbital in range(self.occupied): # for every occupied orbital\n",
    "            for another_orbital in range(self.occupied, self.available): # we can make an exitation to every virtual orbital\n",
    "                exitations.append((orbital, another_orbital))\n",
    "        self.exitations = exitations\n",
    "        # getting the hamiltonian\n",
    "        dim = self.occupied*self.virtual\n",
    "        H_cis = np.zeros((dim, dim))\n",
    "        for row, exitation in enumerate(exitations):\n",
    "            i, a = exitation\n",
    "            for collumn, another_exitation in enumerate(exitations):\n",
    "                j, b = another_exitation   \n",
    "                H_cis[row, collumn] = (epsilon[a] - epsilon[i])*(i == j)*(a == b) + tei_mo[a, j, i, b]\n",
    "        \n",
    "        # get the E_0 value in the hamiltonian\n",
    "        # extra_row = np.zeros((H_cis.shape[1],))\n",
    "        # H_cis = np.vstack((extra_row, H_cis))\n",
    "        # extra_collumn = np.zeros((H_cis.shape[0], 1))\n",
    "        # H_cis = np.hstack((extra_collumn, H_cis))\n",
    "        # H_cis[0,0] = self.E_0\n",
    "        return H_cis\n",
    "        \n",
    "\n",
    "\n",
    "        "
   ]
  },
  {
   "source": [
    "The hamiltonian we are considering here is in fact the second block on the diagonal in Equation (2). We do this, because we need to get the eigenvalues of this hamiltonian and then simply add $E_0$ to that set to get the complete set of eigenvalues. If we substract $E_0$ from all the eigenvalues, we get the excitation energies. We do need to be carefull. The occupied orbitals will be the orbitals with the lowest orbital energies, so we need to sort the energies and the eigenfunctions in order to fullfill these criteria."
   ],
   "cell_type": "markdown",
   "metadata": {}
  },
  {
   "cell_type": "code",
   "execution_count": 4,
   "metadata": {
    "tags": []
   },
   "outputs": [
    {
     "output_type": "stream",
     "name": "stderr",
     "text": [
      "/user/gent/440/vsc44013/.local/lib/python3.7/site-packages/compChem/Hartree_Fock.py:220: FutureWarning: elementwise comparison failed; returning scalar instead, but in the future will perform elementwise comparison\n  assert self.guessMatrix_a != \"empty\" and self.guessMatrix_b != \"empty\", \"make a guess first\"\n/user/gent/440/vsc44013/.local/lib/python3.7/site-packages/compChem/Hartree_Fock.py:65: FutureWarning: elementwise comparison failed; returning scalar instead, but in the future will perform elementwise comparison\n  if self.guessMatrix_a == \"empty\" and self.guessMatrix_b == \"empty\":\n"
     ]
    },
    {
     "output_type": "execute_result",
     "data": {
      "text/plain": [
       "-1.5062743202984428"
      ]
     },
     "metadata": {},
     "execution_count": 4
    }
   ],
   "source": [
    "h3 = Molecule(\"\"\"\n",
    "H 0 0 0\n",
    "H 0 0.86602540378 0.5\n",
    "H 0 0 1\n",
    "units angstrom\"\"\")\n",
    "E_0 = h3.iterator(mute=True)\n",
    "E_0\n"
   ]
  },
  {
   "cell_type": "code",
   "execution_count": 4,
   "metadata": {},
   "outputs": [
    {
     "output_type": "execute_result",
     "data": {
      "text/plain": [
       "(15, 15, 15, 15)"
      ]
     },
     "metadata": {},
     "execution_count": 4
    }
   ],
   "source": [
    "tei = h3.elrep\n",
    "tei.shape"
   ]
  },
  {
   "cell_type": "code",
   "execution_count": 5,
   "metadata": {},
   "outputs": [],
   "source": [
    "tei_big = np.kron(np.eye(2,2), tei)\n",
    "tei_super = np.kron(np.eye(2,2), tei_big.T)"
   ]
  },
  {
   "cell_type": "code",
   "execution_count": 8,
   "metadata": {},
   "outputs": [
    {
     "output_type": "execute_result",
     "data": {
      "text/plain": [
       "81"
      ]
     },
     "metadata": {},
     "execution_count": 8
    }
   ],
   "source": [
    "h3_cis = CISMolecule(h3)\n",
    "h3_cis.occupied*h3_cis.virtual"
   ]
  },
  {
   "cell_type": "code",
   "execution_count": 9,
   "metadata": {
    "tags": []
   },
   "outputs": [
    {
     "output_type": "execute_result",
     "data": {
      "text/plain": [
       "array([[ 8.32530601e-01,  1.30012582e-09, -6.51562412e-04, ...,\n",
       "         0.00000000e+00,  0.00000000e+00,  0.00000000e+00],\n",
       "       [ 1.30012575e-09,  1.05118296e+00,  2.95529293e-08, ...,\n",
       "         0.00000000e+00,  0.00000000e+00,  0.00000000e+00],\n",
       "       [-6.51562412e-04,  2.95529293e-08,  1.07393261e+00, ...,\n",
       "         0.00000000e+00,  0.00000000e+00,  0.00000000e+00],\n",
       "       ...,\n",
       "       [ 0.00000000e+00,  0.00000000e+00,  0.00000000e+00, ...,\n",
       "         1.88496898e+00,  4.98998661e-07, -2.04073631e-02],\n",
       "       [ 0.00000000e+00,  0.00000000e+00,  0.00000000e+00, ...,\n",
       "         4.98998661e-07,  2.25341266e+00, -4.06180719e-08],\n",
       "       [ 0.00000000e+00,  0.00000000e+00,  0.00000000e+00, ...,\n",
       "        -2.04073631e-02, -4.06180704e-08,  2.37018000e+00]])"
      ]
     },
     "metadata": {},
     "execution_count": 9
    }
   ],
   "source": [
    "ham = h3_cis.displayCISHamiltonian()\n",
    "ham"
   ]
  },
  {
   "source": [
    "It seems like the hamiltionian has been displayed. However we do not know wheter this is the correct hamiltionian or not. To know this, we will need to move on to the next section, the energy. However, it is helpfull to know that implementation wise, the code thusfar is working. If it is consistent with the theory remains to be seen."
   ],
   "cell_type": "markdown",
   "metadata": {}
  },
  {
   "source": [
    "### calculating the energy\n"
   ],
   "cell_type": "markdown",
   "metadata": {}
  },
  {
   "source": [
    "Now the problem at hand is finding the energy. We need to find a way to get this concept into some kind of code for UHF. Let us begin with the stuf we will act upon. We will need to run the iteration for normal UHF and then use the matrices we get from here to implement CIS. When we calculate the eigenvalues of the hamiltonian, we will also get a coefficient matrix which expresses the eigenfunctions in MO basis. This can then be used to calculate the energy according to Equation (7).\n",
    "\\begin{equation*}\\tag{7}\n",
    "E_{CIS} = E_0 + 2\\sum_{ia}c_0c_i^aF_{ia} + \\sum_{iab} c_i^ac_i^bF_{ab} - \\sum_{ija}c_i^ac_j^bF_{ij} + \\sum_{ijab}c_i^ac_j^b \\langle aj||ib \\rangle\n",
    "\\end{equation*}\n",
    "Note that the coefficients are known. Here we have a way to calculate the energy starting from the HF energy and adding some terms in. The only problem we face now is what matrices to use. The Fock matrices in the equation are MO Fock matrices. Let us step back a bit and revise what we know. Thusfar we have code that will give us the CIS hamiltonian. We can solve the generalised eigenproblem for this hamiltonian to get the exitation energies and a C matrix, containing the coefficients of the different excited states in the CIS wave function. We also know the $E_0$ as the energy of the HF wave function. To get the energy, we still need the Fock matrices in Equation (7). However we can simplify this equation in the same manner we simplified Equation (3). This result is displayed in Equation (8).\n",
    "\\begin{equation*}\\tag{8}\n",
    "E_{CIS} = E_{SCF} + \\sum_{ia}(c_i^a)^2(\\epsilon_a - \\epsilon_i) + \\sum_{ijab}c_i^ac_j^b\\langle aj||ib \\rangle\n",
    "\\end{equation*}"
   ],
   "cell_type": "markdown",
   "metadata": {}
  },
  {
   "source": [
    "### codeblock 2: finding the energy"
   ],
   "cell_type": "markdown",
   "metadata": {}
  },
  {
   "cell_type": "code",
   "execution_count": 23,
   "metadata": {},
   "outputs": [
    {
     "output_type": "error",
     "ename": "IndentationError",
     "evalue": "expected an indented block (<ipython-input-23-e11f301413f3>, line 11)",
     "traceback": [
      "\u001b[0;36m  File \u001b[0;32m\"<ipython-input-23-e11f301413f3>\"\u001b[0;36m, line \u001b[0;32m11\u001b[0m\n\u001b[0;31m    A += coefficients[row, collumn]**2*(epsilon[] - epsilon[])\u001b[0m\n\u001b[0m    ^\u001b[0m\n\u001b[0;31mIndentationError\u001b[0m\u001b[0;31m:\u001b[0m expected an indented block\n"
     ]
    }
   ],
   "source": [
    "class CISMolecule(CISMolecule):\n",
    "    def getCorrelationEnergy(self):\n",
    "        \"\"\"will calculate the energy difference between the HF reference and the CIS wave function\"\"\"\n",
    "        ham = self.displayCISHamiltonian()\n",
    "        epsilon = self.epsilon\n",
    "        excitation_energies, coefficients = eigh(ham)\n",
    "        # E_corr = A + B, see Equation (8)\n",
    "        A = 0\n",
    "        for row, exitation in enumerate(self.exitations()):\n",
    "            for collumn, another_exitation in enumerate(self.exitations()):\n",
    "            A += coefficients[row, collumn]**2*(epsilon[] - epsilon[])\n",
    "        \n",
    "\n"
   ]
  },
  {
   "cell_type": "code",
   "execution_count": 12,
   "metadata": {},
   "outputs": [],
   "source": [
    "psi4.set_options({\"basis\":\"sto-3g\", \"scf_type\":\"pk\", \"reference\":\"rhf\", \"mp2_type\": \"conv\"})\n",
    "h2o = Molecule(\"\"\"\n",
    "0 1\n",
    "O\n",
    "H 1 1.1\n",
    "H 1 1.1 2 104\n",
    "symmetry c1\n",
    "\"\"\")\n",
    "h2o = CISMolecule(h2o)\n",
    "energies, coefs = eigh(h2o.displayCISHamiltonian())"
   ]
  },
  {
   "cell_type": "code",
   "execution_count": 13,
   "metadata": {},
   "outputs": [
    {
     "output_type": "execute_result",
     "data": {
      "text/plain": [
       "-74.94207989866885"
      ]
     },
     "metadata": {},
     "execution_count": 13
    }
   ],
   "source": [
    "psi4.energy(\"scf\")"
   ]
  },
  {
   "cell_type": "code",
   "execution_count": 14,
   "metadata": {},
   "outputs": [
    {
     "output_type": "execute_result",
     "data": {
      "text/plain": [
       "array([[ 7.00795599e-36, -2.58791577e-19,  0.00000000e+00, ...,\n",
       "        -5.70638873e-05, -5.42687613e-14,  2.12786589e-07],\n",
       "       [-7.48236843e-19,  6.69430746e-19, -2.04527348e-29, ...,\n",
       "         5.18034644e-14,  2.29307889e-14, -1.76445937e-14],\n",
       "       [-2.50366188e-30, -1.80822586e-19,  1.11231375e-27, ...,\n",
       "         7.07089778e-01,  6.73948279e-10, -7.07120746e-01],\n",
       "       ...,\n",
       "       [ 4.41520151e-22,  7.07112859e-01, -4.03382708e-27, ...,\n",
       "         2.24645966e-19, -2.47106470e-18,  6.27454566e-20],\n",
       "       [-3.24946547e-16, -2.71404137e-24,  2.04029011e-07, ...,\n",
       "         3.58949558e-29, -3.76635077e-20,  8.34841364e-33],\n",
       "       [ 4.50361346e-21, -7.40352297e-08,  2.90325703e-30, ...,\n",
       "        -2.65730874e-20,  3.03458976e-19, -1.96495433e-19]])"
      ]
     },
     "metadata": {},
     "execution_count": 14
    }
   ],
   "source": [
    "contrib = coefs**2\n",
    "coefs"
   ]
  },
  {
   "source": [
    "### codeblock 3: the excitation energies"
   ],
   "cell_type": "markdown",
   "metadata": {}
  },
  {
   "cell_type": "code",
   "execution_count": 15,
   "metadata": {},
   "outputs": [],
   "source": [
    "class CISMolecule(CISMolecule):\n",
    "    def CalculateExcitations(self):\n",
    "        \"\"\"setting up some properties neede for later\"\"\"\n",
    "        ham = self.displayCISHamiltonian()\n",
    "        self.excitation_energies, self.coefs = eigh(ham)\n",
    "\n",
    "\n",
    "    def GetExitations(self):\n",
    "        \"\"\"Get the exitation energies and the contributions\"\"\"\n",
    "        self.CalculateExcitations()\n",
    "        contrib = self.coefs**2\n",
    "        energies = self.excitation_energies\n",
    "        counterdict = {}\n",
    "        for state, energy in enumerate(energies):\n",
    "            print(f\" {state + 1} : {energy}\")\n",
    "            for exitation, contribution in enumerate(contrib[:, state]):\n",
    "                if contribution*100 > 1:\n",
    "                    print(f\"\\t{contribution:.3f} : {self.exitations[exitation]}\")\n",
    "                    if self.exitations[exitation] not in counterdict:\n",
    "                        counterdict[self.exitations[exitation]] = 0\n",
    "                    counterdict[self.exitations[exitation]] += 1\n",
    "        return counterdict           \n",
    "\n",
    "        \n",
    "    \n"
   ]
  },
  {
   "cell_type": "code",
   "execution_count": 16,
   "metadata": {},
   "outputs": [
    {
     "output_type": "stream",
     "name": "stdout",
     "text": [
      " 1 : 0.28725508309311665\n\t1.000 : (8, 11)\n 2 : 0.28725544193592806\n\t0.500 : (8, 10)\n\t0.500 : (9, 11)\n 3 : 0.2872558007885672\n\t1.000 : (9, 10)\n 4 : 0.344424906657397\n\t0.102 : (5, 12)\n\t0.888 : (7, 10)\n 5 : 0.3444249202318928\n\t0.051 : (4, 12)\n\t0.051 : (5, 13)\n\t0.444 : (6, 10)\n\t0.444 : (7, 11)\n 6 : 0.34442493380095907\n\t0.102 : (4, 13)\n\t0.888 : (6, 11)\n 7 : 0.35646169692856344\n\t0.500 : (8, 10)\n\t0.500 : (9, 11)\n 8 : 0.3659886145605836\n\t1.000 : (8, 13)\n 9 : 0.36598892717063924\n\t0.500 : (8, 12)\n\t0.500 : (9, 13)\n 10 : 0.3659892397927399\n\t1.000 : (9, 12)\n 11 : 0.39451352547387325\n\t0.406 : (5, 10)\n\t0.591 : (7, 12)\n 12 : 0.3945137153821364\n\t0.203 : (4, 10)\n\t0.203 : (5, 11)\n\t0.296 : (6, 12)\n\t0.296 : (7, 13)\n 13 : 0.3945139052853713\n\t0.406 : (4, 11)\n\t0.591 : (6, 13)\n 14 : 0.41607167152999525\n\t0.500 : (8, 12)\n\t0.500 : (9, 13)\n 15 : 0.5056282302567342\n\t0.059 : (4, 12)\n\t0.059 : (5, 13)\n\t0.439 : (6, 10)\n\t0.439 : (7, 11)\n 16 : 0.5142895867212248\n\t0.013 : (2, 13)\n\t0.579 : (4, 11)\n\t0.408 : (6, 13)\n 17 : 0.514289923878517\n\t0.289 : (4, 10)\n\t0.289 : (5, 11)\n\t0.204 : (6, 12)\n\t0.204 : (7, 13)\n 18 : 0.5142902610370228\n\t0.013 : (3, 12)\n\t0.579 : (5, 10)\n\t0.408 : (7, 12)\n 19 : 0.5551918093750323\n\t0.153 : (4, 10)\n\t0.153 : (5, 11)\n\t0.347 : (6, 12)\n\t0.347 : (7, 13)\n 20 : 0.5630552412179203\n\t0.015 : (2, 11)\n\t0.876 : (4, 13)\n\t0.109 : (6, 11)\n 21 : 0.5630556749310028\n\t0.438 : (4, 12)\n\t0.438 : (5, 13)\n\t0.054 : (6, 10)\n\t0.054 : (7, 11)\n 22 : 0.5630561086407089\n\t0.015 : (3, 10)\n\t0.876 : (5, 12)\n\t0.109 : (7, 10)\n 23 : 0.6553183725243044\n\t0.347 : (4, 10)\n\t0.347 : (5, 11)\n\t0.152 : (6, 12)\n\t0.152 : (7, 13)\n 24 : 0.9101216154841174\n\t0.018 : (2, 10)\n\t0.018 : (3, 11)\n\t0.428 : (4, 12)\n\t0.428 : (5, 13)\n\t0.054 : (6, 10)\n\t0.054 : (7, 11)\n 25 : 1.108770762631437\n\t0.975 : (2, 11)\n\t0.022 : (4, 13)\n 26 : 1.1087708830343477\n\t0.488 : (2, 10)\n\t0.488 : (3, 11)\n\t0.011 : (4, 12)\n\t0.011 : (5, 13)\n 27 : 1.108771003438882\n\t0.975 : (3, 10)\n\t0.022 : (5, 12)\n 28 : 1.200096004885217\n\t0.984 : (2, 13)\n\t0.015 : (4, 11)\n 29 : 1.2000960373197778\n\t0.492 : (2, 12)\n\t0.492 : (3, 13)\n 30 : 1.200096069759024\n\t0.984 : (3, 12)\n\t0.015 : (5, 10)\n 31 : 1.300785108820268\n\t0.480 : (2, 10)\n\t0.480 : (3, 11)\n\t0.012 : (4, 12)\n\t0.012 : (5, 13)\n 32 : 1.3257619770891351\n\t0.499 : (2, 12)\n\t0.499 : (3, 13)\n 33 : 19.958525437204173\n\t1.000 : (0, 11)\n 34 : 19.958526372126435\n\t0.500 : (0, 10)\n\t0.500 : (1, 11)\n 35 : 19.95852730709236\n\t1.000 : (1, 10)\n 36 : 20.010979375017023\n\t0.500 : (0, 10)\n\t0.500 : (1, 11)\n 37 : 20.011341245534886\n\t1.000 : (0, 13)\n 38 : 20.01134204097241\n\t0.500 : (0, 12)\n\t0.500 : (1, 13)\n 39 : 20.011342836449778\n\t1.000 : (1, 12)\n 40 : 20.050531894045655\n\t0.500 : (0, 12)\n\t0.500 : (1, 13)\n"
     ]
    },
    {
     "output_type": "execute_result",
     "data": {
      "text/plain": [
       "{(8, 11): 1,\n",
       " (8, 10): 2,\n",
       " (9, 11): 2,\n",
       " (9, 10): 1,\n",
       " (5, 12): 3,\n",
       " (7, 10): 2,\n",
       " (4, 12): 6,\n",
       " (5, 13): 6,\n",
       " (6, 10): 4,\n",
       " (7, 11): 4,\n",
       " (4, 13): 3,\n",
       " (6, 11): 2,\n",
       " (8, 13): 1,\n",
       " (8, 12): 2,\n",
       " (9, 13): 2,\n",
       " (9, 12): 1,\n",
       " (5, 10): 3,\n",
       " (7, 12): 2,\n",
       " (4, 10): 4,\n",
       " (5, 11): 4,\n",
       " (6, 12): 4,\n",
       " (7, 13): 4,\n",
       " (4, 11): 3,\n",
       " (6, 13): 2,\n",
       " (2, 13): 2,\n",
       " (3, 12): 2,\n",
       " (2, 11): 2,\n",
       " (3, 10): 2,\n",
       " (2, 10): 3,\n",
       " (3, 11): 3,\n",
       " (2, 12): 2,\n",
       " (3, 13): 2,\n",
       " (0, 11): 1,\n",
       " (0, 10): 2,\n",
       " (1, 11): 2,\n",
       " (1, 10): 1,\n",
       " (0, 13): 1,\n",
       " (0, 12): 2,\n",
       " (1, 13): 2,\n",
       " (1, 12): 1}"
      ]
     },
     "metadata": {},
     "execution_count": 16
    }
   ],
   "source": [
    "h2o.GetExitations()"
   ]
  },
  {
   "source": [
    "At this point we have the excitation energies, but we still have no value for the total energy."
   ],
   "cell_type": "markdown",
   "metadata": {}
  },
  {
   "cell_type": "code",
   "execution_count": null,
   "metadata": {},
   "outputs": [],
   "source": []
  }
 ]
}