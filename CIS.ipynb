{
 "metadata": {
  "orig_nbformat": 2,
  "kernelspec": {
   "name": "python3",
   "display_name": "Python 3",
   "language": "python"
  }
 },
 "nbformat": 4,
 "nbformat_minor": 2,
 "cells": [
  {
   "source": [
    "# Single Excitation Configuration Interaction"
   ],
   "cell_type": "markdown",
   "metadata": {}
  },
  {
   "source": [
    "In this notebook, we will be studying the effect of single excitation configuration interaction on the resuls obtained from constrained unrestricted hartree-fock. We will use the package psi4 for reference data and some basic methods. The UHF and CUHF code will come from the compChem package. We will begin this discussion with a theoretical approach to CIS and on the implementation in a normal UHF system. We will then proceed to extrapolate these findings to CUHF. The theory will be developed for RHF and then implemented for UHF, with the nessecary adjustments."
   ],
   "cell_type": "markdown",
   "metadata": {}
  },
  {
   "source": [
    "### Theoretical approach, findings and questions\n"
   ],
   "cell_type": "markdown",
   "metadata": {}
  },
  {
   "source": [
    "When trying to make sanes of the theory, we need to make some findings. The sources here are \n",
    "- Szabo & Ostlund, _Modern Quantum Chemistry_\n",
    "- Sherrill, _Derivation of the Configuration Interaction Singles (CIS) Method for Various Single Determinant References and Extensions to Include Selected Double Substitutions (XCIS)_\n",
    "- the psi4  numpy tutorials, chapter 9\n"
   ],
   "cell_type": "markdown",
   "metadata": {}
  },
  {
   "source": [
    "At first, let us take a look at the hamiltonian matrix in CIS. We know that we can express the wave function as Equation (1).\n",
    "\\begin{equation*} \\tag{1} \n",
    "\\Phi = c_0\\Psi_0 + \\sum_{ia} c^a_i\\Phi^a_i\n",
    "\\end{equation*}\n",
    "$\\Psi_0$ is the normal HF wavefuntion. This function will be a better approximation for the exact wavefunction. However we will need to solve the schrödinger equation again, now using this new function. We will need to make a new hamiltonian, including all excited states as well as the ground state. There are a lot of possible combinations and one can imagine that it will be difficult to express let alone solve this matrix. However, we could also change our basis. When we use the ground state and the excited states as a basis, we find the following matrix (2).\n",
    "\\begin{equation*}\\tag{2}\n",
    "\\hat{H} = \\begin{bmatrix}\\langle \\Psi_0 |\\hat{H}|\\Psi_0 \\rangle & 0 & 0 & \\dots \\\\  \n",
    "0 & \\langle \\Phi_i^a |\\hat{H}|\\Phi_i^a \\rangle & \\langle \\Phi_i^b |\\hat{H}|\\Phi_i^a \\rangle & \\dots\\\\\n",
    "0 & \\langle \\Phi_i^a |\\hat{H}|\\Phi_i^b \\rangle & \\langle \\Phi_i^b |\\hat{H}|\\Phi_i^b \\rangle & \\dots\\\\\n",
    "\\end{bmatrix}\n",
    "\\end{equation*}\n",
    "Overall the dimensions of this matrix will be the amount of occupied orbitals ($o$) times the amount of unoccupied orbitals ($u$), since for every occupied orbital $o$ there will be $u$ possible ways to create an excited state. However, note that in the represention that is being used here, $\\Psi_0$ is also an eigenfunction of the hamiltonian, so we added an extra row and an extra collumn. The elements in the added rows and collums are all zero in accordance to Brillouin's theorem, which states that if $\\Psi_0$ is a self consistent Hartree-Fock wave function, the overlap elements of the hamiltonian are zero for any single excited state. This means that the hamiltonian is block diagonal, with one very large block. Nevertheless, this is a step forward from it not being block diagonal. We can also pretty easily express these matrix elements. This can be seen in Equation (3).\n",
    "\\begin{equation*}\\tag{3}\n",
    "\\langle \\Phi_i^a |\\hat{H}| \\Phi_j^b \\rangle = E_0\\delta_{ij}\\delta{ab} + F_{ab}\\delta_{ij} - F_{ij}\\delta_{ab} + \\langle aj|| ib \\rangle\n",
    "\\end{equation*}\n",
    "Now that we have an expression for our hamiltonian, we can solve the eigenequations for it. The only thing left to figure out is what basis this hamiltonian is given in. Since it is made up out of the ground state and the excited states, these should all be eigenfunctions of the hamiltonian itself, wo the basis used is MO basis. We could start using the eigenfunctions of the fock operator at scf conditions (which is off course needed for Brillouin's theorem to hold) and start iterating from there. So we would calculate the eigenfunctions and the energy, use these to create a new operator and repeat. Alternatively we could substract $E_0$ from it, so that we get the change in energy with respect to the orginal HF energy. An additional note we can make is that $F_{ij} = \\delta_{ij}\\epsilon_i$ at scf conditions in MO basis, since the fock matrix should be diagonal there. This will simplify Equation (3) to Equation (4), in which we also substracted $E_0$.\n",
    "\\begin{equation*}\\tag{4}\n",
    "\\langle \\Phi_i^a |\\hat{H} - E_0| \\Phi_j^b \\rangle =  (\\epsilon_a - \\epsilon_i)\\delta_{ab}\\delta_{ij} + \\langle aj|| ib \\rangle\n",
    "\\end{equation*}\n",
    "Something we need to note is that the two electron integrals should be given in MO basis. These will need to be transformed. However we must note another aspect of importance. It seems illogical that electrons in an alpha spin orbital will only be excited to alpha orbitals. We will need to have all the orbitals open for excitation. Given that in the past we used the basisfunctions as a basis for both the alpha orbitals and the beta orbitals the total amount of orbitals needed will be twice the amount of basis functions. This means that we will need to \"transform\" all matrices that is double the size of normal basis. How can we do this? We could say that we just create a new Fock matrix that looks like Equation (5).\n",
    "\\begin{equation*}\\tag{5}\n",
    "\\hat{F}_{new} = \\begin{bmatrix} F_{\\alpha} & 0 \\\\\n",
    "0 & F_{\\beta} \\\\\n",
    "\\end{bmatrix}\n",
    "\\end{equation*}\n",
    "Now why is this a good idea? This fock matrix will have as eigenfunctions the eigenfunctions of both the $F_{\\alpha}$ and the $F_{\\beta}$ matrices. We also expect the C matrix to be block diagonal. This is off course logical, since the alpha orbitals will have no contributions to the beta orbitals, meaning that this block will be zero. However we are not out of the woods yet. We also need do convert the two-electron integrals into this basis. It also needs to double in size, but in four dimensions instead of just two. This can actually be done by using something called the kronecker product. This miltiplies the elements of a matrix with the elements of another matrix. If we would take the kronecker product of two $2x2$ matrices, we would end up with a $4x4$ matrix. In order to do this with a 4D matrix, we will need to use two kronecker products, as demonstrated in Equation(6).\n",
    "\\begin{equation*}\\tag{6}\n",
    "R_{int} = I_{2} \\otimes R \\\\\n",
    "R' = I_{2} \\otimes R_{int}\n",
    "\\end{equation*}\n",
    "In this equation $I_{2}$ is the unity matrix in two dimensions, $R$ is the two electron repulsion matrix and $R'$ is the repulsion matrix in the form we want it in, so containing both alpha and beta orbitals."
   ],
   "cell_type": "markdown",
   "metadata": {}
  },
  {
   "source": [
    "Questions at this point:\n",
    "- Sherrill, equation (7): where does the - sign come from? :second quantisation\n",
    "- Sherrill, equation (12): should this be $\\epsilon_a - \\epsilon_i$? :mistake on the webpage"
   ],
   "cell_type": "markdown",
   "metadata": {}
  },
  {
   "source": [
    "### Codeblock 1: expressing the CIS Hamiltonian"
   ],
   "cell_type": "markdown",
   "metadata": {}
  },
  {
   "cell_type": "code",
   "execution_count": 1,
   "metadata": {},
   "outputs": [
    {
     "output_type": "execute_result",
     "data": {
      "text/plain": [
       "500000000"
      ]
     },
     "metadata": {},
     "execution_count": 1
    }
   ],
   "source": [
    "# we need to import the packages and set some parameters\n",
    "import psi4\n",
    "import numpy as np\n",
    "from scipy.linalg import eigh\n",
    "from compChem.Hartree_Fock import Molecule\n",
    "numpy_memory = 4\n",
    "psi4.set_memory(int(5e8))\n",
    "\n"
   ]
  },
  {
   "cell_type": "code",
   "execution_count": 47,
   "metadata": {},
   "outputs": [],
   "source": [
    "class CISMolecule():\n",
    "    def __init__(self, molecule):\n",
    "        \"\"\"\n",
    "        Will set up some variables we will need from the Molecule object\n",
    "\n",
    "        input\n",
    "        molecule: a Molecule object from the compChem package\n",
    "        \"\"\"\n",
    "        self.id = molecule\n",
    "        self.occupied = self.id.alpha + self.id.beta\n",
    "        self.available = self.id.integrals.nbf()*2\n",
    "        self.virtual = self.available - self.occupied\n",
    "    \n",
    "\n",
    "    def displayCISHamiltonian(self):\n",
    "        \"\"\"displays the CIS hamiltonian in MO basis\"\"\"\n",
    "        # getting the orbital energies\n",
    "        \n",
    "        epsilon_a, C_a = eigh(self.id.displayFockMatrix(\"alpha\"), self.id.overlap)\n",
    "        epsilon_b, C_b = eigh(self.id.displayFockMatrix(\"beta\"), self.id.overlap)\n",
    "        epsilon = np.append(epsilon_a, epsilon_b)\n",
    "        \n",
    "        # make the C matrix => it contains all the orbitals, both alpha and beta\n",
    "        C = np.block([[C_a, np.zeros(C_a.shape)], [np.zeros(C_b.shape), C_b]])\n",
    "\n",
    "        # getting the two electron integrals in correct basis => we need it in MO basis\n",
    "        tei = self.id.elrep # given in chemists notation\n",
    "\n",
    "        #change the basis of the tei\n",
    "        tei_int = np.kron(np.eye(2,2), tei)\n",
    "        tei_big = np.kron(np.eye(2,2), tei_int.T)\n",
    "\n",
    "\n",
    "        tie_ao = tei_big.transpose(0, 2, 1, 3) - tei_big.transpose(0, 2, 3, 1) # accounts for both coulomb and exchange, switch to physisists notation\n",
    "        tei_mo = np.einsum(\"pQRS,pP->PQRS\", np.einsum(\"pqRS,qQ->pQRS\", np.einsum(\"pqrS,rR->pqRS\", np.einsum(\"pqrs,sS->pqrS\", tie_ao, C, optimize=True), C, optimize=True), C, optimize=True), C, optimize=True)\n",
    "        print(tei_mo.shape, epsilon.shape)\n",
    "        \n",
    "        #getting the exitations\n",
    "        exitations = []\n",
    "        for orbital in range(self.occupied): # for every occupied orbital\n",
    "            for another_orbital in range(self.occupied, self.available): # we can make an exitation to every virtual orbital\n",
    "                exitations.append((orbital, another_orbital))\n",
    "        \n",
    "        # getting the hamiltonian\n",
    "        dim = self.occupied*self.virtual\n",
    "        H_cis = np.zeros((dim, dim))\n",
    "        for row, exitation in enumerate(exitations):\n",
    "            i, a = exitation\n",
    "            for collumn, another_exitation in enumerate(exitations):\n",
    "                j, b = another_exitation   \n",
    "                H_cis[row, collumn] = (epsilon[a] - epsilon[i])*(i == j)*(a == b) + tei_mo[a, j, i, b]\n",
    "        return H_cis\n",
    "        \n",
    "# the current problem is the dimensions of the tei_mo => it needs to double in all directions (15, 15, 15, 15) => (30, 30, 30, 30)\n",
    "\n",
    "        "
   ]
  },
  {
   "source": [
    "The hamiltonian we are considering here is in fact the second block on the diagonal in Equation (2). We do this, because we need to get the eigenvalues of this hamiltonian and then simply add $E_0$ to that set to get the complete set of eigenvalues. If we substract $E_0$ from all the eigenvalues, we get the excitation energies"
   ],
   "cell_type": "markdown",
   "metadata": {}
  },
  {
   "cell_type": "code",
   "execution_count": 24,
   "metadata": {
    "tags": []
   },
   "outputs": [
    {
     "output_type": "stream",
     "name": "stderr",
     "text": [
      "/user/gent/440/vsc44013/.local/lib/python3.7/site-packages/compChem/Hartree_Fock.py:220: FutureWarning: elementwise comparison failed; returning scalar instead, but in the future will perform elementwise comparison\n  assert self.guessMatrix_a != \"empty\" and self.guessMatrix_b != \"empty\", \"make a guess first\"\n/user/gent/440/vsc44013/.local/lib/python3.7/site-packages/compChem/Hartree_Fock.py:65: FutureWarning: elementwise comparison failed; returning scalar instead, but in the future will perform elementwise comparison\n  if self.guessMatrix_a == \"empty\" and self.guessMatrix_b == \"empty\":\n"
     ]
    },
    {
     "output_type": "execute_result",
     "data": {
      "text/plain": [
       "-1.5062743202984552"
      ]
     },
     "metadata": {},
     "execution_count": 24
    }
   ],
   "source": [
    "h3 = Molecule(\"\"\"\n",
    "H 0 0 0\n",
    "H 0 0.86602540378 0.5\n",
    "H 0 0 1\n",
    "units angstrom\"\"\")\n",
    "E_0 = h3.iterator(mute=True)\n",
    "E_0\n"
   ]
  },
  {
   "cell_type": "code",
   "execution_count": 5,
   "metadata": {},
   "outputs": [
    {
     "output_type": "execute_result",
     "data": {
      "text/plain": [
       "(15, 15, 15, 15)"
      ]
     },
     "metadata": {},
     "execution_count": 5
    }
   ],
   "source": [
    "tei = h3.elrep\n",
    "tei.shape"
   ]
  },
  {
   "cell_type": "code",
   "execution_count": 22,
   "metadata": {},
   "outputs": [],
   "source": [
    "tei_big = np.kron(np.eye(2,2), tei)\n",
    "tei_super = np.kron(np.eye(2,2), tei_big.T)"
   ]
  },
  {
   "cell_type": "code",
   "execution_count": 48,
   "metadata": {},
   "outputs": [
    {
     "output_type": "execute_result",
     "data": {
      "text/plain": [
       "81"
      ]
     },
     "metadata": {},
     "execution_count": 48
    }
   ],
   "source": [
    "h3_cis = CISMolecule(h3)\n",
    "h3_cis.occupied*h3_cis.virtual"
   ]
  },
  {
   "cell_type": "code",
   "execution_count": 49,
   "metadata": {
    "tags": []
   },
   "outputs": [
    {
     "output_type": "stream",
     "name": "stdout",
     "text": [
      "(30, 30, 30, 30) (30,)\n"
     ]
    },
    {
     "output_type": "execute_result",
     "data": {
      "text/plain": [
       "array([[ 8.32530601e-01, -1.37360415e-09,  6.51562412e-04, ...,\n",
       "         0.00000000e+00,  0.00000000e+00,  0.00000000e+00],\n",
       "       [-1.37360419e-09,  1.05118296e+00,  3.12231352e-08, ...,\n",
       "         0.00000000e+00,  0.00000000e+00,  0.00000000e+00],\n",
       "       [ 6.51562412e-04,  3.12231352e-08,  1.07393261e+00, ...,\n",
       "         0.00000000e+00,  0.00000000e+00,  0.00000000e+00],\n",
       "       ...,\n",
       "       [ 0.00000000e+00,  0.00000000e+00,  0.00000000e+00, ...,\n",
       "         1.88496898e+00,  5.27199941e-07, -2.04073631e-02],\n",
       "       [ 0.00000000e+00,  0.00000000e+00,  0.00000000e+00, ...,\n",
       "         5.27199940e-07,  2.25341266e+00, -4.29137143e-08],\n",
       "       [ 0.00000000e+00,  0.00000000e+00,  0.00000000e+00, ...,\n",
       "        -2.04073631e-02, -4.29137132e-08,  2.37018000e+00]])"
      ]
     },
     "metadata": {},
     "execution_count": 49
    }
   ],
   "source": [
    "h3_cis.displayCISHamiltonian()"
   ]
  },
  {
   "source": [
    "It seems like the hamiltionian has been displayed. However we do not know wheter this is the correct hamiltionian or not. To know this, we will need to move on to the next section, the energy. However, it is helpfull to know that implementation wise, the code thusfar is working. If it is consistent with the theory remains to be seen."
   ],
   "cell_type": "markdown",
   "metadata": {}
  },
  {
   "source": [
    "### calculating the energy\n"
   ],
   "cell_type": "markdown",
   "metadata": {}
  },
  {
   "source": [
    "Now the problem at hand is finding the energy. We need to find a way to get this concept into some kind of code for UHF. Let us begin with the stuf we will act upon. We will need to run the iteration for normal UHF and then use the matrices we get from here to implement CIS. When we calculate the eigenvalues of the hamiltonian, we will also get a coefficient matrix which expresses the eigenfunctions in MO basis. This can then be used to calculate the energy according to Equation (7).\n",
    "\\begin{equation*}\\tag{7}\n",
    "E_{CIS} = E_0 + 2\\sum_{ia}c_0c_i^aF_{ia} + \\sum_{iab} c_i^ac_i^bF_{ab} - \\sum_{ija}c_i^ac_j^bF_{ij} + \\sum_{ijab}c_i^ac_j^b \\langle aj||ib \\rangle\n",
    "\\end{equation*}\n",
    "Note that the coefficients are known. Here we have a way to calculate the energy starting from the HF energy and adding some terms in. The only problem we face now is what matrices to use. The Fock matrices in the equation are MO Fock matrices. Let us step back a bit and revise what we know. Thusfar we have code that will give us the CIS hamiltonian. We can solve the generalised eigenproblem for this hamiltonian to get the exitation energies and a C matrix, containing the coefficients of the different excited states in the CIS wave function. We also know the $E_0$ as the energy of the HF wave function. To get the energy, we still need the Fock matrices in Equation (7)."
   ],
   "cell_type": "markdown",
   "metadata": {}
  },
  {
   "source": [
    "Problem encountered: We need to get the $c_0$ value. However, the reference function is not included in the hamiltonian at this point."
   ],
   "cell_type": "markdown",
   "metadata": {}
  }
 ]
}