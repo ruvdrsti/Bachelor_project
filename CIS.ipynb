{
 "metadata": {
  "orig_nbformat": 2,
  "kernelspec": {
   "name": "python3",
   "display_name": "Python 3",
   "language": "python"
  }
 },
 "nbformat": 4,
 "nbformat_minor": 2,
 "cells": [
  {
   "source": [
    "# Single Excitation Configuration Interaction"
   ],
   "cell_type": "markdown",
   "metadata": {}
  },
  {
   "source": [
    "In this notebook, we will be studying the effect of single excitation configuration interaction on the resuls obtained from constrained unrestricted hartree-fock. We will use the package psi4 for reference data and some basic methods. The UHF and CUHF code will come from the compChem package. We will begin this discussion with a theoretical approach to CIS and on the implementation in a normal UHF system. We will then proceed to extrapolate these findings to CUHF. The theory will be developed for RHF and then implemented for UHF, with the nessecary adjustments."
   ],
   "cell_type": "markdown",
   "metadata": {}
  },
  {
   "source": [
    "### Theoretical approach, findings and questions\n"
   ],
   "cell_type": "markdown",
   "metadata": {}
  },
  {
   "source": [
    "When trying to make sanes of the theory, we need to make some findings. The sources here are \n",
    "- Szabo & Ostlund, _Modern Quantum Chemistry_\n",
    "- Sherrill, _Derivation of the Configuration Interaction Singles (CIS) Method for Various Single Determinant References and Extensions to Include Selected Double Substitutions (XCIS)_\n",
    "- the psi4  numpy tutorials, chapter 9\n"
   ],
   "cell_type": "markdown",
   "metadata": {}
  },
  {
   "source": [
    "At first, let us take a look at the hamiltonian matrix in CIS. We know that we can express the wave function as Equation (1).\n",
    "\\begin{equation*} \\tag{1} \n",
    "\\Phi = c_0\\Psi_0 + \\sum_{ia} c^a_i\\Phi^a_i\n",
    "\\end{equation*}\n",
    "$\\Psi_0$ is the normal HF wavefuntion. This function will be a better approximation for the exact wavefunction. However we will need to solve the schrödinger equation again, now using this new function. We will need to make a new hamiltonian, including all excited states as well as the ground state. There are a lot of possible combinations and one can imagine that it will be difficult to express let alone solve this matrix. However, we could also change our basis. When we use the ground state and the excited states as a basis, we find the following matrix (2).\n",
    "\\begin{equation*}\\tag{2}\n",
    "\\langle\\hat{H}\\rangle = \\begin{bmatrix}\\langle \\Psi_0 |\\hat{H}|\\Psi_0 \\rangle & 0 & 0 & \\dots \\\\  \n",
    "0 & \\langle \\Phi_i^a |\\hat{H}|\\Phi_i^a \\rangle & \\langle \\Phi_i^b |\\hat{H}|\\Phi_i^a \\rangle & \\dots\\\\\n",
    "0 & \\langle \\Phi_i^a |\\hat{H}|\\Phi_i^b \\rangle & \\langle \\Phi_i^b |\\hat{H}|\\Phi_i^b \\rangle & \\dots\\\\\n",
    "\\end{bmatrix}\n",
    "\\end{equation*}\n",
    "Overall the dimensions of this matrix will be the amount of occupied orbitals ($o$) times the amount of unoccupied orbitals ($u$), since for every occupied orbital $o$ there will be $u$ possible ways to create an excited state. However, note that in the represention that is being used here, $\\Psi_0$ is also an eigenfunction of the hamiltonian, so we added an extra row and an extra collumn. The elements in the added rows and collums are all zero in accordance to Brillouin's theorem, which states that if $\\Psi_0$ is a self consistent Hartree-Fock wave function, the overlap elements of the hamiltonian are zero for any single excited state. This means that the hamiltonian is block diagonal, with one very large block. Nevertheless, this is a step forward from it not being block diagonal. We can also pretty easily express these matrix elements. This can be seen in Equation (3).\n",
    "\\begin{equation*}\\tag{3}\n",
    "\\langle \\Phi_i^a |\\hat{H}| \\Phi_j^b \\rangle = E_0\\delta_{ij}\\delta{ab} + F_{ab}\\delta_{ij} - F_{ij}\\delta_{ab} + \\langle aj|| ib \\rangle\n",
    "\\end{equation*}\n",
    "Now that we have an expression for our hamiltonian, we can solve the eigenequations for it. The only thing left to figure out is what basis this hamiltonian is given in. Since it is made up out of the ground state and the excited states, these should all be eigenfunctions of the hamiltonian itself, wo the basis used is MO basis. We could start using the eigenfunctions of the fock operator at scf conditions (which is off course needed for Brillouin's theorem to hold) and start iterating from there. So we would calculate the eigenfunctions and the energy, use these to create a new operator and repeat. Alternatively we could substract $E_0$ from it, so that we get the change in energy with respect to the orginal HF energy. An additional note we can make is that $F_{ij} = \\delta_{ij}\\epsilon_i$ at scf conditions in MO basis, since the fock matrix should be diagonal there. This will simplify Equation (3) to Equation (4), in which we also substracted $E_0$.\n",
    "\\begin{equation*}\\tag{4}\n",
    "\\langle \\Phi_i^a |\\hat{H} - E_0| \\Phi_j^b \\rangle =  (\\epsilon_a - \\epsilon_i)\\delta_{ab}\\delta_{ij} + \\langle aj|| ib \\rangle\n",
    "\\end{equation*}\n",
    "Something we need to note is that the two electron integrals should be given in MO basis. These will need to be transformed. However we must note another aspect of importance. It seems illogical that electrons in an alpha spin orbital will only be excited to alpha orbitals. We will need to have all the orbitals open for excitation. Given that in the past we used the basisfunctions as a basis for both the alpha orbitals and the beta orbitals the total amount of orbitals needed will be twice the amount of basis functions. This means that we will need to \"transform\" all matrices that is double the size of normal basis. How can we do this? We could say that we just create a new Fock matrix that looks like Equation (5).\n",
    "\\begin{equation*}\\tag{5}\n",
    "\\hat{F}_{new} = \\begin{bmatrix} F_{\\alpha} & 0 \\\\\n",
    "0 & F_{\\beta} \\\\\n",
    "\\end{bmatrix}\n",
    "\\end{equation*}\n",
    "Now why is this a good idea? This fock matrix will have as eigenfunctions the eigenfunctions of both the $F_{\\alpha}$ and the $F_{\\beta}$ matrices. We also expect the C matrix to be block diagonal. This is off course logical, since the alpha orbitals will have no contributions to the beta orbitals, meaning that this block will be zero. However we are not out of the woods yet. We also need do convert the two-electron integrals into this basis. It also needs to double in size, but in four dimensions instead of just two. This can actually be done by using something called the kronecker product. This miltiplies the elements of a matrix with the elements of another matrix. If we would take the kronecker product of two $2x2$ matrices, we would end up with a $4x4$ matrix. In order to do this with a 4D matrix, we will need to use two kronecker products, as demonstrated in Equation(6).\n",
    "\\begin{equation*}\\tag{6}\n",
    "R_{int} = I_{2} \\otimes R \\\\\n",
    "R' = I_{2} \\otimes R_{int}^T\n",
    "\\end{equation*}\n",
    "In this equation $I_{2}$ is the unity matrix in two dimensions, $R$ is the two electron repulsion matrix and $R'$ is the repulsion matrix in the form we want it in, so containing both alpha and beta orbitals."
   ],
   "cell_type": "markdown",
   "metadata": {}
  },
  {
   "source": [
    "Questions at this point:\n",
    "- Sherrill, equation (7): where does the - sign come from? :second quantisation\n",
    "- Sherrill, equation (12): should this be $\\epsilon_a - \\epsilon_i$? :mistake on the webpage"
   ],
   "cell_type": "markdown",
   "metadata": {}
  },
  {
   "source": [
    "### Codeblock 1: expressing the expectation values of the CIS Hamiltonian"
   ],
   "cell_type": "markdown",
   "metadata": {}
  },
  {
   "cell_type": "code",
   "execution_count": 25,
   "metadata": {},
   "outputs": [
    {
     "output_type": "execute_result",
     "data": {
      "text/plain": [
       "500000000"
      ]
     },
     "metadata": {},
     "execution_count": 25
    }
   ],
   "source": [
    "# we need to import the packages and set some parameters\n",
    "import psi4\n",
    "import numpy as np\n",
    "from scipy.linalg import eigh\n",
    "from compChem.Hartree_Fock import Molecule\n",
    "numpy_memory = 4\n",
    "psi4.set_memory(int(5e8))\n",
    "\n"
   ]
  },
  {
   "cell_type": "code",
   "execution_count": 42,
   "metadata": {},
   "outputs": [],
   "source": [
    "class CISMolecule():\n",
    "    def __init__(self, molecule):\n",
    "        \"\"\"\n",
    "        Will set up some variables we will need from the Molecule object\n",
    "\n",
    "        input\n",
    "        molecule: a Molecule object from the compChem package\n",
    "        constraint: True if you want a CUHF wavefunction\n",
    "        \"\"\"\n",
    "        self.id = molecule\n",
    "        self.occupied = self.id.alpha + self.id.beta\n",
    "        self.available = self.id.integrals.nbf()*2\n",
    "        self.virtual = self.available - self.occupied\n",
    "        self.E_0 = molecule.iterator(mute=True)\n",
    "    \n",
    "\n",
    "    def getTwoElectronIntegrals(self, exchange=True):\n",
    "        \"\"\"returns two electron integrals in MO basis\"\"\"\n",
    "        # getting the two electron integrals in correct basis => we need it in MO basis\n",
    "        tei = self.id.elrep # given in chemists notation\n",
    "\n",
    "        #change the basis of the tei\n",
    "        tei_int = np.kron(np.eye(2), tei)\n",
    "        tei_big = np.kron(np.eye(2), tei_int.T)\n",
    "\n",
    "        C = self.C\n",
    "        if exchange:\n",
    "            tei_ao = tei_big.transpose(0, 2, 1, 3) - tei_big.transpose(0, 2, 3, 1) # accounts for both coulomb and exchange, switch to physisists notation\n",
    "        else:\n",
    "            tei_ao = tei_big.transpose(0, 2, 1, 3)\n",
    "        tei_mo = np.einsum(\"pQRS,pP->PQRS\", np.einsum(\"pqRS,qQ->pQRS\", np.einsum(\"pqrS,rR->pqRS\", np.einsum(\"pqrs,sS->pqrS\", tei_ao, C, optimize=True), C, optimize=True), C, optimize=True), C, optimize=True)\n",
    "        \n",
    "        return tei_mo\n",
    "    \n",
    "\n",
    "    def displayCISHamiltonian(self):\n",
    "        \"\"\"displays the CIS hamiltonian in MO basis\"\"\"\n",
    "        # getting the orbital energies\n",
    "        \n",
    "        epsilon_a, C_a = eigh(self.id.displayFockMatrix(\"alpha\"), self.id.overlap)\n",
    "        epsilon_b, C_b = eigh(self.id.displayFockMatrix(\"beta\"), self.id.overlap)\n",
    "        epsilon = np.append(epsilon_a, epsilon_b) # accounts for the fact that the energies might be different\n",
    "        sortedorder = np.argsort(epsilon)\n",
    "        epsilon.sort()\n",
    "        self.epsilon = epsilon\n",
    "        \n",
    "        # make the C matrix => it contains all the orbitals, both alpha and beta\n",
    "        C = np.block([[C_a, np.zeros(C_a.shape)], [np.zeros(C_b.shape), C_b]]) # accounts for the fact that the orbitals might be different (uhf, cuhf)\n",
    "        C = C[:, sortedorder] # sort the eigenfunctions\n",
    "        self.C = C\n",
    "\n",
    "        tei_mo = self.getTwoElectronIntegrals()\n",
    "        \n",
    "        #getting the exitations\n",
    "        excitations = []\n",
    "        for orbital in range(self.occupied): # for every occupied orbital\n",
    "            for another_orbital in range(self.occupied, self.available): # we can make an exitation to every virtual orbital\n",
    "                excitations.append((orbital, another_orbital))\n",
    "        self.excitations = excitations\n",
    "        # getting the hamiltonian\n",
    "        dim = self.occupied*self.virtual\n",
    "        H_cis = np.zeros((dim, dim))\n",
    "        for row, excitation in enumerate(excitations):\n",
    "            i, a = excitation\n",
    "            for collumn, another_excitation in enumerate(excitations):\n",
    "                j, b = another_excitation   \n",
    "                H_cis[row, collumn] = (epsilon[a] - epsilon[i])*(i == j)*(a == b) + tei_mo[a, j, i, b]\n",
    "        \n",
    "        # get the E_0 value in the hamiltonian\n",
    "        # extra_row = np.zeros((H_cis.shape[1],))\n",
    "        # H_cis = np.vstack((extra_row, H_cis))\n",
    "        # extra_collumn = np.zeros((H_cis.shape[0], 1))\n",
    "        # H_cis = np.hstack((extra_collumn, H_cis))\n",
    "        # H_cis[0,0] = self.E_0\n",
    "        return H_cis\n",
    "        \n",
    "\n",
    "\n",
    "        "
   ]
  },
  {
   "source": [
    "The hamiltonian we are considering here is in fact the second block on the diagonal in Equation (2). We do this, because we need to get the eigenvalues of this hamiltonian and then simply add $E_0$ to that set to get the complete set of eigenvalues. If we substract $E_0$ from all the eigenvalues, we get the excitation energies. We do need to be carefull. The occupied orbitals will be the orbitals with the lowest orbital energies, so we need to sort the energies and the eigenfunctions in order to fullfill these criteria."
   ],
   "cell_type": "markdown",
   "metadata": {}
  },
  {
   "cell_type": "code",
   "execution_count": 43,
   "metadata": {
    "tags": []
   },
   "outputs": [
    {
     "output_type": "execute_result",
     "data": {
      "text/plain": [
       "-1.328175755526435"
      ]
     },
     "metadata": {},
     "execution_count": 43
    }
   ],
   "source": [
    "h3 = Molecule(\"\"\"\n",
    "H 0 0 0\n",
    "H 0 0.86602540378 0.5\n",
    "H 0 0 1\n",
    "units angstrom\"\"\", mode=\"cuhf\")\n",
    "E_0 = h3.iterator(mute=True)\n",
    "E_0\n"
   ]
  },
  {
   "cell_type": "code",
   "execution_count": 44,
   "metadata": {},
   "outputs": [
    {
     "output_type": "execute_result",
     "data": {
      "text/plain": [
       "(3, 3, 3, 3)"
      ]
     },
     "metadata": {},
     "execution_count": 44
    }
   ],
   "source": [
    "tei = h3.elrep\n",
    "tei.shape"
   ]
  },
  {
   "cell_type": "code",
   "execution_count": 45,
   "metadata": {},
   "outputs": [],
   "source": [
    "tei_big = np.kron(np.eye(2,2), tei)\n",
    "tei_super = np.kron(np.eye(2,2), tei_big.T)"
   ]
  },
  {
   "cell_type": "code",
   "execution_count": 46,
   "metadata": {},
   "outputs": [
    {
     "output_type": "execute_result",
     "data": {
      "text/plain": [
       "9"
      ]
     },
     "metadata": {},
     "execution_count": 46
    }
   ],
   "source": [
    "h3_cis = CISMolecule(h3)\n",
    "h3_cis.occupied*h3_cis.virtual"
   ]
  },
  {
   "cell_type": "code",
   "execution_count": 47,
   "metadata": {
    "tags": []
   },
   "outputs": [
    {
     "output_type": "execute_result",
     "data": {
      "text/plain": [
       "array([[ 6.56282676e-01,  0.00000000e+00,  0.00000000e+00,\n",
       "         0.00000000e+00,  1.48938117e-01, -9.87402437e-08,\n",
       "        -3.26572510e-05,  0.00000000e+00,  0.00000000e+00],\n",
       "       [ 0.00000000e+00,  5.75899013e-01,  6.07048494e-08,\n",
       "         0.00000000e+00,  0.00000000e+00,  0.00000000e+00,\n",
       "         0.00000000e+00,  9.89372036e-02,  4.27101839e-07],\n",
       "       [ 0.00000000e+00,  6.07048494e-08,  7.12888294e-01,\n",
       "         0.00000000e+00,  0.00000000e+00,  0.00000000e+00,\n",
       "         0.00000000e+00,  4.27101839e-07, -1.36662263e-01],\n",
       "       [ 0.00000000e+00,  0.00000000e+00,  0.00000000e+00,\n",
       "         3.54760812e-01,  0.00000000e+00,  0.00000000e+00,\n",
       "         0.00000000e+00,  0.00000000e+00,  0.00000000e+00],\n",
       "       [ 1.48938117e-01,  0.00000000e+00,  0.00000000e+00,\n",
       "         0.00000000e+00,  5.74723358e-01, -3.42106343e-11,\n",
       "        -1.13633455e-01,  0.00000000e+00,  0.00000000e+00],\n",
       "       [-9.87402436e-08,  0.00000000e+00,  0.00000000e+00,\n",
       "         0.00000000e+00, -3.42106760e-11,  7.39086752e-01,\n",
       "        -3.93283263e-07,  0.00000000e+00,  0.00000000e+00],\n",
       "       [-3.26572510e-05,  0.00000000e+00,  0.00000000e+00,\n",
       "         0.00000000e+00, -1.13633455e-01, -3.93283263e-07,\n",
       "         4.48354161e-02,  0.00000000e+00,  0.00000000e+00],\n",
       "       [ 0.00000000e+00,  9.89372036e-02,  4.27101839e-07,\n",
       "         0.00000000e+00,  0.00000000e+00,  0.00000000e+00,\n",
       "         0.00000000e+00,  9.84401221e-03, -4.48571715e-08],\n",
       "       [ 0.00000000e+00,  4.27101839e-07, -1.36662263e-01,\n",
       "         0.00000000e+00,  0.00000000e+00,  0.00000000e+00,\n",
       "         0.00000000e+00, -4.48571716e-08,  2.61984580e-02]])"
      ]
     },
     "metadata": {},
     "execution_count": 47
    }
   ],
   "source": [
    "ham = h3_cis.displayCISHamiltonian()\n",
    "ham"
   ]
  },
  {
   "source": [
    "It seems like the hamiltionian has been displayed. However we do not know wheter this is the correct hamiltionian or not. To know this, we will need to move on to the next section, the energy. However, it is helpfull to know that implementation wise, the code thusfar is working. If it is consistent with the theory remains to be seen."
   ],
   "cell_type": "markdown",
   "metadata": {}
  },
  {
   "source": [
    "### calculating the energy\n"
   ],
   "cell_type": "markdown",
   "metadata": {}
  },
  {
   "source": [
    "Now the problem at hand is finding the energy. We need to find a way to get this concept into some kind of code for UHF. Let us begin with the stuf we will act upon. We will need to run the iteration for normal UHF and then use the matrices we get from here to implement CIS. When we calculate the eigenvalues of the hamiltonian, we will also get a coefficient matrix which expresses the eigenfunctions in MO basis. This can then be used to calculate the energy according to Equation (7).\n",
    "\\begin{equation*}\\tag{7}\n",
    "E_{CIS} = E_0 + 2\\sum_{ia}c_0c_i^aF_{ia} + \\sum_{iab} c_i^ac_i^bF_{ab} - \\sum_{ija}c_i^ac_j^bF_{ij} + \\sum_{ijab}c_i^ac_j^b \\langle aj||ib \\rangle\n",
    "\\end{equation*}\n",
    "Note that the coefficients are known. Here we have a way to calculate the energy starting from the HF energy and adding some terms in. The only problem we face now is what matrices to use. The Fock matrices in the equation are MO Fock matrices. Let us step back a bit and revise what we know. Thusfar we have code that will give us the CIS hamiltonian. We can solve the generalised eigenproblem for this hamiltonian to get the exitation energies and a C matrix, containing the coefficients of the different excited states in the CIS wave function. We also know the $E_0$ as the energy of the HF wave function. To get the energy, we still need the Fock matrices in Equation (7). However we can simplify this equation in the same manner we simplified Equation (3). This result is displayed in Equation (8).\n",
    "\\begin{equation*}\\tag{8}\n",
    "E_{CIS} = E_{SCF} + \\sum_{ia}(c_i^a)^2(\\epsilon_a - \\epsilon_i) + \\sum_{ijab}c_i^ac_j^b\\langle aj||ib \\rangle\n",
    "\\end{equation*}\n",
    "There still is some uncertainty what the coefficients here are. We have the coefficients of the various one electron excitations in the various excited states, but we need the coefficients of these excitations in the CIS wave function wich we do not have. We could already take a look at the excitation energies themselves."
   ],
   "cell_type": "markdown",
   "metadata": {}
  },
  {
   "source": [
    "### codeblock 3: the excitation energies"
   ],
   "cell_type": "markdown",
   "metadata": {}
  },
  {
   "cell_type": "code",
   "execution_count": 51,
   "metadata": {},
   "outputs": [],
   "source": [
    "class CISMolecule(CISMolecule):\n",
    "    def CalculateExcitations(self, alternate=False):\n",
    "        \"\"\"setting up some properties neede for later\"\"\"\n",
    "        ham = self.displayCISHamiltonian()\n",
    "        if alternate:\n",
    "            ham = self.alternativeHamiltonian()\n",
    "        self.excitation_energies, self.coefs = eigh(ham)\n",
    "\n",
    "\n",
    "    def GetExitations(self, filepath=\"NoNameGiven\", alternate=False):\n",
    "        \"\"\"Get the exitation energies and the contributions\"\"\"\n",
    "        if filepath == \"NoNameGiven\":\n",
    "            raise ValueError(\"no path specified\")\n",
    "        from pathlib import Path\n",
    "        Path(f\"{filepath}\").touch()\n",
    "        datafile = open(f\"{filepath}\", \"w\")\n",
    "        self.CalculateExcitations(alternate=alternate)\n",
    "        contrib = self.coefs**2\n",
    "        energies = self.excitation_energies\n",
    "        counterdict = {}\n",
    "        for state, energy in enumerate(energies):\n",
    "            datafile.writelines(f\" {state + 1} : {energy}\\n\")\n",
    "            for excitation, contribution in enumerate(contrib[:, state]):\n",
    "                if contribution*100 > 1:\n",
    "                    datafile.writelines(f\"\\t{contribution:.3f} : {self.excitations[excitation]}\\n\")\n",
    "                    if self.excitations[excitation] not in counterdict:\n",
    "                        counterdict[self.excitations[excitation]] = 0\n",
    "                    counterdict[self.excitations[excitation]] += 1   \n",
    "        datafile.close()      \n",
    "\n",
    "        \n",
    "    \n"
   ]
  },
  {
   "source": [
    "The data is written to a file in the folder datafiles. This was done to keep this notebook from getting too messy."
   ],
   "cell_type": "markdown",
   "metadata": {}
  },
  {
   "cell_type": "code",
   "execution_count": 52,
   "metadata": {},
   "outputs": [],
   "source": [
    "psi4.set_options({\"basis\":\"sto-3g\", \"scf_type\":\"pk\", \"reference\":\"cuhf\", \"mp2_type\": \"conv\"})\n",
    "h2o = Molecule(\"\"\"\n",
    "0 1\n",
    "O\n",
    "H 1 1.1\n",
    "H 1 1.1 2 104\n",
    "symmetry c1\n",
    "\"\"\", mode=\"uhf\")"
   ]
  },
  {
   "cell_type": "code",
   "execution_count": 53,
   "metadata": {
    "tags": []
   },
   "outputs": [],
   "source": [
    "h2o_cis = CISMolecule(h2o)\n",
    "h2o_cis.GetExitations(\"Bachelor_project/Bachelor_project/datafiles/h2o_uhf.txt\")"
   ]
  },
  {
   "cell_type": "code",
   "execution_count": 82,
   "metadata": {},
   "outputs": [],
   "source": [
    "psi4.set_options({\"basis\":\"sto-3g\", \"scf_type\":\"pk\", \"reference\":\"rhf\", \"mp2_type\": \"conv\"})\n",
    "h2o = Molecule(\"\"\"\n",
    "0 1\n",
    "O\n",
    "H 1 1.1\n",
    "H 1 1.1 2 104\n",
    "symmetry c1\n",
    "\"\"\", mode=\"rhf\")"
   ]
  },
  {
   "cell_type": "code",
   "execution_count": 83,
   "metadata": {},
   "outputs": [],
   "source": [
    "h2o_cis = CISMolecule(h2o)\n",
    "h2o_cis.GetExitations(\"Bachelor_project/Bachelor_project/datafiles/h2o_rhf.txt\")"
   ]
  },
  {
   "cell_type": "code",
   "execution_count": 56,
   "metadata": {},
   "outputs": [],
   "source": [
    "psi4.set_options({\"basis\":\"sto-3g\", \"scf_type\":\"pk\", \"reference\":\"cuhf\", \"mp2_type\": \"conv\"})\n",
    "h2o = Molecule(\"\"\"\n",
    "0 1\n",
    "O\n",
    "H 1 1.1\n",
    "H 1 1.1 2 104\n",
    "symmetry c1\n",
    "\"\"\", mode=\"cuhf\")"
   ]
  },
  {
   "cell_type": "code",
   "execution_count": 57,
   "metadata": {},
   "outputs": [],
   "source": [
    "h2o_cis = CISMolecule(h2o)\n",
    "h2o_cis.GetExitations(\"Bachelor_project/Bachelor_project/datafiles/h2o_cuhf.txt\")"
   ]
  },
  {
   "source": [
    "When we look into the corresponding data files, we can see some differences between rhf, uhf and cuhf. The energies seem to remain the same, but the contributions of the various excitations is different. The fact that the energies are the same might suggest that our CIS implementation is flawed, since this is not entirely expected. "
   ],
   "cell_type": "markdown",
   "metadata": {}
  },
  {
   "cell_type": "code",
   "execution_count": 58,
   "metadata": {},
   "outputs": [
    {
     "output_type": "execute_result",
     "data": {
      "text/plain": [
       "-1.5062743202993611"
      ]
     },
     "metadata": {},
     "execution_count": 58
    }
   ],
   "source": [
    "psi4.set_options({\"basis\" : \"cc-pvdz\"})\n",
    "h3 = Molecule(\"\"\"\n",
    "H 0 0 0\n",
    "H 0 0.86602540378 0.5\n",
    "H 0 0 1\n",
    "units angstrom\"\"\", mode=\"uhf\")\n",
    "h3.setConvergence(1e-20)\n",
    "E_0 = h3.iterator(mute=True, criterion=\"energy\")\n",
    "E_0"
   ]
  },
  {
   "cell_type": "code",
   "execution_count": 59,
   "metadata": {},
   "outputs": [],
   "source": [
    "h3_cis = CISMolecule(h3)\n",
    "h3_cis.GetExitations(filepath=\"Bachelor_project/Bachelor_project/datafiles/h3_uhf.txt\")"
   ]
  },
  {
   "cell_type": "code",
   "execution_count": 60,
   "metadata": {},
   "outputs": [
    {
     "output_type": "execute_result",
     "data": {
      "text/plain": [
       "-1.5031118631770641"
      ]
     },
     "metadata": {},
     "execution_count": 60
    }
   ],
   "source": [
    "h3 = Molecule(\"\"\"\n",
    "H 0 0 0\n",
    "H 0 0.86602540378 0.5\n",
    "H 0 0 1\n",
    "units angstrom\"\"\", mode=\"cuhf\")\n",
    "E_0 = h3.iterator(mute=True)\n",
    "E_0"
   ]
  },
  {
   "cell_type": "code",
   "execution_count": 61,
   "metadata": {},
   "outputs": [],
   "source": [
    "h3_cis = CISMolecule(h3)\n",
    "h3_cis.GetExitations(filepath=\"Bachelor_project/Bachelor_project/datafiles/h3_cuhf.txt\")"
   ]
  },
  {
   "source": [
    "For an open shell system we detect negative excitation energies. This is something that is obviously not possible. We will have to revise the code. However:\n",
    "- We account for the differences between alpha and beta orbitals.\n",
    "- We account for the differences between alpha and beta orbital energies.\n",
    "\n",
    "It seems hard to find the flaw here. The equation used (Equation (4)) does not, at first glance, care about restricted or unrestricted orbitals. \n"
   ],
   "cell_type": "markdown",
   "metadata": {}
  },
  {
   "cell_type": "code",
   "execution_count": 62,
   "metadata": {},
   "outputs": [
    {
     "output_type": "execute_result",
     "data": {
      "text/plain": [
       "-115.0542912316013"
      ]
     },
     "metadata": {},
     "execution_count": 62
    }
   ],
   "source": [
    "psi4.set_options({\"basis\":\"STO-3G\", 'reference':'uhf'})\n",
    "allyl = Molecule(\"\"\"\n",
    "0 2\n",
    "H\n",
    "C 1 r2\n",
    "C 2 r3 1 a3\n",
    "C 2 r3 1 a3 3 180.\n",
    "H 3 r5 2 a5 1 0.\n",
    "H 4 r5 2 a5 1 0.\n",
    "H 3 r7 2 a7 1 180.\n",
    "H 4 r7 2 a7 1 180.\n",
    "\n",
    "r2=1.08424658\n",
    "r3=1.40526604\n",
    "r5=1.08095381\n",
    "r7=1.08131649\n",
    "a3=117.99450641\n",
    "a5=121.41544408\n",
    "a7=121.21891262\n",
    "symmetry c1\n",
    "\n",
    "\"\"\", mode=\"uhf\")\n",
    "allyl.setConvergence(1e-8)\n",
    "E_0 = allyl.iterator(mute=True, criterion=\"energy\")\n",
    "E_0"
   ]
  },
  {
   "cell_type": "code",
   "execution_count": 63,
   "metadata": {},
   "outputs": [
    {
     "output_type": "execute_result",
     "data": {
      "text/plain": [
       "-115.05429125200098"
      ]
     },
     "metadata": {},
     "execution_count": 63
    }
   ],
   "source": [
    "psi4.energy(\"scf\")"
   ]
  },
  {
   "cell_type": "code",
   "execution_count": 64,
   "metadata": {},
   "outputs": [],
   "source": [
    "allyl_cis = CISMolecule(allyl)\n",
    "allyl_cis.GetExitations(\"Bachelor_project/Bachelor_project/datafiles/allyl_uhf.txt\")"
   ]
  },
  {
   "cell_type": "code",
   "execution_count": 65,
   "metadata": {},
   "outputs": [
    {
     "output_type": "execute_result",
     "data": {
      "text/plain": [
       "-115.00893006041443"
      ]
     },
     "metadata": {},
     "execution_count": 65
    }
   ],
   "source": [
    "psi4.set_options({\"basis\":\"STO-3G\", 'reference':'cuhf'})\n",
    "allyl = Molecule(\"\"\"\n",
    "0 2\n",
    "H\n",
    "C 1 r2\n",
    "C 2 r3 1 a3\n",
    "C 2 r3 1 a3 3 180.\n",
    "H 3 r5 2 a5 1 0.\n",
    "H 4 r5 2 a5 1 0.\n",
    "H 3 r7 2 a7 1 180.\n",
    "H 4 r7 2 a7 1 180.\n",
    "\n",
    "r2=1.08424658\n",
    "r3=1.40526604\n",
    "r5=1.08095381\n",
    "r7=1.08131649\n",
    "a3=117.99450641\n",
    "a5=121.41544408\n",
    "a7=121.21891262\n",
    "symmetry c1\n",
    "\n",
    "\"\"\", mode=\"cuhf\")\n",
    "allyl.setConvergence(1e-8)\n",
    "E_0 = allyl.iterator(mute=True, criterion=\"energy\")\n",
    "E_0"
   ]
  },
  {
   "cell_type": "code",
   "execution_count": 66,
   "metadata": {},
   "outputs": [
    {
     "output_type": "execute_result",
     "data": {
      "text/plain": [
       "-115.00893006028247"
      ]
     },
     "metadata": {},
     "execution_count": 66
    }
   ],
   "source": [
    "psi4.energy(\"scf\")"
   ]
  },
  {
   "cell_type": "code",
   "execution_count": 67,
   "metadata": {},
   "outputs": [],
   "source": [
    "allyl_cis = CISMolecule(allyl)\n",
    "allyl_cis.GetExitations(\"Bachelor_project/Bachelor_project/datafiles/allyl_cuhf.txt\")"
   ]
  },
  {
   "source": [
    "### codeblock 3: implementing energy"
   ],
   "cell_type": "markdown",
   "metadata": {}
  },
  {
   "source": [
    "We will attemt to get the energy according to Equation (7). We will use the coefficients that we obtain from the hamiltonian."
   ],
   "cell_type": "markdown",
   "metadata": {}
  },
  {
   "cell_type": "code",
   "execution_count": 79,
   "metadata": {},
   "outputs": [],
   "source": [
    "class CISMolecule(CISMolecule):\n",
    "    def getCISEnergy(self, orbital=0):\n",
    "        \"\"\"\n",
    "        will calculate the CIS energy\n",
    "        \n",
    "        input:\n",
    "        orbital: you can enter the orbital from which you want the energy, default the lowest energy excitation\n",
    "        \"\"\"\n",
    "        A = 0\n",
    "        for number, excitation in enumerate(self.excitations):\n",
    "            i, a = excitation\n",
    "            A += (self.epsilon[a] - self.epsilon[i])*self.coefs[number, 0]**2\n",
    "\n",
    "        B = 0\n",
    "        tei_mo = self.getTwoElectronIntegrals()\n",
    "        for number, excitation in enumerate(self.excitations):\n",
    "            i, a = excitation\n",
    "            for another_number, another_excitation, in enumerate(self.excitations):\n",
    "                j, b = another_excitation\n",
    "                B += self.coefs[number, 0]*self.coefs[another_number, 0]*tei_mo[a, j, i, b]\n",
    "        return A + B"
   ]
  },
  {
   "cell_type": "code",
   "execution_count": 84,
   "metadata": {},
   "outputs": [],
   "source": [
    "psi4.set_options({\"basis\":\"sto-3g\", \"scf_type\":\"pk\", \"reference\":\"cuhf\", \"mp2_type\": \"conv\"})\n",
    "h2o = Molecule(\"\"\"\n",
    "0 1\n",
    "O\n",
    "H 1 1.1\n",
    "H 1 1.1 2 104\n",
    "symmetry c1\n",
    "\"\"\", mode=\"uhf\")"
   ]
  },
  {
   "cell_type": "code",
   "execution_count": 85,
   "metadata": {},
   "outputs": [
    {
     "output_type": "execute_result",
     "data": {
      "text/plain": [
       "0.28725507737058"
      ]
     },
     "metadata": {},
     "execution_count": 85
    }
   ],
   "source": [
    "h2o_cis = CISMolecule(h2o)\n",
    "h2o_cis.displayCISHamiltonian()\n",
    "h2o_cis.CalculateExcitations()\n",
    "h2o_cis.getCISEnergy()"
   ]
  },
  {
   "cell_type": "code",
   "execution_count": 95,
   "metadata": {},
   "outputs": [
    {
     "output_type": "stream",
     "name": "stderr",
     "text": [
      "/user/gent/440/vsc44013/.local/lib/python3.7/site-packages/compChem/Hartree_Fock.py:224: FutureWarning: elementwise comparison failed; returning scalar instead, but in the future will perform elementwise comparison\n",
      "  assert self.guessMatrix_a != \"empty\" and self.guessMatrix_b != \"empty\", \"make a guess first\"\n",
      "/user/gent/440/vsc44013/.local/lib/python3.7/site-packages/compChem/Hartree_Fock.py:70: FutureWarning: elementwise comparison failed; returning scalar instead, but in the future will perform elementwise comparison\n",
      "  if self.guessMatrix_a == \"empty\" and self.guessMatrix_b == \"empty\":\n",
      "iteration: 0, E_tot: -0.49927840, E_elek: -0.49927840, deltaE: -0.49927840, rmsD:  0.00000000\n"
     ]
    }
   ],
   "source": [
    "psi4.set_options({'basis': \"cc-pvdz\"})\n",
    "distances = np.arange(0.2, 10, 0.1)\n",
    "atom = Molecule(\"\"\"\n",
    "H\n",
    "\"\"\", mode=\"rhf\")\n",
    "E_elek_list = []\n",
    "E_total_list = []\n",
    "loglist = []\n",
    "\n",
    "E_H = atom.iterator()\n",
    "for distance in distances:\n",
    "    hydrogen = Molecule(\n",
    "    f\"\"\"\n",
    "    H 0 0 0\n",
    "    H {distance} 0 0\n",
    "    \n",
    "    \"\"\", mode=\"cuhf\")\n",
    "    \n",
    "    E_total = hydrogen.iterator(mute=True, criterion=\"energy\")\n",
    "    E = E_total - 2*E_H\n",
    "    logE = np.log(abs(E))\n",
    "    E_total_list.append(E_total - 2*E_H)\n",
    "    loglist.append(logE)"
   ]
  },
  {
   "cell_type": "code",
   "execution_count": 96,
   "metadata": {},
   "outputs": [
    {
     "output_type": "execute_result",
     "data": {
      "text/plain": [
       "<matplotlib.collections.LineCollection at 0x7f0a95efcad0>"
      ]
     },
     "metadata": {},
     "execution_count": 96
    },
    {
     "output_type": "display_data",
     "data": {
      "text/plain": "<Figure size 432x288 with 1 Axes>",
      "image/svg+xml": "<?xml version=\"1.0\" encoding=\"utf-8\" standalone=\"no\"?>\n<!DOCTYPE svg PUBLIC \"-//W3C//DTD SVG 1.1//EN\"\n  \"http://www.w3.org/Graphics/SVG/1.1/DTD/svg11.dtd\">\n<!-- Created with matplotlib (https://matplotlib.org/) -->\n<svg height=\"252.317344pt\" version=\"1.1\" viewBox=\"0 0 386.845313 252.317344\" width=\"386.845313pt\" xmlns=\"http://www.w3.org/2000/svg\" xmlns:xlink=\"http://www.w3.org/1999/xlink\">\n <metadata>\n  <rdf:RDF xmlns:cc=\"http://creativecommons.org/ns#\" xmlns:dc=\"http://purl.org/dc/elements/1.1/\" xmlns:rdf=\"http://www.w3.org/1999/02/22-rdf-syntax-ns#\">\n   <cc:Work>\n    <dc:type rdf:resource=\"http://purl.org/dc/dcmitype/StillImage\"/>\n    <dc:date>2021-04-16T13:56:05.133361</dc:date>\n    <dc:format>image/svg+xml</dc:format>\n    <dc:creator>\n     <cc:Agent>\n      <dc:title>Matplotlib v3.3.2, https://matplotlib.org/</dc:title>\n     </cc:Agent>\n    </dc:creator>\n   </cc:Work>\n  </rdf:RDF>\n </metadata>\n <defs>\n  <style type=\"text/css\">*{stroke-linecap:butt;stroke-linejoin:round;}</style>\n </defs>\n <g id=\"figure_1\">\n  <g id=\"patch_1\">\n   <path d=\"M -0 252.317344 \nL 386.845313 252.317344 \nL 386.845313 0 \nL -0 0 \nz\n\" style=\"fill:none;\"/>\n  </g>\n  <g id=\"axes_1\">\n   <g id=\"patch_2\">\n    <path d=\"M 38.482813 228.439219 \nL 373.282813 228.439219 \nL 373.282813 10.999219 \nL 38.482813 10.999219 \nz\n\" style=\"fill:#ffffff;\"/>\n   </g>\n   <g id=\"matplotlib.axis_1\">\n    <g id=\"xtick_1\">\n     <g id=\"line2d_1\">\n      <defs>\n       <path d=\"M 0 0 \nL 0 3.5 \n\" id=\"m203a17708a\" style=\"stroke:#000000;stroke-width:0.8;\"/>\n      </defs>\n      <g>\n       <use style=\"stroke:#000000;stroke-width:0.8;\" x=\"38.482813\" xlink:href=\"#m203a17708a\" y=\"228.439219\"/>\n      </g>\n     </g>\n     <g id=\"text_1\">\n      <!-- 0 -->\n      <g transform=\"translate(35.301563 243.037656)scale(0.1 -0.1)\">\n       <defs>\n        <path d=\"M 31.78125 66.40625 \nQ 24.171875 66.40625 20.328125 58.90625 \nQ 16.5 51.421875 16.5 36.375 \nQ 16.5 21.390625 20.328125 13.890625 \nQ 24.171875 6.390625 31.78125 6.390625 \nQ 39.453125 6.390625 43.28125 13.890625 \nQ 47.125 21.390625 47.125 36.375 \nQ 47.125 51.421875 43.28125 58.90625 \nQ 39.453125 66.40625 31.78125 66.40625 \nz\nM 31.78125 74.21875 \nQ 44.046875 74.21875 50.515625 64.515625 \nQ 56.984375 54.828125 56.984375 36.375 \nQ 56.984375 17.96875 50.515625 8.265625 \nQ 44.046875 -1.421875 31.78125 -1.421875 \nQ 19.53125 -1.421875 13.0625 8.265625 \nQ 6.59375 17.96875 6.59375 36.375 \nQ 6.59375 54.828125 13.0625 64.515625 \nQ 19.53125 74.21875 31.78125 74.21875 \nz\n\" id=\"DejaVuSans-48\"/>\n       </defs>\n       <use xlink:href=\"#DejaVuSans-48\"/>\n      </g>\n     </g>\n    </g>\n    <g id=\"xtick_2\">\n     <g id=\"line2d_2\">\n      <g>\n       <use style=\"stroke:#000000;stroke-width:0.8;\" x=\"105.442813\" xlink:href=\"#m203a17708a\" y=\"228.439219\"/>\n      </g>\n     </g>\n     <g id=\"text_2\">\n      <!-- 2 -->\n      <g transform=\"translate(102.261562 243.037656)scale(0.1 -0.1)\">\n       <defs>\n        <path d=\"M 19.1875 8.296875 \nL 53.609375 8.296875 \nL 53.609375 0 \nL 7.328125 0 \nL 7.328125 8.296875 \nQ 12.9375 14.109375 22.625 23.890625 \nQ 32.328125 33.6875 34.8125 36.53125 \nQ 39.546875 41.84375 41.421875 45.53125 \nQ 43.3125 49.21875 43.3125 52.78125 \nQ 43.3125 58.59375 39.234375 62.25 \nQ 35.15625 65.921875 28.609375 65.921875 \nQ 23.96875 65.921875 18.8125 64.3125 \nQ 13.671875 62.703125 7.8125 59.421875 \nL 7.8125 69.390625 \nQ 13.765625 71.78125 18.9375 73 \nQ 24.125 74.21875 28.421875 74.21875 \nQ 39.75 74.21875 46.484375 68.546875 \nQ 53.21875 62.890625 53.21875 53.421875 \nQ 53.21875 48.921875 51.53125 44.890625 \nQ 49.859375 40.875 45.40625 35.40625 \nQ 44.1875 33.984375 37.640625 27.21875 \nQ 31.109375 20.453125 19.1875 8.296875 \nz\n\" id=\"DejaVuSans-50\"/>\n       </defs>\n       <use xlink:href=\"#DejaVuSans-50\"/>\n      </g>\n     </g>\n    </g>\n    <g id=\"xtick_3\">\n     <g id=\"line2d_3\">\n      <g>\n       <use style=\"stroke:#000000;stroke-width:0.8;\" x=\"172.402813\" xlink:href=\"#m203a17708a\" y=\"228.439219\"/>\n      </g>\n     </g>\n     <g id=\"text_3\">\n      <!-- 4 -->\n      <g transform=\"translate(169.221563 243.037656)scale(0.1 -0.1)\">\n       <defs>\n        <path d=\"M 37.796875 64.3125 \nL 12.890625 25.390625 \nL 37.796875 25.390625 \nz\nM 35.203125 72.90625 \nL 47.609375 72.90625 \nL 47.609375 25.390625 \nL 58.015625 25.390625 \nL 58.015625 17.1875 \nL 47.609375 17.1875 \nL 47.609375 0 \nL 37.796875 0 \nL 37.796875 17.1875 \nL 4.890625 17.1875 \nL 4.890625 26.703125 \nz\n\" id=\"DejaVuSans-52\"/>\n       </defs>\n       <use xlink:href=\"#DejaVuSans-52\"/>\n      </g>\n     </g>\n    </g>\n    <g id=\"xtick_4\">\n     <g id=\"line2d_4\">\n      <g>\n       <use style=\"stroke:#000000;stroke-width:0.8;\" x=\"239.362813\" xlink:href=\"#m203a17708a\" y=\"228.439219\"/>\n      </g>\n     </g>\n     <g id=\"text_4\">\n      <!-- 6 -->\n      <g transform=\"translate(236.181563 243.037656)scale(0.1 -0.1)\">\n       <defs>\n        <path d=\"M 33.015625 40.375 \nQ 26.375 40.375 22.484375 35.828125 \nQ 18.609375 31.296875 18.609375 23.390625 \nQ 18.609375 15.53125 22.484375 10.953125 \nQ 26.375 6.390625 33.015625 6.390625 \nQ 39.65625 6.390625 43.53125 10.953125 \nQ 47.40625 15.53125 47.40625 23.390625 \nQ 47.40625 31.296875 43.53125 35.828125 \nQ 39.65625 40.375 33.015625 40.375 \nz\nM 52.59375 71.296875 \nL 52.59375 62.3125 \nQ 48.875 64.0625 45.09375 64.984375 \nQ 41.3125 65.921875 37.59375 65.921875 \nQ 27.828125 65.921875 22.671875 59.328125 \nQ 17.53125 52.734375 16.796875 39.40625 \nQ 19.671875 43.65625 24.015625 45.921875 \nQ 28.375 48.1875 33.59375 48.1875 \nQ 44.578125 48.1875 50.953125 41.515625 \nQ 57.328125 34.859375 57.328125 23.390625 \nQ 57.328125 12.15625 50.6875 5.359375 \nQ 44.046875 -1.421875 33.015625 -1.421875 \nQ 20.359375 -1.421875 13.671875 8.265625 \nQ 6.984375 17.96875 6.984375 36.375 \nQ 6.984375 53.65625 15.1875 63.9375 \nQ 23.390625 74.21875 37.203125 74.21875 \nQ 40.921875 74.21875 44.703125 73.484375 \nQ 48.484375 72.75 52.59375 71.296875 \nz\n\" id=\"DejaVuSans-54\"/>\n       </defs>\n       <use xlink:href=\"#DejaVuSans-54\"/>\n      </g>\n     </g>\n    </g>\n    <g id=\"xtick_5\">\n     <g id=\"line2d_5\">\n      <g>\n       <use style=\"stroke:#000000;stroke-width:0.8;\" x=\"306.322813\" xlink:href=\"#m203a17708a\" y=\"228.439219\"/>\n      </g>\n     </g>\n     <g id=\"text_5\">\n      <!-- 8 -->\n      <g transform=\"translate(303.141563 243.037656)scale(0.1 -0.1)\">\n       <defs>\n        <path d=\"M 31.78125 34.625 \nQ 24.75 34.625 20.71875 30.859375 \nQ 16.703125 27.09375 16.703125 20.515625 \nQ 16.703125 13.921875 20.71875 10.15625 \nQ 24.75 6.390625 31.78125 6.390625 \nQ 38.8125 6.390625 42.859375 10.171875 \nQ 46.921875 13.96875 46.921875 20.515625 \nQ 46.921875 27.09375 42.890625 30.859375 \nQ 38.875 34.625 31.78125 34.625 \nz\nM 21.921875 38.8125 \nQ 15.578125 40.375 12.03125 44.71875 \nQ 8.5 49.078125 8.5 55.328125 \nQ 8.5 64.0625 14.71875 69.140625 \nQ 20.953125 74.21875 31.78125 74.21875 \nQ 42.671875 74.21875 48.875 69.140625 \nQ 55.078125 64.0625 55.078125 55.328125 \nQ 55.078125 49.078125 51.53125 44.71875 \nQ 48 40.375 41.703125 38.8125 \nQ 48.828125 37.15625 52.796875 32.3125 \nQ 56.78125 27.484375 56.78125 20.515625 \nQ 56.78125 9.90625 50.3125 4.234375 \nQ 43.84375 -1.421875 31.78125 -1.421875 \nQ 19.734375 -1.421875 13.25 4.234375 \nQ 6.78125 9.90625 6.78125 20.515625 \nQ 6.78125 27.484375 10.78125 32.3125 \nQ 14.796875 37.15625 21.921875 38.8125 \nz\nM 18.3125 54.390625 \nQ 18.3125 48.734375 21.84375 45.5625 \nQ 25.390625 42.390625 31.78125 42.390625 \nQ 38.140625 42.390625 41.71875 45.5625 \nQ 45.3125 48.734375 45.3125 54.390625 \nQ 45.3125 60.0625 41.71875 63.234375 \nQ 38.140625 66.40625 31.78125 66.40625 \nQ 25.390625 66.40625 21.84375 63.234375 \nQ 18.3125 60.0625 18.3125 54.390625 \nz\n\" id=\"DejaVuSans-56\"/>\n       </defs>\n       <use xlink:href=\"#DejaVuSans-56\"/>\n      </g>\n     </g>\n    </g>\n    <g id=\"xtick_6\">\n     <g id=\"line2d_6\">\n      <g>\n       <use style=\"stroke:#000000;stroke-width:0.8;\" x=\"373.282813\" xlink:href=\"#m203a17708a\" y=\"228.439219\"/>\n      </g>\n     </g>\n     <g id=\"text_6\">\n      <!-- 10 -->\n      <g transform=\"translate(366.920313 243.037656)scale(0.1 -0.1)\">\n       <defs>\n        <path d=\"M 12.40625 8.296875 \nL 28.515625 8.296875 \nL 28.515625 63.921875 \nL 10.984375 60.40625 \nL 10.984375 69.390625 \nL 28.421875 72.90625 \nL 38.28125 72.90625 \nL 38.28125 8.296875 \nL 54.390625 8.296875 \nL 54.390625 0 \nL 12.40625 0 \nz\n\" id=\"DejaVuSans-49\"/>\n       </defs>\n       <use xlink:href=\"#DejaVuSans-49\"/>\n       <use x=\"63.623047\" xlink:href=\"#DejaVuSans-48\"/>\n      </g>\n     </g>\n    </g>\n   </g>\n   <g id=\"matplotlib.axis_2\">\n    <g id=\"ytick_1\">\n     <g id=\"line2d_7\">\n      <defs>\n       <path d=\"M 0 0 \nL -3.5 0 \n\" id=\"me162e947ed\" style=\"stroke:#000000;stroke-width:0.8;\"/>\n      </defs>\n      <g>\n       <use style=\"stroke:#000000;stroke-width:0.8;\" x=\"38.482813\" xlink:href=\"#me162e947ed\" y=\"213.943219\"/>\n      </g>\n     </g>\n     <g id=\"text_7\">\n      <!-- −0.4 -->\n      <g transform=\"translate(7.2 217.742437)scale(0.1 -0.1)\">\n       <defs>\n        <path d=\"M 10.59375 35.5 \nL 73.1875 35.5 \nL 73.1875 27.203125 \nL 10.59375 27.203125 \nz\n\" id=\"DejaVuSans-8722\"/>\n        <path d=\"M 10.6875 12.40625 \nL 21 12.40625 \nL 21 0 \nL 10.6875 0 \nz\n\" id=\"DejaVuSans-46\"/>\n       </defs>\n       <use xlink:href=\"#DejaVuSans-8722\"/>\n       <use x=\"83.789062\" xlink:href=\"#DejaVuSans-48\"/>\n       <use x=\"147.412109\" xlink:href=\"#DejaVuSans-46\"/>\n       <use x=\"179.199219\" xlink:href=\"#DejaVuSans-52\"/>\n      </g>\n     </g>\n    </g>\n    <g id=\"ytick_2\">\n     <g id=\"line2d_8\">\n      <g>\n       <use style=\"stroke:#000000;stroke-width:0.8;\" x=\"38.482813\" xlink:href=\"#me162e947ed\" y=\"184.951219\"/>\n      </g>\n     </g>\n     <g id=\"text_8\">\n      <!-- −0.2 -->\n      <g transform=\"translate(7.2 188.750437)scale(0.1 -0.1)\">\n       <use xlink:href=\"#DejaVuSans-8722\"/>\n       <use x=\"83.789062\" xlink:href=\"#DejaVuSans-48\"/>\n       <use x=\"147.412109\" xlink:href=\"#DejaVuSans-46\"/>\n       <use x=\"179.199219\" xlink:href=\"#DejaVuSans-50\"/>\n      </g>\n     </g>\n    </g>\n    <g id=\"ytick_3\">\n     <g id=\"line2d_9\">\n      <g>\n       <use style=\"stroke:#000000;stroke-width:0.8;\" x=\"38.482813\" xlink:href=\"#me162e947ed\" y=\"155.959219\"/>\n      </g>\n     </g>\n     <g id=\"text_9\">\n      <!-- 0.0 -->\n      <g transform=\"translate(15.579688 159.758437)scale(0.1 -0.1)\">\n       <use xlink:href=\"#DejaVuSans-48\"/>\n       <use x=\"63.623047\" xlink:href=\"#DejaVuSans-46\"/>\n       <use x=\"95.410156\" xlink:href=\"#DejaVuSans-48\"/>\n      </g>\n     </g>\n    </g>\n    <g id=\"ytick_4\">\n     <g id=\"line2d_10\">\n      <g>\n       <use style=\"stroke:#000000;stroke-width:0.8;\" x=\"38.482813\" xlink:href=\"#me162e947ed\" y=\"126.967219\"/>\n      </g>\n     </g>\n     <g id=\"text_10\">\n      <!-- 0.2 -->\n      <g transform=\"translate(15.579688 130.766437)scale(0.1 -0.1)\">\n       <use xlink:href=\"#DejaVuSans-48\"/>\n       <use x=\"63.623047\" xlink:href=\"#DejaVuSans-46\"/>\n       <use x=\"95.410156\" xlink:href=\"#DejaVuSans-50\"/>\n      </g>\n     </g>\n    </g>\n    <g id=\"ytick_5\">\n     <g id=\"line2d_11\">\n      <g>\n       <use style=\"stroke:#000000;stroke-width:0.8;\" x=\"38.482813\" xlink:href=\"#me162e947ed\" y=\"97.975219\"/>\n      </g>\n     </g>\n     <g id=\"text_11\">\n      <!-- 0.4 -->\n      <g transform=\"translate(15.579688 101.774437)scale(0.1 -0.1)\">\n       <use xlink:href=\"#DejaVuSans-48\"/>\n       <use x=\"63.623047\" xlink:href=\"#DejaVuSans-46\"/>\n       <use x=\"95.410156\" xlink:href=\"#DejaVuSans-52\"/>\n      </g>\n     </g>\n    </g>\n    <g id=\"ytick_6\">\n     <g id=\"line2d_12\">\n      <g>\n       <use style=\"stroke:#000000;stroke-width:0.8;\" x=\"38.482813\" xlink:href=\"#me162e947ed\" y=\"68.983219\"/>\n      </g>\n     </g>\n     <g id=\"text_12\">\n      <!-- 0.6 -->\n      <g transform=\"translate(15.579688 72.782437)scale(0.1 -0.1)\">\n       <use xlink:href=\"#DejaVuSans-48\"/>\n       <use x=\"63.623047\" xlink:href=\"#DejaVuSans-46\"/>\n       <use x=\"95.410156\" xlink:href=\"#DejaVuSans-54\"/>\n      </g>\n     </g>\n    </g>\n    <g id=\"ytick_7\">\n     <g id=\"line2d_13\">\n      <g>\n       <use style=\"stroke:#000000;stroke-width:0.8;\" x=\"38.482813\" xlink:href=\"#me162e947ed\" y=\"39.991219\"/>\n      </g>\n     </g>\n     <g id=\"text_13\">\n      <!-- 0.8 -->\n      <g transform=\"translate(15.579688 43.790437)scale(0.1 -0.1)\">\n       <use xlink:href=\"#DejaVuSans-48\"/>\n       <use x=\"63.623047\" xlink:href=\"#DejaVuSans-46\"/>\n       <use x=\"95.410156\" xlink:href=\"#DejaVuSans-56\"/>\n      </g>\n     </g>\n    </g>\n    <g id=\"ytick_8\">\n     <g id=\"line2d_14\">\n      <g>\n       <use style=\"stroke:#000000;stroke-width:0.8;\" x=\"38.482813\" xlink:href=\"#me162e947ed\" y=\"10.999219\"/>\n      </g>\n     </g>\n     <g id=\"text_14\">\n      <!-- 1.0 -->\n      <g transform=\"translate(15.579688 14.798437)scale(0.1 -0.1)\">\n       <use xlink:href=\"#DejaVuSans-49\"/>\n       <use x=\"63.623047\" xlink:href=\"#DejaVuSans-46\"/>\n       <use x=\"95.410156\" xlink:href=\"#DejaVuSans-48\"/>\n      </g>\n     </g>\n    </g>\n   </g>\n   <g id=\"LineCollection_1\">\n    <path clip-path=\"url(#peca77dec08)\" d=\"M 38.482813 155.959219 \nL 373.282813 155.959219 \n\" style=\"fill:none;stroke:#ff0000;stroke-width:1.5;\"/>\n   </g>\n   <g id=\"LineCollection_2\">\n    <path clip-path=\"url(#peca77dec08)\" d=\"M 88.451713 213.943219 \nL 88.451713 97.975219 \n\" style=\"fill:none;stroke:#000000;stroke-width:1.5;\"/>\n   </g>\n   <g id=\"LineCollection_3\">\n    <path clip-path=\"url(#peca77dec08)\" d=\"M 136.954189 213.943219 \nL 136.954189 97.975219 \n\" style=\"fill:none;stroke:#000000;stroke-width:1.5;\"/>\n   </g>\n   <g id=\"line2d_15\">\n    <path clip-path=\"url(#peca77dec08)\" d=\"M 45.394805 -1 \nL 48.526813 99.902171 \nL 51.874813 143.752383 \nL 55.222813 163.242533 \nL 58.570813 171.663543 \nL 61.918813 174.567417 \nL 65.266813 174.578441 \nL 68.614813 173.040478 \nL 71.962813 170.686691 \nL 75.310813 167.934922 \nL 78.658813 165.027202 \nL 82.006813 162.102888 \nL 85.354813 159.241102 \nL 88.702813 156.486269 \nL 92.050813 153.863079 \nL 95.398813 151.384647 \nL 98.746813 149.056573 \nL 102.094813 146.879025 \nL 105.442813 144.848287 \nL 108.790813 142.958048 \nL 112.138813 141.200746 \nL 115.486813 139.568376 \nL 118.834813 138.05293 \nL 122.182813 136.646649 \nL 125.530813 135.342192 \nL 128.878813 134.132608 \nL 132.226813 133.011294 \nL 135.574813 131.971972 \nL 138.922813 131.309421 \nL 142.270813 131.779172 \nL 145.618813 132.363037 \nL 148.966813 132.97446 \nL 152.314813 133.583961 \nL 155.662813 134.178989 \nL 159.010813 134.753754 \nL 162.358813 135.305872 \nL 165.706813 135.834526 \nL 169.054813 136.339879 \nL 172.402813 136.822591 \nL 175.750813 137.283637 \nL 179.098813 137.723969 \nL 182.446813 138.14477 \nL 185.794813 138.547055 \nL 189.142813 138.931969 \nL 192.490813 139.300445 \nL 195.838813 139.653542 \nL 199.186813 139.992111 \nL 202.534813 140.317003 \nL 205.882813 140.628984 \nL 209.230813 140.928854 \nL 212.578813 141.217261 \nL 215.926813 141.494842 \nL 219.274813 141.762191 \nL 222.622813 142.01986 \nL 225.970813 142.268363 \nL 229.318813 142.508177 \nL 232.666813 142.739739 \nL 236.014813 142.963487 \nL 239.362813 143.179798 \nL 242.710813 143.389035 \nL 246.058813 143.591538 \nL 249.406813 143.787629 \nL 252.754813 143.977604 \nL 256.102813 144.161747 \nL 259.450813 144.340321 \nL 262.798813 144.513574 \nL 266.146813 144.681741 \nL 269.494813 144.845042 \nL 272.842813 145.003685 \nL 276.190813 145.157867 \nL 279.538813 145.307772 \nL 282.886813 145.453576 \nL 286.234813 145.595445 \nL 289.582813 145.733537 \nL 292.930813 145.867998 \nL 296.278813 145.998969 \nL 299.626813 146.126589 \nL 302.974813 146.250982 \nL 306.322813 146.372268 \nL 309.670813 146.490563 \nL 313.018813 146.605975 \nL 316.366813 146.718609 \nL 319.714813 146.828564 \nL 323.062813 146.935935 \nL 326.410813 147.04081 \nL 329.758813 147.143277 \nL 333.106813 147.243416 \nL 336.454813 147.341308 \nL 339.802813 147.437025 \nL 343.150813 147.530641 \nL 346.498813 147.622223 \nL 349.846813 147.711836 \nL 353.194813 147.799545 \nL 356.542813 147.885408 \nL 359.890813 147.969483 \nL 363.238813 148.051826 \nL 366.586813 148.13249 \nL 369.934813 148.211525 \n\" style=\"fill:none;stroke:#1f77b4;stroke-linecap:square;stroke-width:1.5;\"/>\n   </g>\n   <g id=\"patch_3\">\n    <path d=\"M 38.482813 228.439219 \nL 38.482813 10.999219 \n\" style=\"fill:none;stroke:#000000;stroke-linecap:square;stroke-linejoin:miter;stroke-width:0.8;\"/>\n   </g>\n   <g id=\"patch_4\">\n    <path d=\"M 373.282813 228.439219 \nL 373.282813 10.999219 \n\" style=\"fill:none;stroke:#000000;stroke-linecap:square;stroke-linejoin:miter;stroke-width:0.8;\"/>\n   </g>\n   <g id=\"patch_5\">\n    <path d=\"M 38.482813 228.439219 \nL 373.282813 228.439219 \n\" style=\"fill:none;stroke:#000000;stroke-linecap:square;stroke-linejoin:miter;stroke-width:0.8;\"/>\n   </g>\n   <g id=\"patch_6\">\n    <path d=\"M 38.482813 10.999219 \nL 373.282813 10.999219 \n\" style=\"fill:none;stroke:#000000;stroke-linecap:square;stroke-linejoin:miter;stroke-width:0.8;\"/>\n   </g>\n  </g>\n </g>\n <defs>\n  <clipPath id=\"peca77dec08\">\n   <rect height=\"217.44\" width=\"334.8\" x=\"38.482813\" y=\"10.999219\"/>\n  </clipPath>\n </defs>\n</svg>\n",
      "image/png": "[encoded data removed]"
     },
     "metadata": {
      "needs_background": "light"
     }
    }
   ],
   "source": [
    "import matplotlib.pyplot as plt\n",
    "plt.plot(distances, E_total_list)\n",
    "plt.hlines(0, 0, 10, color=\"red\")\n",
    "plt.axis([0, 10, -0.5, 1])\n",
    "plt.vlines(1.4925, -0.4, 0.4, color=\"black\")\n",
    "plt.vlines(2.9412, -0.4, 0.4, color=\"black\")"
   ]
  },
  {
   "cell_type": "code",
   "execution_count": null,
   "metadata": {},
   "outputs": [],
   "source": []
  }
 ]
}