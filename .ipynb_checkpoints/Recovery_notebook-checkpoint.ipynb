{
 "cells": [
  {
   "cell_type": "code",
   "execution_count": 1,
   "id": "turkish-regard",
   "metadata": {},
   "outputs": [],
   "source": [
    "from compChem.Hartree_Fock import Molecule # package is available on github\n",
    "from scipy.linalg import eigh, eig\n",
    "import numpy as np\n",
    "import psi4"
   ]
  },
  {
   "cell_type": "code",
   "execution_count": 2,
   "id": "fitted-marketing",
   "metadata": {},
   "outputs": [
    {
     "data": {
      "text/plain": [
       "500000000"
      ]
     },
     "execution_count": 2,
     "metadata": {},
     "output_type": "execute_result"
    }
   ],
   "source": [
    "numpy_memory = 4\n",
    "psi4.set_memory(int(5e8))"
   ]
  },
  {
   "cell_type": "code",
   "execution_count": 3,
   "id": "ancient-magnet",
   "metadata": {},
   "outputs": [],
   "source": [
    "class ConstrainedMolecule:\n",
    "    def __init__(self, geom_file, change=False):\n",
    "        \"\"\"initiation method, will take in a geometry\n",
    "        \n",
    "        input:\n",
    "        change: if you want to change the number of electrons, add a tuple using (n_a, n_b)\n",
    "        \"\"\"\n",
    "        #this parameter contains all parameters and methods from the Molecule class\n",
    "        self.id = Molecule(geom_file)\n",
    "        if change:\n",
    "            self.id.alpha = change[0]\n",
    "            self.id.beta = change[1]\n",
    "        \n",
    "        \n",
    "    \n",
    "    def setChargeDensity(self, new_matrix):\n",
    "        \"\"\"sets the pMatrix to a new value\"\"\"\n",
    "        self.pMatrix = new_matrix\n",
    "        \n",
    "    \n",
    "    def basischanger(self):\n",
    "        \"\"\"\n",
    "        changes to NO basis, applies constraint, then changes back\n",
    "        \"\"\"\n",
    "        # transform p to MO basis, where mo basis = the eigenfunctions of the f_a operator\n",
    "        a = self.id.getDensityMatrix(\"alpha\")\n",
    "        b = self.id.getDensityMatrix(\"beta\")\n",
    "        f_a, f_b = self.id.displayFockMatrix(\"alpha\"), self.id.displayFockMatrix(\"beta\")\n",
    "        p = (a+b)/2\n",
    "        c = eigh(f_a, self.id.overlap)[1] # we only need the c matrix, not the eigenvalues themselves,\n",
    "        \n",
    "        delta = (f_b-f_a)/2\n",
    "        f_cs = (f_a+f_b)/2\n",
    "        # pay attention, c matrices are not unitary\n",
    "        c_inv = np.linalg.inv(c) # we need the inverse for later\n",
    "        p_trans = np.einsum(\"pq, qr, rs->ps\", c_inv, p, c_inv.T, optimize=True)\n",
    "        delta_trans = np.einsum(\"pq, qr, rs->ps\", c.T, delta, c, optimize=True)\n",
    "        \n",
    "        \n",
    "         # transform the fock matrices to NO basis\n",
    "        d = eigh(p_trans)[1]\n",
    "        d = d[:, ::-1] #invert all collumns\n",
    "    \n",
    "        d_inv = np.linalg.inv(d)\n",
    "        delta_no = np.einsum(\"pq, qr, rs->ps\", d_inv, delta_trans, d_inv.T, optimize=True)\n",
    "        \n",
    "        alpha = self.id.alpha \n",
    "        beta = self.id.beta\n",
    "        #alter first blocks\n",
    "        \n",
    "        delta_no[alpha:, :beta] = 0\n",
    "        delta_no[:beta, alpha:] = 0\n",
    "        delta_ao = np.einsum(\"pq, qr, rs->ps\",c_inv.T.dot(d), delta_no, d.T.dot(c_inv), optimize=True)\n",
    "        \n",
    "        \n",
    "        return f_cs - delta_ao, f_cs + delta_ao\n",
    "    \n",
    "    \n",
    "    def iteratinator(self):\n",
    "        \"\"\"adapted version of the original iterator function in the compChem.Hartree_Fock Molecule object\"\"\"\n",
    "        # setting up entry parameters for the while loop\n",
    "        E_new = 0  \n",
    "        E_old = 0\n",
    "        convergence = False\n",
    "\n",
    "        # step 2: start iterating\n",
    "        itercount = 0\n",
    "        while not convergence and itercount < 5000:\n",
    "            # calculating block: calculates energies\n",
    "            E_new = self.id.getElectronicEnergy()\n",
    "            E_total = self.id.getTotalEnergy()\n",
    "\n",
    "            # generating block: generates new matrices UHF: account for alpha and beta, first we do the CUHF alteration\n",
    "            f_a_n, f_b_n = self.basischanger()\n",
    "            self.id.setGuess(f_a_n, \"alpha\")\n",
    "            self.id.setGuess(f_b_n, \"beta\")\n",
    "\n",
    "            # comparing block: will answer the \"Are we there yet?\" question\n",
    "            if abs(E_old - E_new) < self.id.converge:\n",
    "                convergence = True\n",
    "\n",
    "\n",
    "            # maintenance block: keeps everything going\n",
    "            #print(f\"iteration: {itercount}, E_tot: {E_total: .8f}, E_elek: {E_new: .8f}, deltaE: {E_new - E_old: .8f}\")\n",
    "            E_old = E_new\n",
    "\n",
    "            itercount += 1\n",
    "        \n",
    "        return E_total\n",
    "    \n",
    "    def setElectrons(self, alpha, beta):\n",
    "        \"\"\"sets the amount electrons of each spin\"\"\"\n",
    "        self.id.alpha = alpha\n",
    "        self.id.beta = beta"
   ]
  },
  {
   "cell_type": "code",
   "execution_count": null,
   "id": "educational-yield",
   "metadata": {},
   "outputs": [],
   "source": []
  },
  {
   "cell_type": "code",
   "execution_count": 10,
   "id": "backed-paragraph",
   "metadata": {},
   "outputs": [
    {
     "data": {
      "text/plain": [
       "-1.5031118631777187"
      ]
     },
     "execution_count": 10,
     "metadata": {},
     "output_type": "execute_result"
    }
   ],
   "source": [
    "psi4.set_options({\"BASIS\": \"cc-pvdz\", 'reference': 'cuhf', \"scf_type\":'pk'})\n",
    "h1 = ConstrainedMolecule(\"\"\"\n",
    "H 0 0 0\n",
    "H 0 0.86602540378 0.5\n",
    "H 0 0 1\n",
    "units angstrom\"\"\")\n",
    "h1.id.setConvergence(1e-20)\n",
    "h1.iteratinator()"
   ]
  },
  {
   "cell_type": "code",
   "execution_count": 13,
   "id": "utility-neighborhood",
   "metadata": {},
   "outputs": [
    {
     "data": {
      "text/plain": [
       "-1.5031118631553189"
      ]
     },
     "execution_count": 13,
     "metadata": {},
     "output_type": "execute_result"
    }
   ],
   "source": [
    "psi4.energy(\"scf\")"
   ]
  },
  {
   "cell_type": "code",
   "execution_count": 12,
   "id": "looking-technique",
   "metadata": {},
   "outputs": [
    {
     "data": {
      "text/plain": [
       "-118.59909200779725"
      ]
     },
     "execution_count": 12,
     "metadata": {},
     "output_type": "execute_result"
    }
   ],
   "source": [
    "psi4.set_options({\"basis\":\"STO-3G\", 'reference':'cuhf', \"scf_type\":'pk'})\n",
    "allyl = ConstrainedMolecule(\"\"\"\n",
    "0 2\n",
    "H\n",
    "C 1 r2\n",
    "C 2 r3 1 a3\n",
    "C 2 r3 1 a3 3 180.\n",
    "H 3 r5 2 a5 1 0.\n",
    "H 4 r5 2 a5 1 0.\n",
    "H 3 r7 2 a7 1 180.\n",
    "H 4 r7 2 a7 1 180.\n",
    "\n",
    "r2=1.08424658\n",
    "r3=1.40526604\n",
    "r5=1.08095381\n",
    "r7=1.08131649\n",
    "a3=117.99450641\n",
    "a5=121.41544408\n",
    "a7=121.21891262\n",
    "symmetry c1\n",
    "\n",
    "\"\"\")\n",
    "allyl.id.setConvergence(1e-12)\n",
    "allyl.iteratinator()"
   ]
  },
  {
   "cell_type": "code",
   "execution_count": 7,
   "id": "trained-security",
   "metadata": {},
   "outputs": [
    {
     "data": {
      "text/plain": [
       "-115.00893006028241"
      ]
     },
     "execution_count": 7,
     "metadata": {},
     "output_type": "execute_result"
    }
   ],
   "source": []
  },
  {
   "cell_type": "code",
   "execution_count": 4,
   "id": "sublime-leave",
   "metadata": {},
   "outputs": [
    {
     "name": "stderr",
     "output_type": "stream",
     "text": [
      "/user/gent/440/vsc44013/.local/lib/python3.7/site-packages/compChem/Hartree_Fock.py:65: FutureWarning: elementwise comparison failed; returning scalar instead, but in the future will perform elementwise comparison\n",
      "  if self.guessMatrix_a == \"empty\" and self.guessMatrix_b == \"empty\":\n"
     ]
    },
    {
     "data": {
      "text/plain": [
       "-76.02665366188843"
      ]
     },
     "execution_count": 4,
     "metadata": {},
     "output_type": "execute_result"
    }
   ],
   "source": [
    "psi4.set_options({\"basis\":\"cc-pvdz\",'reference':'cuhf', \"scf_type\":\"pk\"})\n",
    "m2 = ConstrainedMolecule(\"\"\"\n",
    "O\n",
    "H 1 0.96\n",
    "H 1 0.96 2 104.5\n",
    "symmetry c1\n",
    "\"\"\")\n",
    "m2.id.setConvergence(1e-20)\n",
    "m2.iteratinator()"
   ]
  },
  {
   "cell_type": "code",
   "execution_count": 5,
   "id": "breathing-needle",
   "metadata": {},
   "outputs": [
    {
     "data": {
      "text/plain": [
       "-76.02665366131474"
      ]
     },
     "execution_count": 5,
     "metadata": {},
     "output_type": "execute_result"
    }
   ],
   "source": [
    "mol = psi4.geometry(\"\"\"\n",
    "O\n",
    "H 1 0.96\n",
    "H 1 0.96 2 104.5\n",
    "symmetry c1\n",
    "\"\"\")\n",
    "psi4.energy('scf')"
   ]
  },
  {
   "cell_type": "code",
   "execution_count": 4,
   "id": "surgical-batch",
   "metadata": {},
   "outputs": [
    {
     "name": "stdout",
     "output_type": "stream",
     "text": [
      "\tSearching PubChem database for methane (single best match returned)\n",
      "\tFound 1 result(s)\n"
     ]
    },
    {
     "name": "stderr",
     "output_type": "stream",
     "text": [
      "/user/gent/440/vsc44013/.local/lib/python3.7/site-packages/compChem/Hartree_Fock.py:65: FutureWarning: elementwise comparison failed; returning scalar instead, but in the future will perform elementwise comparison\n",
      "  if self.guessMatrix_a == \"empty\" and self.guessMatrix_b == \"empty\":\n"
     ]
    },
    {
     "data": {
      "text/plain": [
       "-40.19870665665279"
      ]
     },
     "execution_count": 4,
     "metadata": {},
     "output_type": "execute_result"
    }
   ],
   "source": [
    "m3 = ConstrainedMolecule(\"\"\"pubchem:methane\"\"\")\n",
    "m3.iteratinator()"
   ]
  },
  {
   "cell_type": "code",
   "execution_count": 5,
   "id": "handled-blame",
   "metadata": {},
   "outputs": [
    {
     "data": {
      "text/plain": [
       "-40.19871162417367"
      ]
     },
     "execution_count": 5,
     "metadata": {},
     "output_type": "execute_result"
    }
   ],
   "source": [
    "psi4.energy(\"scf\")"
   ]
  },
  {
   "cell_type": "code",
   "execution_count": null,
   "id": "raising-teens",
   "metadata": {},
   "outputs": [],
   "source": []
  },
  {
   "cell_type": "code",
   "execution_count": 29,
   "id": "sustainable-buffer",
   "metadata": {},
   "outputs": [
    {
     "name": "stderr",
     "output_type": "stream",
     "text": [
      "/user/gent/440/vsc44013/.local/lib/python3.7/site-packages/compChem/Hartree_Fock.py:56: FutureWarning: elementwise comparison failed; returning scalar instead, but in the future will perform elementwise comparison\n",
      "  if self.guessMatrix_a == \"empty\" and self.guessMatrix_b == \"empty\":\n"
     ]
    }
   ],
   "source": [
    "psi4.set_options({'basis': \"cc-pvdz\"})\n",
    "distances = np.arange(0.2, 10, 0.1)\n",
    "atom = ConstrainedMolecule(\"\"\"\n",
    "H\n",
    "\"\"\")\n",
    "E_elek_list = []\n",
    "E_total_list = []\n",
    "loglist = []\n",
    "\n",
    "E_H = atom.iteratinator()\n",
    "for distance in distances:\n",
    "    hydrogen = ConstrainedMolecule(\n",
    "    f\"\"\"\n",
    "    H 0 0 0\n",
    "    H {distance} 0 0\n",
    "    \n",
    "    \"\"\")\n",
    "\n",
    "    E_total = hydrogen.iteratinator()\n",
    "    E = E_total - 2*E_H\n",
    "    logE = np.log(abs(E))\n",
    "    E_total_list.append(E_total - 2*E_H)\n",
    "    loglist.append(logE)"
   ]
  },
  {
   "cell_type": "code",
   "execution_count": 30,
   "id": "satisfied-watts",
   "metadata": {},
   "outputs": [
    {
     "data": {
      "text/plain": [
       "<matplotlib.collections.LineCollection at 0x7fd9b93c2950>"
      ]
     },
     "execution_count": 30,
     "metadata": {},
     "output_type": "execute_result"
    },
    {
     "data": {
      "image/png": "[encoded data removed]",
      "text/plain": [
       "<Figure size 432x288 with 1 Axes>"
      ]
     },
     "metadata": {
      "needs_background": "light"
     },
     "output_type": "display_data"
    }
   ],
   "source": [
    "import matplotlib.pyplot as plt\n",
    "plt.plot(distances, E_total_list)\n",
    "plt.hlines(0, 0, 10, color=\"red\")\n",
    "plt.axis([0, 5, -0.5, 0.2])\n",
    "plt.vlines(1.4925, -0.4, 0.4, color=\"black\")\n",
    "plt.vlines(2.9412, -0.4, 0.4, color=\"black\")"
   ]
  },
  {
   "cell_type": "code",
   "execution_count": 18,
   "id": "sporting-smell",
   "metadata": {},
   "outputs": [
    {
     "data": {
      "text/plain": [
       "<matplotlib.collections.LineCollection at 0x7fd9bab64e10>"
      ]
     },
     "execution_count": 18,
     "metadata": {},
     "output_type": "execute_result"
    },
    {
     "data": {
      "image/png": "[encoded data removed]",
      "text/plain": [
       "<Figure size 432x288 with 1 Axes>"
      ]
     },
     "metadata": {
      "needs_background": "light"
     },
     "output_type": "display_data"
    }
   ],
   "source": [
    "plt.plot(np.log(distances), loglist, color='green')\n",
    "plt.vlines(np.log(2.9412), -6, 0.4, color=\"black\")\n",
    "plt.vlines(np.log(1.4925), -6, 0.4, color=\"black\")"
   ]
  },
  {
   "cell_type": "code",
   "execution_count": 21,
   "id": "widespread-canadian",
   "metadata": {},
   "outputs": [
    {
     "data": {
      "text/plain": [
       "<matplotlib.collections.LineCollection at 0x7fd9ba9fdd10>"
      ]
     },
     "execution_count": 21,
     "metadata": {},
     "output_type": "execute_result"
    },
    {
     "data": {
      "image/png": "[encoded data removed]",
      "text/plain": [
       "<Figure size 432x288 with 1 Axes>"
      ]
     },
     "metadata": {
      "needs_background": "light"
     },
     "output_type": "display_data"
    }
   ],
   "source": [
    "E_array = np.array(E_total_list)\n",
    "plt.plot((distances)**-2, E_array**-2, color='green')\n",
    "\n",
    "plt.vlines(0.34, -250, 69, color=\"red\")"
   ]
  },
  {
   "cell_type": "code",
   "execution_count": 35,
   "id": "ecological-length",
   "metadata": {},
   "outputs": [
    {
     "name": "stderr",
     "output_type": "stream",
     "text": [
      "/user/gent/440/vsc44013/.local/lib/python3.7/site-packages/compChem/Hartree_Fock.py:56: FutureWarning: elementwise comparison failed; returning scalar instead, but in the future will perform elementwise comparison\n",
      "  if self.guessMatrix_a == \"empty\" and self.guessMatrix_b == \"empty\":\n"
     ]
    },
    {
     "data": {
      "text/plain": [
       "-0.4992784034195832"
      ]
     },
     "execution_count": 35,
     "metadata": {},
     "output_type": "execute_result"
    }
   ],
   "source": [
    "atom = ConstrainedMolecule(\"\"\"\n",
    "H\n",
    "\"\"\")\n",
    "atom.iteratinator()"
   ]
  },
  {
   "cell_type": "code",
   "execution_count": 36,
   "id": "british-elite",
   "metadata": {},
   "outputs": [
    {
     "data": {
      "text/plain": [
       "-0.49927840341958285"
      ]
     },
     "execution_count": 36,
     "metadata": {},
     "output_type": "execute_result"
    }
   ],
   "source": [
    "psi4.energy(\"scf\")"
   ]
  },
  {
   "cell_type": "markdown",
   "id": "standard-attribute",
   "metadata": {},
   "source": [
    "This value does not seem correct (UHF gives about -1.506 H for the total energy). This might be the case because the Fock operator depends on the two electron integrals have not been transformed to the correct basis yet. Can this be the case?\n"
   ]
  },
  {
   "cell_type": "code",
   "execution_count": null,
   "id": "objective-windows",
   "metadata": {},
   "outputs": [],
   "source": [
    "psi4.set_options({\"BASIS\": \"cc-pvdz\"})\n",
    "h_test = ConstrainedMolecule(\"\"\"\n",
    "H 0 0 0\n",
    "H 0 0.86602540378 0.5\n",
    "H 0 0 1\n",
    "units angstrom\"\"\")"
   ]
  },
  {
   "cell_type": "code",
   "execution_count": null,
   "id": "upset-european",
   "metadata": {},
   "outputs": [],
   "source": [
    "s = h_test.id.overlap\n",
    "s_eigh = eigh(s)\n",
    "s_diag = np.diag(s_eigh[0]**(-1/2))\n",
    "x = s_eigh[1].dot(s_diag).dot(s_eigh[1].T)\n",
    "x.T.dot(s).dot(x)"
   ]
  },
  {
   "cell_type": "code",
   "execution_count": null,
   "id": "smooth-closer",
   "metadata": {},
   "outputs": [],
   "source": [
    "a = h_test.id.getDensityMatrix('alpha')\n",
    "b = h_test.id.getDensityMatrix('beta')\n",
    "x_i = np.linalg.inv(x)\n",
    "x_i_t = np.linalg.inv(x.T)\n",
    "a_trans = x_i.dot(a).dot(x_i_t)\n",
    "b_trans = x_i.dot(b).dot(x_i_t)\n",
    "p = (a_trans + b_trans)/2\n",
    "c = eigh(p)\n",
    "c"
   ]
  },
  {
   "cell_type": "markdown",
   "id": "olive-bleeding",
   "metadata": {},
   "source": [
    "Up untill here everything should be correct (density matrices are idempotent, p matrix has correct eigenvalues). The area below is still under construction."
   ]
  },
  {
   "cell_type": "code",
   "execution_count": null,
   "id": "public-passage",
   "metadata": {},
   "outputs": [],
   "source": [
    "f_a = h_test.id.displayFockMatrix('alpha')\n",
    "f_b = h_test.id.displayFockMatrix('beta')"
   ]
  },
  {
   "cell_type": "code",
   "execution_count": null,
   "id": "olympic-avenue",
   "metadata": {},
   "outputs": [],
   "source": [
    "f_a_trans = x.dot(f_a).dot(x.T)\n",
    "f_a_no = c[1].T.dot(f_a_trans).dot(c[1])\n",
    "f_b_trans = x.dot(f_b).dot(x.T)\n",
    "f_b_no = c[1].T.dot(f_b_trans).dot(c[1])"
   ]
  },
  {
   "cell_type": "markdown",
   "id": "exterior-visitor",
   "metadata": {},
   "source": [
    "This expression seems a bit too simple. Nevertheless, according to Tsuchimochi & Scuseria it should hold."
   ]
  },
  {
   "cell_type": "code",
   "execution_count": null,
   "id": "magnetic-saudi",
   "metadata": {
    "scrolled": true
   },
   "outputs": [],
   "source": [
    "f_cs = (f_a_no + f_b_no)/2"
   ]
  },
  {
   "cell_type": "code",
   "execution_count": null,
   "id": "suffering-hacker",
   "metadata": {},
   "outputs": [],
   "source": [
    "a = h_test.id.getDensityMatrix(\"alpha\")\n",
    "b = h_test.id.getDensityMatrix(\"beta\")\n",
    "a - b"
   ]
  },
  {
   "cell_type": "code",
   "execution_count": null,
   "id": "ancient-briefing",
   "metadata": {},
   "outputs": [],
   "source": [
    "f_b = h_test.id.displayFockMatrix(\"beta\")\n",
    "f_a = h_test.id.displayFockMatrix(\"alpha\")"
   ]
  },
  {
   "cell_type": "code",
   "execution_count": null,
   "id": "prompt-regression",
   "metadata": {},
   "outputs": [],
   "source": [
    "f_cs = (f_a + f_b)/2"
   ]
  },
  {
   "cell_type": "code",
   "execution_count": null,
   "id": "floppy-hypothesis",
   "metadata": {},
   "outputs": [],
   "source": [
    "a = h_test.id.getDensityMatrix(\"alpha\")\n",
    "b = h_test.id.getDensityMatrix(\"beta\")\n",
    "p = (a + b)/2"
   ]
  },
  {
   "cell_type": "code",
   "execution_count": null,
   "id": "jewish-affiliation",
   "metadata": {},
   "outputs": [],
   "source": [
    "c1, c = eigh(f_a, h_test.id.overlap)\n",
    "c_inv = np.linalg.inv(c)\n",
    "c_inv"
   ]
  },
  {
   "cell_type": "code",
   "execution_count": null,
   "id": "geographic-onion",
   "metadata": {},
   "outputs": [],
   "source": [
    "d = c_inv.T.dot(p).dot(c_inv)\n",
    "o1, o = eigh(d)\n",
    "o = o[:, ::-1]\n",
    "j = o.T.dot(d).dot(o)\n",
    "j[abs(j) < 1e-10] = 0\n",
    "j"
   ]
  },
  {
   "cell_type": "code",
   "execution_count": null,
   "id": "apparent-shame",
   "metadata": {},
   "outputs": [],
   "source": [
    "f_trans = c.T.dot(f_a).dot(c)\n",
    "f_trans[abs(f_trans) < 1e-10] = 0\n",
    "f_trans"
   ]
  },
  {
   "cell_type": "code",
   "execution_count": null,
   "id": "russian-junction",
   "metadata": {},
   "outputs": [],
   "source": [
    "a_trans = c_inv.dot(a).dot(c_inv.T)\n",
    "a_no = o.T.dot(a_trans).dot(o)\n",
    "a_no[abs(a_no) < 1e-10] = 0\n",
    "a_no\n"
   ]
  },
  {
   "cell_type": "code",
   "execution_count": null,
   "id": "taken-thanksgiving",
   "metadata": {},
   "outputs": [],
   "source": [
    "o.dot(a_no).dot(o.T)"
   ]
  },
  {
   "cell_type": "code",
   "execution_count": null,
   "id": "demographic-tiger",
   "metadata": {},
   "outputs": [],
   "source": [
    "a_trans"
   ]
  },
  {
   "cell_type": "code",
   "execution_count": null,
   "id": "monthly-south",
   "metadata": {},
   "outputs": [],
   "source": [
    "y = eigh(p, h_test.id.overlap)"
   ]
  },
  {
   "cell_type": "code",
   "execution_count": null,
   "id": "suburban-surge",
   "metadata": {},
   "outputs": [],
   "source": [
    "n = np.array([[1,2], [2,3]])\n",
    "v = eigh(n)\n",
    "v"
   ]
  },
  {
   "cell_type": "code",
   "execution_count": null,
   "id": "brief-sector",
   "metadata": {},
   "outputs": [],
   "source": [
    "v[1].dot(n).dot(v[1].T)"
   ]
  },
  {
   "cell_type": "code",
   "execution_count": null,
   "id": "arranged-world",
   "metadata": {},
   "outputs": [],
   "source": [
    "o.T.dot(o)"
   ]
  },
  {
   "cell_type": "code",
   "execution_count": 10,
   "id": "standard-hartford",
   "metadata": {},
   "outputs": [
    {
     "name": "stdout",
     "output_type": "stream",
     "text": [
      "iteration: 0, E_tot: -2.24803095, E_elek: -3.83556259, deltaE: -3.83556259, rmsD:  0.99113990\n",
      "iteration: 1, E_tot: -1.60543707, E_elek: -3.19296870, deltaE:  0.64259388, rmsD:  0.68751063\n",
      "iteration: 2, E_tot: -1.45727161, E_elek: -3.04480324, deltaE:  0.14816546, rmsD:  0.24397559\n",
      "iteration: 3, E_tot: -1.49514222, E_elek: -3.08267385, deltaE: -0.03787061, rmsD:  0.10630094\n",
      "iteration: 4, E_tot: -1.50115405, E_elek: -3.08868568, deltaE: -0.00601183, rmsD:  0.05111491\n",
      "iteration: 5, E_tot: -1.50242791, E_elek: -3.08995954, deltaE: -0.00127386, rmsD:  0.02536389\n",
      "iteration: 6, E_tot: -1.50282409, E_elek: -3.09035573, deltaE: -0.00039619, rmsD:  0.01276386\n",
      "iteration: 7, E_tot: -1.50297995, E_elek: -3.09051158, deltaE: -0.00015585, rmsD:  0.00648343\n",
      "iteration: 8, E_tot: -1.50304870, E_elek: -3.09058033, deltaE: -0.00006876, rmsD:  0.00331771\n",
      "iteration: 9, E_tot: -1.50308085, E_elek: -3.09061248, deltaE: -0.00003214, rmsD:  0.00170810\n",
      "iteration: 10, E_tot: -1.50309638, E_elek: -3.09062801, deltaE: -0.00001553, rmsD:  0.00088381\n",
      "iteration: 11, E_tot: -1.50310405, E_elek: -3.09063568, deltaE: -0.00000767, rmsD:  0.00045920\n",
      "iteration: 12, E_tot: -1.50310789, E_elek: -3.09063952, deltaE: -0.00000384, rmsD:  0.00023943\n",
      "iteration: 13, E_tot: -1.50310983, E_elek: -3.09064146, deltaE: -0.00000194, rmsD:  0.00012527\n",
      "iteration: 14, E_tot: -1.50311082, E_elek: -3.09064245, deltaE: -0.00000099, rmsD:  0.00006585\n",
      "iteration: 15, E_tot: -1.50311132, E_elek: -3.09064296, deltaE: -0.00000051, rmsD:  0.00003497\n",
      "iteration: 16, E_tot: -1.50311158, E_elek: -3.09064322, deltaE: -0.00000026, rmsD:  0.00001907\n",
      "iteration: 17, E_tot: -1.50311172, E_elek: -3.09064335, deltaE: -0.00000013, rmsD:  0.00001118\n",
      "iteration: 18, E_tot: -1.50311179, E_elek: -3.09064342, deltaE: -0.00000007, rmsD:  0.00000755\n",
      "iteration: 19, E_tot: -1.50311182, E_elek: -3.09064346, deltaE: -0.00000004, rmsD:  0.00000605\n",
      "iteration: 20, E_tot: -1.50311184, E_elek: -3.09064347, deltaE: -0.00000002, rmsD:  0.00000542\n",
      "iteration: 21, E_tot: -1.50311185, E_elek: -3.09064348, deltaE: -0.00000001, rmsD:  0.00000510\n",
      "iteration: 22, E_tot: -1.50311186, E_elek: -3.09064349, deltaE: -0.00000001, rmsD:  0.00000487\n",
      "iteration: 23, E_tot: -1.50311186, E_elek: -3.09064349, deltaE: -0.00000000, rmsD:  0.00000468\n",
      "iteration: 24, E_tot: -1.50311186, E_elek: -3.09064349, deltaE: -0.00000000, rmsD:  0.00000451\n",
      "iteration: 25, E_tot: -1.50311186, E_elek: -3.09064349, deltaE: -0.00000000, rmsD:  0.00000434\n",
      "iteration: 26, E_tot: -1.50311186, E_elek: -3.09064349, deltaE: -0.00000000, rmsD:  0.00000418\n",
      "iteration: 27, E_tot: -1.50311186, E_elek: -3.09064349, deltaE: -0.00000000, rmsD:  0.00000402\n",
      "iteration: 28, E_tot: -1.50311186, E_elek: -3.09064350, deltaE: -0.00000000, rmsD:  0.00000388\n",
      "iteration: 29, E_tot: -1.50311186, E_elek: -3.09064350, deltaE: -0.00000000, rmsD:  0.00000373\n",
      "iteration: 30, E_tot: -1.50311186, E_elek: -3.09064350, deltaE: -0.00000000, rmsD:  0.00000360\n",
      "iteration: 31, E_tot: -1.50311186, E_elek: -3.09064350, deltaE: -0.00000000, rmsD:  0.00000346\n",
      "iteration: 32, E_tot: -1.50311186, E_elek: -3.09064350, deltaE: -0.00000000, rmsD:  0.00000333\n",
      "iteration: 33, E_tot: -1.50311186, E_elek: -3.09064350, deltaE: -0.00000000, rmsD:  0.00000321\n",
      "iteration: 34, E_tot: -1.50311186, E_elek: -3.09064350, deltaE: -0.00000000, rmsD:  0.00000309\n",
      "iteration: 35, E_tot: -1.50311186, E_elek: -3.09064350, deltaE: -0.00000000, rmsD:  0.00000298\n",
      "iteration: 36, E_tot: -1.50311186, E_elek: -3.09064350, deltaE: -0.00000000, rmsD:  0.00000287\n",
      "iteration: 37, E_tot: -1.50311186, E_elek: -3.09064350, deltaE: -0.00000000, rmsD:  0.00000276\n"
     ]
    },
    {
     "data": {
      "text/plain": [
       "-1.5031118631721587"
      ]
     },
     "execution_count": 10,
     "metadata": {},
     "output_type": "execute_result"
    }
   ],
   "source": [
    "psi4.set_options({\"BASIS\": \"cc-pvdz\", 'reference': 'cuhf', \"scf_type\":'pk'})\n",
    "h1 = Molecule(\"\"\"\n",
    "H 0 0 0\n",
    "H 0 0.86602540378 0.5\n",
    "H 0 0 1\n",
    "units angstrom\"\"\")\n",
    "h1.setConvergence(1e-12)\n",
    "h1.iterator(constraint=True, criterion=\"energy\")"
   ]
  },
  {
   "cell_type": "code",
   "execution_count": 6,
   "id": "fatal-aspect",
   "metadata": {},
   "outputs": [
    {
     "name": "stderr",
     "output_type": "stream",
     "text": [
      "/user/gent/440/vsc44013/.local/lib/python3.7/site-packages/compChem/Hartree_Fock.py:220: FutureWarning: elementwise comparison failed; returning scalar instead, but in the future will perform elementwise comparison\n",
      "  assert self.guessMatrix_a != \"empty\" and self.guessMatrix_b != \"empty\", \"make a guess first\"\n",
      "/user/gent/440/vsc44013/.local/lib/python3.7/site-packages/compChem/Hartree_Fock.py:65: FutureWarning: elementwise comparison failed; returning scalar instead, but in the future will perform elementwise comparison\n",
      "  if self.guessMatrix_a == \"empty\" and self.guessMatrix_b == \"empty\":\n"
     ]
    },
    {
     "name": "stdout",
     "output_type": "stream",
     "text": [
      "iteration: 0, E_tot: -224.92780366, E_elek: -289.28113512, deltaE: -289.28113512, rmsD:  7.17076221\n",
      "iteration: 1, E_tot: -99.61654603, E_elek: -163.96987749, deltaE:  125.31125763, rmsD:  7.33587836\n",
      "iteration: 2, E_tot: -125.38927455, E_elek: -189.74260601, deltaE: -25.77272852, rmsD:  7.47442054\n",
      "iteration: 3, E_tot: -107.12458755, E_elek: -171.47791900, deltaE:  18.26468700, rmsD:  7.53625150\n",
      "iteration: 4, E_tot: -126.09673724, E_elek: -190.45006869, deltaE: -18.97214969, rmsD:  7.49504107\n",
      "iteration: 5, E_tot: -107.86881585, E_elek: -172.22214731, deltaE:  18.22792138, rmsD:  7.51014366\n",
      "iteration: 6, E_tot: -125.81175854, E_elek: -190.16509000, deltaE: -17.94294268, rmsD:  7.99520767\n",
      "iteration: 7, E_tot: -109.69044879, E_elek: -174.04378025, deltaE:  16.12130974, rmsD:  8.19328639\n",
      "iteration: 8, E_tot: -121.98736893, E_elek: -186.34070039, deltaE: -12.29692014, rmsD:  8.15818458\n",
      "iteration: 9, E_tot: -115.56143984, E_elek: -179.91477130, deltaE:  6.42592909, rmsD:  8.25261189\n",
      "iteration: 10, E_tot: -118.83668131, E_elek: -183.19001277, deltaE: -3.27524146, rmsD:  8.19092956\n",
      "iteration: 11, E_tot: -118.59188053, E_elek: -182.94521199, deltaE:  0.24480078, rmsD:  8.20800789\n",
      "iteration: 12, E_tot: -118.61039278, E_elek: -182.96372423, deltaE: -0.01851225, rmsD:  8.20490037\n",
      "iteration: 13, E_tot: -118.59344217, E_elek: -182.94677363, deltaE:  0.01695060, rmsD:  8.20955941\n",
      "iteration: 14, E_tot: -118.60085587, E_elek: -182.95418733, deltaE: -0.00741369, rmsD:  8.20929635\n",
      "iteration: 15, E_tot: -118.59766013, E_elek: -182.95099159, deltaE:  0.00319573, rmsD:  8.21053138\n",
      "iteration: 16, E_tot: -118.59939971, E_elek: -182.95273117, deltaE: -0.00173958, rmsD:  8.21059676\n",
      "iteration: 17, E_tot: -118.59873548, E_elek: -182.95206694, deltaE:  0.00066423, rmsD:  8.21093901\n",
      "iteration: 18, E_tot: -118.59913555, E_elek: -182.95246701, deltaE: -0.00040007, rmsD:  8.21099475\n",
      "iteration: 19, E_tot: -118.59900006, E_elek: -182.95233152, deltaE:  0.00013549, rmsD:  8.21109380\n",
      "iteration: 20, E_tot: -118.59909357, E_elek: -182.95242502, deltaE: -0.00009351, rmsD:  8.21111996\n",
      "iteration: 21, E_tot: -118.59906723, E_elek: -182.95239869, deltaE:  0.00002634, rmsD:  8.21114975\n",
      "iteration: 22, E_tot: -118.59908967, E_elek: -182.95242112, deltaE: -0.00002244, rmsD:  8.21116018\n",
      "iteration: 23, E_tot: -118.59908502, E_elek: -182.95241648, deltaE:  0.00000464, rmsD:  8.21116942\n",
      "iteration: 24, E_tot: -118.59909059, E_elek: -182.95242205, deltaE: -0.00000557, rmsD:  8.21117329\n",
      "iteration: 25, E_tot: -118.59908995, E_elek: -182.95242141, deltaE:  0.00000064, rmsD:  8.21117623\n",
      "iteration: 26, E_tot: -118.59909139, E_elek: -182.95242285, deltaE: -0.00000144, rmsD:  8.21117760\n",
      "iteration: 27, E_tot: -118.59909138, E_elek: -182.95242284, deltaE:  0.00000001, rmsD:  8.21117855\n",
      "iteration: 28, E_tot: -118.59909177, E_elek: -182.95242323, deltaE: -0.00000039, rmsD:  8.21117903\n",
      "iteration: 29, E_tot: -118.59909181, E_elek: -182.95242327, deltaE: -0.00000004, rmsD:  8.21117935\n",
      "iteration: 30, E_tot: -118.59909192, E_elek: -182.95242338, deltaE: -0.00000011, rmsD:  8.21117951\n",
      "iteration: 31, E_tot: -118.59909194, E_elek: -182.95242340, deltaE: -0.00000002, rmsD:  8.21117961\n",
      "iteration: 32, E_tot: -118.59909198, E_elek: -182.95242344, deltaE: -0.00000003, rmsD:  8.21117967\n",
      "iteration: 33, E_tot: -118.59909199, E_elek: -182.95242345, deltaE: -0.00000001, rmsD:  8.21117970\n",
      "iteration: 34, E_tot: -118.59909200, E_elek: -182.95242346, deltaE: -0.00000001, rmsD:  8.21117972\n",
      "iteration: 35, E_tot: -118.59909200, E_elek: -182.95242346, deltaE: -0.00000000, rmsD:  8.21117973\n",
      "iteration: 36, E_tot: -118.59909200, E_elek: -182.95242346, deltaE: -0.00000000, rmsD:  8.21117974\n",
      "iteration: 37, E_tot: -118.59909201, E_elek: -182.95242346, deltaE: -0.00000000, rmsD:  8.21117975\n",
      "iteration: 38, E_tot: -118.59909201, E_elek: -182.95242347, deltaE: -0.00000000, rmsD:  8.21117975\n",
      "iteration: 39, E_tot: -118.59909201, E_elek: -182.95242347, deltaE: -0.00000000, rmsD:  8.21117975\n",
      "iteration: 40, E_tot: -118.59909201, E_elek: -182.95242347, deltaE: -0.00000000, rmsD:  8.21117975\n",
      "iteration: 41, E_tot: -118.59909201, E_elek: -182.95242347, deltaE: -0.00000000, rmsD:  8.21117975\n",
      "iteration: 42, E_tot: -118.59909201, E_elek: -182.95242347, deltaE: -0.00000000, rmsD:  8.21117975\n",
      "iteration: 43, E_tot: -118.59909201, E_elek: -182.95242347, deltaE: -0.00000000, rmsD:  8.21117975\n",
      "iteration: 44, E_tot: -118.59909201, E_elek: -182.95242347, deltaE: -0.00000000, rmsD:  8.21117975\n",
      "iteration: 45, E_tot: -118.59909201, E_elek: -182.95242347, deltaE: -0.00000000, rmsD:  8.21117975\n",
      "iteration: 46, E_tot: -118.59909201, E_elek: -182.95242347, deltaE: -0.00000000, rmsD:  8.21117975\n",
      "iteration: 47, E_tot: -118.59909201, E_elek: -182.95242347, deltaE: -0.00000000, rmsD:  8.21117975\n",
      "iteration: 48, E_tot: -118.59909201, E_elek: -182.95242347, deltaE: -0.00000000, rmsD:  8.21117975\n",
      "iteration: 49, E_tot: -118.59909201, E_elek: -182.95242347, deltaE: -0.00000000, rmsD:  8.21117975\n",
      "iteration: 50, E_tot: -118.59909201, E_elek: -182.95242347, deltaE: -0.00000000, rmsD:  8.21117975\n",
      "iteration: 51, E_tot: -118.59909201, E_elek: -182.95242347, deltaE: -0.00000000, rmsD:  8.21117975\n",
      "iteration: 52, E_tot: -118.59909201, E_elek: -182.95242347, deltaE: -0.00000000, rmsD:  8.21117975\n",
      "iteration: 53, E_tot: -118.59909201, E_elek: -182.95242347, deltaE: -0.00000000, rmsD:  8.21117975\n",
      "iteration: 54, E_tot: -118.59909201, E_elek: -182.95242347, deltaE: -0.00000000, rmsD:  8.21117975\n",
      "iteration: 55, E_tot: -118.59909201, E_elek: -182.95242347, deltaE: -0.00000000, rmsD:  8.21117975\n",
      "iteration: 56, E_tot: -118.59909201, E_elek: -182.95242347, deltaE:  0.00000000, rmsD:  8.21117975\n"
     ]
    },
    {
     "data": {
      "text/plain": [
       "-118.59909200779819"
      ]
     },
     "execution_count": 6,
     "metadata": {},
     "output_type": "execute_result"
    }
   ],
   "source": [
    "psi4.set_options({\"basis\":\"STO-3G\", 'reference':'cuhf', \"scf_type\":'pk'})\n",
    "allyl = Molecule(\"\"\"\n",
    "0 2\n",
    "H\n",
    "C 1 r2\n",
    "C 2 r3 1 a3\n",
    "C 2 r3 1 a3 3 180.\n",
    "H 3 r5 2 a5 1 0.\n",
    "H 4 r5 2 a5 1 0.\n",
    "H 3 r7 2 a7 1 180.\n",
    "H 4 r7 2 a7 1 180.\n",
    "\n",
    "r2=1.08424658\n",
    "r3=1.40526604\n",
    "r5=1.08095381\n",
    "r7=1.08131649\n",
    "a3=117.99450641\n",
    "a5=121.41544408\n",
    "a7=121.21891262\n",
    "symmetry c1\n",
    "\n",
    "\"\"\")\n",
    "allyl.setConvergence(1e-20)\n",
    "allyl.iterator(criterion=\"energy\", constraint=True)"
   ]
  },
  {
   "cell_type": "code",
   "execution_count": 5,
   "id": "quality-breakfast",
   "metadata": {},
   "outputs": [
    {
     "data": {
      "text/plain": [
       "-115.0089300602825"
      ]
     },
     "execution_count": 5,
     "metadata": {},
     "output_type": "execute_result"
    }
   ],
   "source": [
    "psi4.set_options({\"basis\":\"STO-3G\", 'reference':'cuhf', \"scf_type\":'pk'})\n",
    "allyl = psi4.geometry(\"\"\"\n",
    "0 2\n",
    "H\n",
    "C 1 r2\n",
    "C 2 r3 1 a3\n",
    "C 2 r3 1 a3 3 180.\n",
    "H 3 r5 2 a5 1 0.\n",
    "H 4 r5 2 a5 1 0.\n",
    "H 3 r7 2 a7 1 180.\n",
    "H 4 r7 2 a7 1 180.\n",
    "\n",
    "r2=1.08424658\n",
    "r3=1.40526604\n",
    "r5=1.08095381\n",
    "r7=1.08131649\n",
    "a3=117.99450641\n",
    "a5=121.41544408\n",
    "a7=121.21891262\n",
    "symmetry c1\n",
    "\n",
    "\"\"\")\n",
    "psi4.energy('scf')"
   ]
  },
  {
   "cell_type": "code",
   "execution_count": 11,
   "id": "reported-coach",
   "metadata": {},
   "outputs": [
    {
     "name": "stdout",
     "output_type": "stream",
     "text": [
      "\tSearching PubChem database for water (single best match returned)\n",
      "\tFound 1 result(s)\n",
      "iteration: 0, E_tot: -123.66699392, E_elek: -132.75135843, deltaE: -132.75135843, rmsD:  4.67572245\n",
      "iteration: 1, E_tot: -60.81308436, E_elek: -69.89744886, deltaE:  62.85390957, rmsD:  4.14832944\n",
      "iteration: 2, E_tot: -88.50897986, E_elek: -97.59334437, deltaE: -27.69589551, rmsD:  1.72332822\n",
      "iteration: 3, E_tot: -67.37770771, E_elek: -76.46207222, deltaE:  21.13127215, rmsD:  1.22873524\n",
      "iteration: 4, E_tot: -81.66496361, E_elek: -90.74932811, deltaE: -14.28725589, rmsD:  0.63090933\n",
      "iteration: 5, E_tot: -72.55885114, E_elek: -81.64321565, deltaE:  9.10611247, rmsD:  0.40024642\n",
      "iteration: 6, E_tot: -78.10946343, E_elek: -87.19382794, deltaE: -5.55061229, rmsD:  0.22261410\n",
      "iteration: 7, E_tot: -74.80520730, E_elek: -83.88957181, deltaE:  3.30425613, rmsD:  0.13439040\n",
      "iteration: 8, E_tot: -76.74418344, E_elek: -85.82854795, deltaE: -1.93897614, rmsD:  0.07660011\n",
      "iteration: 9, E_tot: -75.60784598, E_elek: -84.69221049, deltaE:  1.13633746, rmsD:  0.04538427\n",
      "iteration: 10, E_tot: -76.27058895, E_elek: -85.35495346, deltaE: -0.66274296, rmsD:  0.02617671\n",
      "iteration: 11, E_tot: -75.88352531, E_elek: -84.96788982, deltaE:  0.38706363, rmsD:  0.01538394\n",
      "iteration: 12, E_tot: -76.10917807, E_elek: -85.19354258, deltaE: -0.22565276, rmsD:  0.00892238\n",
      "iteration: 13, E_tot: -75.97750726, E_elek: -85.06187177, deltaE:  0.13167081, rmsD:  0.00522439\n",
      "iteration: 14, E_tot: -76.05428121, E_elek: -85.13864571, deltaE: -0.07677394, rmsD:  0.00303790\n",
      "iteration: 15, E_tot: -76.00949549, E_elek: -85.09386000, deltaE:  0.04478571, rmsD:  0.00177568\n",
      "iteration: 16, E_tot: -76.03561187, E_elek: -85.11997638, deltaE: -0.02611638, rmsD:  0.00103385\n",
      "iteration: 17, E_tot: -76.02037864, E_elek: -85.10474315, deltaE:  0.01523323, rmsD:  0.00060374\n",
      "iteration: 18, E_tot: -76.02926228, E_elek: -85.11362679, deltaE: -0.00888364, rmsD:  0.00035176\n",
      "iteration: 19, E_tot: -76.02408085, E_elek: -85.10844536, deltaE:  0.00518143, rmsD:  0.00020531\n",
      "iteration: 20, E_tot: -76.02710263, E_elek: -85.11146714, deltaE: -0.00302178, rmsD:  0.00011967\n",
      "iteration: 21, E_tot: -76.02534021, E_elek: -85.10970471, deltaE:  0.00176242, rmsD:  0.00006983\n",
      "iteration: 22, E_tot: -76.02636806, E_elek: -85.11073257, deltaE: -0.00102785, rmsD:  0.00004071\n",
      "iteration: 23, E_tot: -76.02576858, E_elek: -85.11013309, deltaE:  0.00059948, rmsD:  0.00002375\n",
      "iteration: 24, E_tot: -76.02611820, E_elek: -85.11048271, deltaE: -0.00034962, rmsD:  0.00001385\n",
      "iteration: 25, E_tot: -76.02591429, E_elek: -85.11027880, deltaE:  0.00020391, rmsD:  0.00000808\n",
      "iteration: 26, E_tot: -76.02603322, E_elek: -85.11039772, deltaE: -0.00011892, rmsD:  0.00000471\n",
      "iteration: 27, E_tot: -76.02596386, E_elek: -85.11032836, deltaE:  0.00006936, rmsD:  0.00000275\n",
      "iteration: 28, E_tot: -76.02600431, E_elek: -85.11036882, deltaE: -0.00004045, rmsD:  0.00000160\n",
      "iteration: 29, E_tot: -76.02598072, E_elek: -85.11034522, deltaE:  0.00002359, rmsD:  0.00000093\n",
      "iteration: 30, E_tot: -76.02599447, E_elek: -85.11035898, deltaE: -0.00001376, rmsD:  0.00000055\n",
      "iteration: 31, E_tot: -76.02598645, E_elek: -85.11035096, deltaE:  0.00000802, rmsD:  0.00000032\n",
      "iteration: 32, E_tot: -76.02599113, E_elek: -85.11035564, deltaE: -0.00000468, rmsD:  0.00000019\n",
      "iteration: 33, E_tot: -76.02598840, E_elek: -85.11035291, deltaE:  0.00000273, rmsD:  0.00000011\n",
      "iteration: 34, E_tot: -76.02598999, E_elek: -85.11035450, deltaE: -0.00000159, rmsD:  0.00000006\n",
      "iteration: 35, E_tot: -76.02598906, E_elek: -85.11035357, deltaE:  0.00000093, rmsD:  0.00000004\n"
     ]
    },
    {
     "data": {
      "text/plain": [
       "-76.02598906430691"
      ]
     },
     "execution_count": 11,
     "metadata": {},
     "output_type": "execute_result"
    }
   ],
   "source": [
    "h2o = Molecule(\"\"\"pubchem:water\"\"\")\n",
    "h2o.iterator(constraint=True, criterion=\"energy\")"
   ]
  },
  {
   "cell_type": "code",
   "execution_count": 12,
   "id": "cardiovascular-peripheral",
   "metadata": {},
   "outputs": [
    {
     "data": {
      "text/plain": [
       "-76.02598940628799"
      ]
     },
     "execution_count": 12,
     "metadata": {},
     "output_type": "execute_result"
    }
   ],
   "source": [
    "psi4.energy(\"scf\")"
   ]
  },
  {
   "cell_type": "code",
   "execution_count": null,
   "id": "proud-seafood",
   "metadata": {},
   "outputs": [],
   "source": []
  }
 ],
 "metadata": {
  "kernelspec": {
   "display_name": "Python 3",
   "language": "python",
   "name": "python3"
  },
  "language_info": {
   "codemirror_mode": {
    "name": "ipython",
    "version": 3
   },
   "file_extension": ".py",
   "mimetype": "text/x-python",
   "name": "python",
   "nbconvert_exporter": "python",
   "pygments_lexer": "ipython3",
   "version": "3.7.9"
  }
 },
 "nbformat": 4,
 "nbformat_minor": 5
}
