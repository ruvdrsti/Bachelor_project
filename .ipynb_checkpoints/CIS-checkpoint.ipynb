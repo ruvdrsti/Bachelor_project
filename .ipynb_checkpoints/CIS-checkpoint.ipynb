{
 "cells": [
  {
   "cell_type": "markdown",
   "id": "twelve-linux",
   "metadata": {},
   "source": [
    "# Single Configuration interaction and its effect on CUHF"
   ]
  },
  {
   "cell_type": "markdown",
   "id": "environmental-encyclopedia",
   "metadata": {},
   "source": [
    "This notebook will revolve around the use of single excited configuration interaction and what it's effects are on the CUHF energy. We will first attempt to apply it to normal UHF and then we will move on to CUHF."
   ]
  },
  {
   "cell_type": "markdown",
   "id": "cathedral-generator",
   "metadata": {},
   "source": [
    "### CIS in RHF"
   ]
  },
  {
   "cell_type": "markdown",
   "id": "tropical-celebrity",
   "metadata": {},
   "source": [
    "We will discuss some of the theory here, what will be important for our discussion of UHF. This is by no means a complete overview of CIS for RHF."
   ]
  },
  {
   "cell_type": "markdown",
   "id": "expensive-server",
   "metadata": {},
   "source": [
    "Before we start, we will have to mention a few formulas that will be helpfull. The first one is Equation \\eqref{eq:energy}.\n",
    "\n",
    "\\begin{equation*}\\label{eq:energy}\\tag{1}\n",
    "E_{CIS} = E_0 + 2\\sum_{ia}c_0c^a_iF_{ia} + \\sum_{iab}c_i^ac_i^bF_{ab} - \\sum_{ija}c_i^ac_j^aF_{ij} + \\sum_{ijab}c_i^{a}c_j^{b}(aj||ib)\n",
    "\\end{equation*}\n",
    "This CIS energy can be modified for RHF."
   ]
  },
  {
   "cell_type": "markdown",
   "id": "nervous-cross",
   "metadata": {},
   "source": []
  },
  {
   "cell_type": "markdown",
   "id": "conceptual-interference",
   "metadata": {},
   "source": []
  },
  {
   "cell_type": "code",
   "execution_count": null,
   "id": "typical-champion",
   "metadata": {},
   "outputs": [],
   "source": []
  }
 ],
 "metadata": {
  "kernelspec": {
   "display_name": "Python 3",
   "language": "python",
   "name": "python3"
  },
  "language_info": {
   "codemirror_mode": {
    "name": "ipython",
    "version": 3
   },
   "file_extension": ".py",
   "mimetype": "text/x-python",
   "name": "python",
   "nbconvert_exporter": "python",
   "pygments_lexer": "ipython3",
   "version": "3.7.9"
  }
 },
 "nbformat": 4,
 "nbformat_minor": 5
}
